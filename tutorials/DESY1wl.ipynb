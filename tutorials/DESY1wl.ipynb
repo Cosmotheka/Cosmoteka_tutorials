{
 "cells": [
  {
   "cell_type": "markdown",
   "metadata": {},
   "source": [
    "# DESY1 WL"
   ]
  },
  {
   "cell_type": "code",
   "execution_count": 1,
   "metadata": {},
   "outputs": [],
   "source": [
    "# some_file.py\n",
    "import sys\n",
    "import yaml\n",
    "# insert at 1, 0 is the script path (or '' in REPL)\n",
    "\n",
    "sys.path.insert(1, '/home/jaimerz/PhD/xCell')\n",
    "\n",
    "from xcell.mappers import MapperDESY1wl\n",
    "from xcell.mappers import utils\n",
    "from xcell.cls.data import Data\n",
    "from xcell.cls.cl import Cl\n",
    "from xcell.cls.cov import Cov\n",
    "from astropy.io import fits\n",
    "from astropy.table import Table\n",
    "import pyccl as ccl\n",
    "import numpy as np\n",
    "import pylab as plt\n",
    "import pymaster as nmt\n",
    "import healpy as hp\n",
    "import numpy as np"
   ]
  },
  {
   "cell_type": "markdown",
   "metadata": {},
   "source": [
    "### Configurations"
   ]
  },
  {
   "cell_type": "code",
   "execution_count": 2,
   "metadata": {},
   "outputs": [],
   "source": [
    "data = Data(data_path=\"../config_files/master.yml\")"
   ]
  },
  {
   "cell_type": "markdown",
   "metadata": {},
   "source": [
    "### Mappers"
   ]
  },
  {
   "cell_type": "code",
   "execution_count": 3,
   "metadata": {},
   "outputs": [],
   "source": [
    "DESY1wl__0 = data.get_mapper(\"DESY1wl__0\")\n",
    "DESY1wl__1 = data.get_mapper(\"DESY1wl__1\")\n",
    "DESY1wl__2 = data.get_mapper(\"DESY1wl__2\")\n",
    "DESY1wl__3 = data.get_mapper(\"DESY1wl__3\")"
   ]
  },
  {
   "cell_type": "code",
   "execution_count": 4,
   "metadata": {},
   "outputs": [
    {
     "name": "stdout",
     "output_type": "stream",
     "text": [
      "Computing bin0 signal map\n",
      "Loading full cat\n"
     ]
    },
    {
     "ename": "FileNotFoundError",
     "evalue": "[Errno 2] No such file or directory: '../../cataloges/DES_Y1/shear_catalog/mcal-y1a1-combined-riz-unblind-v4-matched.fits'",
     "output_type": "error",
     "traceback": [
      "\u001b[0;31m---------------------------------------------------------------------------\u001b[0m",
      "\u001b[0;31mFileNotFoundError\u001b[0m                         Traceback (most recent call last)",
      "\u001b[1;32m/home/jaimerz/PhD/Cosmoteka_tutorials/tutorials/DESY1wl.ipynb Cell 7\u001b[0m line \u001b[0;36m1\n\u001b[0;32m----> <a href='vscode-notebook-cell://wsl%2Bubuntu/home/jaimerz/PhD/Cosmoteka_tutorials/tutorials/DESY1wl.ipynb#W6sdnNjb2RlLXJlbW90ZQ%3D%3D?line=0'>1</a>\u001b[0m DESY1wl__0_map \u001b[39m=\u001b[39m DESY1wl__0\u001b[39m.\u001b[39;49mget_signal_map()\n\u001b[1;32m      <a href='vscode-notebook-cell://wsl%2Bubuntu/home/jaimerz/PhD/Cosmoteka_tutorials/tutorials/DESY1wl.ipynb#W6sdnNjb2RlLXJlbW90ZQ%3D%3D?line=1'>2</a>\u001b[0m DESY1wl__1_map \u001b[39m=\u001b[39m DESY1wl__1\u001b[39m.\u001b[39mget_signal_map()\n\u001b[1;32m      <a href='vscode-notebook-cell://wsl%2Bubuntu/home/jaimerz/PhD/Cosmoteka_tutorials/tutorials/DESY1wl.ipynb#W6sdnNjb2RlLXJlbW90ZQ%3D%3D?line=2'>3</a>\u001b[0m DESY1wl__2_map \u001b[39m=\u001b[39m DESY1wl__2\u001b[39m.\u001b[39mget_signal_map()\n",
      "File \u001b[0;32m~/PhD/xCell/xcell/mappers/mapper_DESY1wl.py:217\u001b[0m, in \u001b[0;36mMapperDESY1wl.get_signal_map\u001b[0;34m(self, mode)\u001b[0m\n\u001b[1;32m    212\u001b[0m     \u001b[39mreturn\u001b[39;00m \u001b[39mself\u001b[39m\u001b[39m.\u001b[39m_get_ellipticity_maps(mode\u001b[39m=\u001b[39mmode)\n\u001b[1;32m    214\u001b[0m fn \u001b[39m=\u001b[39m \u001b[39m'\u001b[39m\u001b[39m_\u001b[39m\u001b[39m'\u001b[39m\u001b[39m.\u001b[39mjoin([\u001b[39mf\u001b[39m\u001b[39m'\u001b[39m\u001b[39m{\u001b[39;00m\u001b[39mself\u001b[39m\u001b[39m.\u001b[39mmap_name\u001b[39m}\u001b[39;00m\u001b[39m_signal_map_\u001b[39m\u001b[39m{\u001b[39;00mmod\u001b[39m}\u001b[39;00m\u001b[39m'\u001b[39m,\n\u001b[1;32m    215\u001b[0m                \u001b[39mf\u001b[39m\u001b[39m'\u001b[39m\u001b[39mcoord\u001b[39m\u001b[39m{\u001b[39;00m\u001b[39mself\u001b[39m\u001b[39m.\u001b[39mcoords\u001b[39m}\u001b[39;00m\u001b[39m'\u001b[39m,\n\u001b[1;32m    216\u001b[0m                \u001b[39mf\u001b[39m\u001b[39m'\u001b[39m\u001b[39mns\u001b[39m\u001b[39m{\u001b[39;00m\u001b[39mself\u001b[39m\u001b[39m.\u001b[39mnside\u001b[39m}\u001b[39;00m\u001b[39m.fits.gz\u001b[39m\u001b[39m'\u001b[39m])\n\u001b[0;32m--> 217\u001b[0m d \u001b[39m=\u001b[39m \u001b[39mself\u001b[39;49m\u001b[39m.\u001b[39;49m_rerun_read_cycle(fn, \u001b[39m'\u001b[39;49m\u001b[39mFITSMap\u001b[39;49m\u001b[39m'\u001b[39;49m, get_ellip_maps,\n\u001b[1;32m    218\u001b[0m                            section\u001b[39m=\u001b[39;49m[\u001b[39m0\u001b[39;49m, \u001b[39m1\u001b[39;49m])\n\u001b[1;32m    219\u001b[0m \u001b[39mself\u001b[39m\u001b[39m.\u001b[39mmaps[mod] \u001b[39m=\u001b[39m np\u001b[39m.\u001b[39marray([d[\u001b[39m0\u001b[39m], d[\u001b[39m1\u001b[39m]])\n\u001b[1;32m    220\u001b[0m \u001b[39mself\u001b[39m\u001b[39m.\u001b[39msignal_map \u001b[39m=\u001b[39m \u001b[39mself\u001b[39m\u001b[39m.\u001b[39mmaps[mod]\n",
      "File \u001b[0;32m~/PhD/xCell/xcell/mappers/mapper_base.py:136\u001b[0m, in \u001b[0;36mMapperBase._rerun_read_cycle\u001b[0;34m(self, fname, ftype, func, section, saved_by_func)\u001b[0m\n\u001b[1;32m    133\u001b[0m d \u001b[39m=\u001b[39m get_rerun_data(\u001b[39mself\u001b[39m, fname, ftype,\n\u001b[1;32m    134\u001b[0m                    section\u001b[39m=\u001b[39msection)\n\u001b[1;32m    135\u001b[0m \u001b[39mif\u001b[39;00m d \u001b[39mis\u001b[39;00m \u001b[39mNone\u001b[39;00m:\n\u001b[0;32m--> 136\u001b[0m     d \u001b[39m=\u001b[39m func()\n\u001b[1;32m    137\u001b[0m     \u001b[39mif\u001b[39;00m \u001b[39mnot\u001b[39;00m saved_by_func:\n\u001b[1;32m    138\u001b[0m         save_rerun_data(\u001b[39mself\u001b[39m, fname, ftype, d)\n",
      "File \u001b[0;32m~/PhD/xCell/xcell/mappers/mapper_DESY1wl.py:212\u001b[0m, in \u001b[0;36mMapperDESY1wl.get_signal_map.<locals>.get_ellip_maps\u001b[0;34m()\u001b[0m\n\u001b[1;32m    211\u001b[0m \u001b[39mdef\u001b[39;00m \u001b[39mget_ellip_maps\u001b[39m():\n\u001b[0;32m--> 212\u001b[0m     \u001b[39mreturn\u001b[39;00m \u001b[39mself\u001b[39;49m\u001b[39m.\u001b[39;49m_get_ellipticity_maps(mode\u001b[39m=\u001b[39;49mmode)\n",
      "File \u001b[0;32m~/PhD/xCell/xcell/mappers/mapper_DESY1wl.py:190\u001b[0m, in \u001b[0;36mMapperDESY1wl._get_ellipticity_maps\u001b[0;34m(self, mode)\u001b[0m\n\u001b[1;32m    188\u001b[0m e1f, e2f, mod \u001b[39m=\u001b[39m \u001b[39mself\u001b[39m\u001b[39m.\u001b[39m_set_mode(mode)\n\u001b[1;32m    189\u001b[0m \u001b[39mprint\u001b[39m(\u001b[39m'\u001b[39m\u001b[39mComputing bin\u001b[39m\u001b[39m{}\u001b[39;00m\u001b[39m signal map\u001b[39m\u001b[39m'\u001b[39m\u001b[39m.\u001b[39mformat(\u001b[39mself\u001b[39m\u001b[39m.\u001b[39mzbin))\n\u001b[0;32m--> 190\u001b[0m cat_data \u001b[39m=\u001b[39m \u001b[39mself\u001b[39;49m\u001b[39m.\u001b[39;49mget_catalog()\n\u001b[1;32m    191\u001b[0m we1, we2 \u001b[39m=\u001b[39m get_map_from_points(cat_data, \u001b[39mself\u001b[39m\u001b[39m.\u001b[39mnside,\n\u001b[1;32m    192\u001b[0m                                qu\u001b[39m=\u001b[39m[\u001b[39m-\u001b[39mcat_data[e1f], cat_data[e2f]],\n\u001b[1;32m    193\u001b[0m                                ra_name\u001b[39m=\u001b[39m\u001b[39m'\u001b[39m\u001b[39mra\u001b[39m\u001b[39m'\u001b[39m,\n\u001b[1;32m    194\u001b[0m                                dec_name\u001b[39m=\u001b[39m\u001b[39m'\u001b[39m\u001b[39mdec\u001b[39m\u001b[39m'\u001b[39m,\n\u001b[1;32m    195\u001b[0m                                rot\u001b[39m=\u001b[39m\u001b[39mself\u001b[39m\u001b[39m.\u001b[39mrot)\n\u001b[1;32m    196\u001b[0m mask \u001b[39m=\u001b[39m \u001b[39mself\u001b[39m\u001b[39m.\u001b[39mget_mask()\n",
      "File \u001b[0;32m~/PhD/xCell/xcell/mappers/mapper_DESY1wl.py:58\u001b[0m, in \u001b[0;36mMapperDESY1wl.get_catalog\u001b[0;34m(self)\u001b[0m\n\u001b[1;32m     48\u001b[0m \u001b[39m\u001b[39m\u001b[39m\"\"\"\u001b[39;00m\n\u001b[1;32m     49\u001b[0m \u001b[39mReturns the chosen redshift bin of the \\\u001b[39;00m\n\u001b[1;32m     50\u001b[0m \u001b[39mmappers catalog after removing the \\\u001b[39;00m\n\u001b[0;32m   (...)\u001b[0m\n\u001b[1;32m     54\u001b[0m \u001b[39m    cat_data (Array)\u001b[39;00m\n\u001b[1;32m     55\u001b[0m \u001b[39m\"\"\"\u001b[39;00m\n\u001b[1;32m     56\u001b[0m \u001b[39mif\u001b[39;00m \u001b[39mself\u001b[39m\u001b[39m.\u001b[39mcat_data \u001b[39mis\u001b[39;00m \u001b[39mNone\u001b[39;00m:\n\u001b[1;32m     57\u001b[0m     \u001b[39m# load cat\u001b[39;00m\n\u001b[0;32m---> 58\u001b[0m     \u001b[39mself\u001b[39m\u001b[39m.\u001b[39mcat_data \u001b[39m=\u001b[39m \u001b[39mself\u001b[39;49m\u001b[39m.\u001b[39;49m_load_catalog()\n\u001b[1;32m     59\u001b[0m     \u001b[39m# get items for calibration\u001b[39;00m\n\u001b[1;32m     60\u001b[0m     \u001b[39mself\u001b[39m\u001b[39m.\u001b[39mRs \u001b[39m=\u001b[39m \u001b[39mself\u001b[39m\u001b[39m.\u001b[39m_get_Rs()\n",
      "File \u001b[0;32m~/PhD/xCell/xcell/mappers/mapper_DESY1wl.py:113\u001b[0m, in \u001b[0;36mMapperDESY1wl._load_catalog\u001b[0;34m(self)\u001b[0m\n\u001b[1;32m    111\u001b[0m \u001b[39mdef\u001b[39;00m \u001b[39m_load_catalog\u001b[39m(\u001b[39mself\u001b[39m):\n\u001b[1;32m    112\u001b[0m     fn \u001b[39m=\u001b[39m \u001b[39mf\u001b[39m\u001b[39m'\u001b[39m\u001b[39m{\u001b[39;00m\u001b[39mself\u001b[39m\u001b[39m.\u001b[39mmap_name\u001b[39m}\u001b[39;00m\u001b[39m_catalog_rerun.fits\u001b[39m\u001b[39m'\u001b[39m\n\u001b[0;32m--> 113\u001b[0m     cat \u001b[39m=\u001b[39m \u001b[39mself\u001b[39;49m\u001b[39m.\u001b[39;49m_rerun_read_cycle(fn, \u001b[39m'\u001b[39;49m\u001b[39mFITSTable\u001b[39;49m\u001b[39m'\u001b[39;49m,\n\u001b[1;32m    114\u001b[0m                                  \u001b[39mself\u001b[39;49m\u001b[39m.\u001b[39;49m_load_catalog_from_raw)\n\u001b[1;32m    115\u001b[0m     \u001b[39mreturn\u001b[39;00m Table(cat)\n",
      "File \u001b[0;32m~/PhD/xCell/xcell/mappers/mapper_base.py:136\u001b[0m, in \u001b[0;36mMapperBase._rerun_read_cycle\u001b[0;34m(self, fname, ftype, func, section, saved_by_func)\u001b[0m\n\u001b[1;32m    133\u001b[0m d \u001b[39m=\u001b[39m get_rerun_data(\u001b[39mself\u001b[39m, fname, ftype,\n\u001b[1;32m    134\u001b[0m                    section\u001b[39m=\u001b[39msection)\n\u001b[1;32m    135\u001b[0m \u001b[39mif\u001b[39;00m d \u001b[39mis\u001b[39;00m \u001b[39mNone\u001b[39;00m:\n\u001b[0;32m--> 136\u001b[0m     d \u001b[39m=\u001b[39m func()\n\u001b[1;32m    137\u001b[0m     \u001b[39mif\u001b[39;00m \u001b[39mnot\u001b[39;00m saved_by_func:\n\u001b[1;32m    138\u001b[0m         save_rerun_data(\u001b[39mself\u001b[39m, fname, ftype, d)\n",
      "File \u001b[0;32m~/PhD/xCell/xcell/mappers/mapper_DESY1wl.py:87\u001b[0m, in \u001b[0;36mMapperDESY1wl._load_catalog_from_raw\u001b[0;34m(self)\u001b[0m\n\u001b[1;32m     84\u001b[0m columns_zbin \u001b[39m=\u001b[39m [\u001b[39m'\u001b[39m\u001b[39mzbin_mcal\u001b[39m\u001b[39m'\u001b[39m, \u001b[39m'\u001b[39m\u001b[39mzbin_mcal_1p\u001b[39m\u001b[39m'\u001b[39m,\n\u001b[1;32m     85\u001b[0m                 \u001b[39m'\u001b[39m\u001b[39mzbin_mcal_1m\u001b[39m\u001b[39m'\u001b[39m, \u001b[39m'\u001b[39m\u001b[39mzbin_mcal_2p\u001b[39m\u001b[39m'\u001b[39m, \u001b[39m'\u001b[39m\u001b[39mzbin_mcal_2m\u001b[39m\u001b[39m'\u001b[39m]\n\u001b[1;32m     86\u001b[0m \u001b[39mprint\u001b[39m(\u001b[39m'\u001b[39m\u001b[39mLoading full cat\u001b[39m\u001b[39m'\u001b[39m)\n\u001b[0;32m---> 87\u001b[0m cat \u001b[39m=\u001b[39m Table\u001b[39m.\u001b[39;49mread(\u001b[39mself\u001b[39;49m\u001b[39m.\u001b[39;49mconfig[\u001b[39m'\u001b[39;49m\u001b[39mdata_cat\u001b[39;49m\u001b[39m'\u001b[39;49m],\n\u001b[1;32m     88\u001b[0m                  \u001b[39mformat\u001b[39;49m\u001b[39m=\u001b[39;49m\u001b[39m'\u001b[39;49m\u001b[39mfits\u001b[39;49m\u001b[39m'\u001b[39;49m, memmap\u001b[39m=\u001b[39;49m\u001b[39mTrue\u001b[39;49;00m)\n\u001b[1;32m     89\u001b[0m cat\u001b[39m.\u001b[39mkeep_columns(columns_data)\n\u001b[1;32m     90\u001b[0m cat_zbin \u001b[39m=\u001b[39m Table\u001b[39m.\u001b[39mread(\u001b[39mself\u001b[39m\u001b[39m.\u001b[39mconfig[\u001b[39m'\u001b[39m\u001b[39mzbin_cat\u001b[39m\u001b[39m'\u001b[39m],\n\u001b[1;32m     91\u001b[0m                       \u001b[39mformat\u001b[39m\u001b[39m=\u001b[39m\u001b[39m'\u001b[39m\u001b[39mfits\u001b[39m\u001b[39m'\u001b[39m, memmap\u001b[39m=\u001b[39m\u001b[39mTrue\u001b[39;00m)\n",
      "File \u001b[0;32m~/mambaforge/envs/tutorials/lib/python3.9/site-packages/astropy/table/connect.py:62\u001b[0m, in \u001b[0;36mTableRead.__call__\u001b[0;34m(self, *args, **kwargs)\u001b[0m\n\u001b[1;32m     59\u001b[0m units \u001b[39m=\u001b[39m kwargs\u001b[39m.\u001b[39mpop(\u001b[39m\"\u001b[39m\u001b[39munits\u001b[39m\u001b[39m\"\u001b[39m, \u001b[39mNone\u001b[39;00m)\n\u001b[1;32m     60\u001b[0m descriptions \u001b[39m=\u001b[39m kwargs\u001b[39m.\u001b[39mpop(\u001b[39m\"\u001b[39m\u001b[39mdescriptions\u001b[39m\u001b[39m\"\u001b[39m, \u001b[39mNone\u001b[39;00m)\n\u001b[0;32m---> 62\u001b[0m out \u001b[39m=\u001b[39m \u001b[39mself\u001b[39;49m\u001b[39m.\u001b[39;49mregistry\u001b[39m.\u001b[39;49mread(\u001b[39mcls\u001b[39;49m, \u001b[39m*\u001b[39;49margs, \u001b[39m*\u001b[39;49m\u001b[39m*\u001b[39;49mkwargs)\n\u001b[1;32m     64\u001b[0m \u001b[39m# For some readers (e.g., ascii.ecsv), the returned `out` class is not\u001b[39;00m\n\u001b[1;32m     65\u001b[0m \u001b[39m# guaranteed to be the same as the desired output `cls`.  If so,\u001b[39;00m\n\u001b[1;32m     66\u001b[0m \u001b[39m# try coercing to desired class without copying (io.registry.read\u001b[39;00m\n\u001b[1;32m     67\u001b[0m \u001b[39m# would normally do a copy).  The normal case here is swapping\u001b[39;00m\n\u001b[1;32m     68\u001b[0m \u001b[39m# Table <=> QTable.\u001b[39;00m\n\u001b[1;32m     69\u001b[0m \u001b[39mif\u001b[39;00m \u001b[39mcls\u001b[39m \u001b[39mis\u001b[39;00m \u001b[39mnot\u001b[39;00m out\u001b[39m.\u001b[39m\u001b[39m__class__\u001b[39m:\n",
      "File \u001b[0;32m~/mambaforge/envs/tutorials/lib/python3.9/site-packages/astropy/io/registry/core.py:218\u001b[0m, in \u001b[0;36mUnifiedInputRegistry.read\u001b[0;34m(self, cls, format, cache, *args, **kwargs)\u001b[0m\n\u001b[1;32m    213\u001b[0m     \u001b[39mformat\u001b[39m \u001b[39m=\u001b[39m \u001b[39mself\u001b[39m\u001b[39m.\u001b[39m_get_valid_format(\n\u001b[1;32m    214\u001b[0m         \u001b[39m\"\u001b[39m\u001b[39mread\u001b[39m\u001b[39m\"\u001b[39m, \u001b[39mcls\u001b[39m, path, fileobj, args, kwargs\n\u001b[1;32m    215\u001b[0m     )\n\u001b[1;32m    217\u001b[0m reader \u001b[39m=\u001b[39m \u001b[39mself\u001b[39m\u001b[39m.\u001b[39mget_reader(\u001b[39mformat\u001b[39m, \u001b[39mcls\u001b[39m)\n\u001b[0;32m--> 218\u001b[0m data \u001b[39m=\u001b[39m reader(\u001b[39m*\u001b[39;49margs, \u001b[39m*\u001b[39;49m\u001b[39m*\u001b[39;49mkwargs)\n\u001b[1;32m    220\u001b[0m \u001b[39mif\u001b[39;00m \u001b[39mnot\u001b[39;00m \u001b[39misinstance\u001b[39m(data, \u001b[39mcls\u001b[39m):\n\u001b[1;32m    221\u001b[0m     \u001b[39m# User has read with a subclass where only the parent class is\u001b[39;00m\n\u001b[1;32m    222\u001b[0m     \u001b[39m# registered.  This returns the parent class, so try coercing\u001b[39;00m\n\u001b[1;32m    223\u001b[0m     \u001b[39m# to desired subclass.\u001b[39;00m\n\u001b[1;32m    224\u001b[0m     \u001b[39mtry\u001b[39;00m:\n",
      "File \u001b[0;32m~/mambaforge/envs/tutorials/lib/python3.9/site-packages/astropy/io/fits/connect.py:243\u001b[0m, in \u001b[0;36mread_table_fits\u001b[0;34m(input, hdu, astropy_native, memmap, character_as_bytes, unit_parse_strict, mask_invalid)\u001b[0m\n\u001b[1;32m    238\u001b[0m \u001b[39mif\u001b[39;00m memmap:\n\u001b[1;32m    239\u001b[0m     \u001b[39m# using memmap is not compatible with masking invalid value by\u001b[39;00m\n\u001b[1;32m    240\u001b[0m     \u001b[39m# default so we deactivate the masking\u001b[39;00m\n\u001b[1;32m    241\u001b[0m     mask_invalid \u001b[39m=\u001b[39m \u001b[39mFalse\u001b[39;00m\n\u001b[0;32m--> 243\u001b[0m hdulist \u001b[39m=\u001b[39m fits_open(\u001b[39minput\u001b[39;49m, character_as_bytes\u001b[39m=\u001b[39;49mcharacter_as_bytes, memmap\u001b[39m=\u001b[39;49mmemmap)\n\u001b[1;32m    245\u001b[0m \u001b[39mtry\u001b[39;00m:\n\u001b[1;32m    246\u001b[0m     \u001b[39mreturn\u001b[39;00m read_table_fits(\n\u001b[1;32m    247\u001b[0m         hdulist,\n\u001b[1;32m    248\u001b[0m         hdu\u001b[39m=\u001b[39mhdu,\n\u001b[0;32m   (...)\u001b[0m\n\u001b[1;32m    251\u001b[0m         mask_invalid\u001b[39m=\u001b[39mmask_invalid,\n\u001b[1;32m    252\u001b[0m     )\n",
      "File \u001b[0;32m~/mambaforge/envs/tutorials/lib/python3.9/site-packages/astropy/io/fits/hdu/hdulist.py:213\u001b[0m, in \u001b[0;36mfitsopen\u001b[0;34m(name, mode, memmap, save_backup, cache, lazy_load_hdus, ignore_missing_simple, use_fsspec, fsspec_kwargs, **kwargs)\u001b[0m\n\u001b[1;32m    210\u001b[0m \u001b[39mif\u001b[39;00m \u001b[39mnot\u001b[39;00m name:\n\u001b[1;32m    211\u001b[0m     \u001b[39mraise\u001b[39;00m \u001b[39mValueError\u001b[39;00m(\u001b[39mf\u001b[39m\u001b[39m\"\u001b[39m\u001b[39mEmpty filename: \u001b[39m\u001b[39m{\u001b[39;00mname\u001b[39m!r}\u001b[39;00m\u001b[39m\"\u001b[39m)\n\u001b[0;32m--> 213\u001b[0m \u001b[39mreturn\u001b[39;00m HDUList\u001b[39m.\u001b[39;49mfromfile(\n\u001b[1;32m    214\u001b[0m     name,\n\u001b[1;32m    215\u001b[0m     mode,\n\u001b[1;32m    216\u001b[0m     memmap,\n\u001b[1;32m    217\u001b[0m     save_backup,\n\u001b[1;32m    218\u001b[0m     cache,\n\u001b[1;32m    219\u001b[0m     lazy_load_hdus,\n\u001b[1;32m    220\u001b[0m     ignore_missing_simple,\n\u001b[1;32m    221\u001b[0m     use_fsspec\u001b[39m=\u001b[39;49muse_fsspec,\n\u001b[1;32m    222\u001b[0m     fsspec_kwargs\u001b[39m=\u001b[39;49mfsspec_kwargs,\n\u001b[1;32m    223\u001b[0m     \u001b[39m*\u001b[39;49m\u001b[39m*\u001b[39;49mkwargs,\n\u001b[1;32m    224\u001b[0m )\n",
      "File \u001b[0;32m~/mambaforge/envs/tutorials/lib/python3.9/site-packages/astropy/io/fits/hdu/hdulist.py:476\u001b[0m, in \u001b[0;36mHDUList.fromfile\u001b[0;34m(cls, fileobj, mode, memmap, save_backup, cache, lazy_load_hdus, ignore_missing_simple, **kwargs)\u001b[0m\n\u001b[1;32m    457\u001b[0m \u001b[39m@classmethod\u001b[39m\n\u001b[1;32m    458\u001b[0m \u001b[39mdef\u001b[39;00m \u001b[39mfromfile\u001b[39m(\n\u001b[1;32m    459\u001b[0m     \u001b[39mcls\u001b[39m,\n\u001b[0;32m   (...)\u001b[0m\n\u001b[1;32m    467\u001b[0m     \u001b[39m*\u001b[39m\u001b[39m*\u001b[39mkwargs,\n\u001b[1;32m    468\u001b[0m ):\n\u001b[1;32m    469\u001b[0m \u001b[39m    \u001b[39m\u001b[39m\"\"\"\u001b[39;00m\n\u001b[1;32m    470\u001b[0m \u001b[39m    Creates an `HDUList` instance from a file-like object.\u001b[39;00m\n\u001b[1;32m    471\u001b[0m \n\u001b[0;32m   (...)\u001b[0m\n\u001b[1;32m    474\u001b[0m \u001b[39m    documentation for details of the parameters accepted by this method).\u001b[39;00m\n\u001b[1;32m    475\u001b[0m \u001b[39m    \"\"\"\u001b[39;00m\n\u001b[0;32m--> 476\u001b[0m     \u001b[39mreturn\u001b[39;00m \u001b[39mcls\u001b[39;49m\u001b[39m.\u001b[39;49m_readfrom(\n\u001b[1;32m    477\u001b[0m         fileobj\u001b[39m=\u001b[39;49mfileobj,\n\u001b[1;32m    478\u001b[0m         mode\u001b[39m=\u001b[39;49mmode,\n\u001b[1;32m    479\u001b[0m         memmap\u001b[39m=\u001b[39;49mmemmap,\n\u001b[1;32m    480\u001b[0m         save_backup\u001b[39m=\u001b[39;49msave_backup,\n\u001b[1;32m    481\u001b[0m         cache\u001b[39m=\u001b[39;49mcache,\n\u001b[1;32m    482\u001b[0m         ignore_missing_simple\u001b[39m=\u001b[39;49mignore_missing_simple,\n\u001b[1;32m    483\u001b[0m         lazy_load_hdus\u001b[39m=\u001b[39;49mlazy_load_hdus,\n\u001b[1;32m    484\u001b[0m         \u001b[39m*\u001b[39;49m\u001b[39m*\u001b[39;49mkwargs,\n\u001b[1;32m    485\u001b[0m     )\n",
      "File \u001b[0;32m~/mambaforge/envs/tutorials/lib/python3.9/site-packages/astropy/io/fits/hdu/hdulist.py:1146\u001b[0m, in \u001b[0;36mHDUList._readfrom\u001b[0;34m(cls, fileobj, data, mode, memmap, cache, lazy_load_hdus, ignore_missing_simple, use_fsspec, fsspec_kwargs, **kwargs)\u001b[0m\n\u001b[1;32m   1143\u001b[0m \u001b[39mif\u001b[39;00m fileobj \u001b[39mis\u001b[39;00m \u001b[39mnot\u001b[39;00m \u001b[39mNone\u001b[39;00m:\n\u001b[1;32m   1144\u001b[0m     \u001b[39mif\u001b[39;00m \u001b[39mnot\u001b[39;00m \u001b[39misinstance\u001b[39m(fileobj, _File):\n\u001b[1;32m   1145\u001b[0m         \u001b[39m# instantiate a FITS file object (ffo)\u001b[39;00m\n\u001b[0;32m-> 1146\u001b[0m         fileobj \u001b[39m=\u001b[39m _File(\n\u001b[1;32m   1147\u001b[0m             fileobj,\n\u001b[1;32m   1148\u001b[0m             mode\u001b[39m=\u001b[39;49mmode,\n\u001b[1;32m   1149\u001b[0m             memmap\u001b[39m=\u001b[39;49mmemmap,\n\u001b[1;32m   1150\u001b[0m             cache\u001b[39m=\u001b[39;49mcache,\n\u001b[1;32m   1151\u001b[0m             use_fsspec\u001b[39m=\u001b[39;49muse_fsspec,\n\u001b[1;32m   1152\u001b[0m             fsspec_kwargs\u001b[39m=\u001b[39;49mfsspec_kwargs,\n\u001b[1;32m   1153\u001b[0m         )\n\u001b[1;32m   1154\u001b[0m     \u001b[39m# The Astropy mode is determined by the _File initializer if the\u001b[39;00m\n\u001b[1;32m   1155\u001b[0m     \u001b[39m# supplied mode was None\u001b[39;00m\n\u001b[1;32m   1156\u001b[0m     mode \u001b[39m=\u001b[39m fileobj\u001b[39m.\u001b[39mmode\n",
      "File \u001b[0;32m~/mambaforge/envs/tutorials/lib/python3.9/site-packages/astropy/io/fits/file.py:217\u001b[0m, in \u001b[0;36m_File.__init__\u001b[0;34m(self, fileobj, mode, memmap, overwrite, cache, use_fsspec, fsspec_kwargs)\u001b[0m\n\u001b[1;32m    215\u001b[0m     \u001b[39mself\u001b[39m\u001b[39m.\u001b[39m_open_fileobj(fileobj, mode, overwrite)\n\u001b[1;32m    216\u001b[0m \u001b[39melif\u001b[39;00m \u001b[39misinstance\u001b[39m(fileobj, (\u001b[39mstr\u001b[39m, \u001b[39mbytes\u001b[39m)):\n\u001b[0;32m--> 217\u001b[0m     \u001b[39mself\u001b[39;49m\u001b[39m.\u001b[39;49m_open_filename(fileobj, mode, overwrite)\n\u001b[1;32m    218\u001b[0m \u001b[39melse\u001b[39;00m:\n\u001b[1;32m    219\u001b[0m     \u001b[39mself\u001b[39m\u001b[39m.\u001b[39m_open_filelike(fileobj, mode, overwrite)\n",
      "File \u001b[0;32m~/mambaforge/envs/tutorials/lib/python3.9/site-packages/astropy/io/fits/file.py:626\u001b[0m, in \u001b[0;36m_File._open_filename\u001b[0;34m(self, filename, mode, overwrite)\u001b[0m\n\u001b[1;32m    623\u001b[0m ext \u001b[39m=\u001b[39m os\u001b[39m.\u001b[39mpath\u001b[39m.\u001b[39msplitext(\u001b[39mself\u001b[39m\u001b[39m.\u001b[39mname)[\u001b[39m1\u001b[39m]\n\u001b[1;32m    625\u001b[0m \u001b[39mif\u001b[39;00m \u001b[39mnot\u001b[39;00m \u001b[39mself\u001b[39m\u001b[39m.\u001b[39m_try_read_compressed(\u001b[39mself\u001b[39m\u001b[39m.\u001b[39mname, magic, mode, ext\u001b[39m=\u001b[39mext):\n\u001b[0;32m--> 626\u001b[0m     \u001b[39mself\u001b[39m\u001b[39m.\u001b[39m_file \u001b[39m=\u001b[39m \u001b[39mopen\u001b[39;49m(\u001b[39mself\u001b[39;49m\u001b[39m.\u001b[39;49mname, IO_FITS_MODES[mode])\n\u001b[1;32m    627\u001b[0m     \u001b[39mself\u001b[39m\u001b[39m.\u001b[39mclose_on_error \u001b[39m=\u001b[39m \u001b[39mTrue\u001b[39;00m\n\u001b[1;32m    629\u001b[0m \u001b[39m# Make certain we're back at the beginning of the file\u001b[39;00m\n\u001b[1;32m    630\u001b[0m \u001b[39m# BZ2File does not support seek when the file is open for writing, but\u001b[39;00m\n\u001b[1;32m    631\u001b[0m \u001b[39m# when opening a file for write, bz2.BZ2File always truncates anyway.\u001b[39;00m\n",
      "\u001b[0;31mFileNotFoundError\u001b[0m: [Errno 2] No such file or directory: '../../cataloges/DES_Y1/shear_catalog/mcal-y1a1-combined-riz-unblind-v4-matched.fits'"
     ]
    }
   ],
   "source": [
    "DESY1wl__0_map = DESY1wl__0.get_signal_map()\n",
    "DESY1wl__1_map = DESY1wl__1.get_signal_map()\n",
    "DESY1wl__2_map = DESY1wl__2.get_signal_map()\n",
    "DESY1wl__3_map = DESY1wl__3.get_signal_map()"
   ]
  },
  {
   "cell_type": "code",
   "execution_count": null,
   "metadata": {},
   "outputs": [],
   "source": [
    "hp.visufunc.mollview(map=np.array(DESY1wl__0_map)[0])"
   ]
  },
  {
   "cell_type": "code",
   "execution_count": null,
   "metadata": {},
   "outputs": [],
   "source": [
    "hp.visufunc.mollview(map=np.array(DESY1wl__1_map)[0])"
   ]
  },
  {
   "cell_type": "code",
   "execution_count": null,
   "metadata": {},
   "outputs": [],
   "source": [
    "hp.visufunc.mollview(map=np.array(DESY1wl__2_map)[0])"
   ]
  },
  {
   "cell_type": "code",
   "execution_count": null,
   "metadata": {},
   "outputs": [],
   "source": [
    "hp.visufunc.mollview(map=np.array(DESY1wl__3_map)[0])"
   ]
  },
  {
   "cell_type": "markdown",
   "metadata": {},
   "source": [
    "### Cl's"
   ]
  },
  {
   "cell_type": "code",
   "execution_count": null,
   "metadata": {},
   "outputs": [],
   "source": [
    "cl_DESY1wl__0_DESY1wl__0 = Cl(data.data, \"DESY1wl__0\", \"DESY1wl__0\")\n",
    "cl_DESY1wl__1_DESY1wl__1 = Cl(data.data, \"DESY1wl__1\", \"DESY1wl__1\")\n",
    "cl_DESY1wl__2_DESY1wl__2 = Cl(data.data, \"DESY1wl__2\", \"DESY1wl__2\")\n",
    "cl_DESY1wl__3_DESY1wl__3 = Cl(data.data, \"DESY1wl__3\", \"DESY1wl__3\")\n",
    "\n",
    "cl_DESY1wl__0_DESY1wl__0 = cl_DESY1wl__0_DESY1wl__0.get_ell_cl()\n",
    "cl_DESY1wl__1_DESY1wl__1 = cl_DESY1wl__1_DESY1wl__1.get_ell_cl()\n",
    "cl_DESY1wl__2_DESY1wl__2 = cl_DESY1wl__2_DESY1wl__2.get_ell_cl()\n",
    "cl_DESY1wl__3_DESY1wl__3 = cl_DESY1wl__3_DESY1wl__3.get_ell_cl()"
   ]
  },
  {
   "cell_type": "markdown",
   "metadata": {},
   "source": [
    "### Covariance Matrix"
   ]
  },
  {
   "cell_type": "code",
   "execution_count": null,
   "metadata": {},
   "outputs": [],
   "source": [
    "cov_DESY1wl__0_DESY1wl__0_DESY1wl__0_DESY1wl__0 = Cov(data.data, \"DESY1wl__0\", \"DESY1wl__0\", \"DESY1wl__0\", \"DESY1wl__0\")\n",
    "cov_DESY1wl__1_DESY1wl__1_DESY1wl__1_DESY1wl__1 = Cov(data.data, \"DESY1wl__1\", \"DESY1wl__1\", \"DESY1wl__1\", \"DESY1wl__1\")\n",
    "cov_DESY1wl__2_DESY1wl__2_DESY1wl__1_DESY1wl__2 = Cov(data.data, \"DESY1wl__2\", \"DESY1wl__2\", \"DESY1wl__2\", \"DESY1wl__2\")\n",
    "cov_DESY1wl__3_DESY1wl__3_DESY1wl__1_DESY1wl__3 = Cov(data.data, \"DESY1wl__3\", \"DESY1wl__3\", \"DESY1wl__3\", \"DESY1wl__3\")\n",
    "\n",
    "cov_DESY1wl__0_DESY1wl__0_DESY1wl__0_DESY1wl__0 = cov_DESY1wl__0_DESY1wl__0_DESY1wl__0_DESY1wl__0.get_covariance()\n",
    "cov_DESY1wl__1_DESY1wl__1_DESY1wl__1_DESY1wl__1 = cov_DESY1wl__1_DESY1wl__1_DESY1wl__1_DESY1wl__1.get_covariance()\n",
    "cov_DESY1wl__2_DESY1wl__2_DESY1wl__2_DESY1wl__2 = cov_DESY1wl__2_DESY1wl__2_DESY1wl__2_DESY1wl__2.get_covariance()\n",
    "cov_DESY1wl__3_DESY1wl__3_DESY1wl__3_DESY1wl__3 = cov_DESY1wl__3_DESY1wl__3_DESY1wl__3_DESY1wl__3.get_covariance()"
   ]
  },
  {
   "cell_type": "markdown",
   "metadata": {},
   "source": [
    "err_DESY1wl__0_DESY1wl__0 = np.sqrt(np.diag(cov_DESY1wl__0_DESY1wl__0_DESY1wl__0_DESY1wl__0))\n",
    "err_DESY1wl__1_DESY1wl__1 = np.sqrt(np.diag(cov_DESY1wl__1_DESY1wl__1_DESY1wl__1_DESY1wl__1))\n",
    "err_DESY1wl__2_DESY1wl__2 = np.sqrt(np.diag(cov_DESY1wl__2_DESY1wl__2_DESY1wl__1_DESY1wl__2))\n",
    "err_DESY1wl__3_DESY1wl__3 = np.sqrt(np.diag(cov_DESY1wl__3_DESY1wl__3_DESY1wl__1_DESY1wl__3))"
   ]
  },
  {
   "cell_type": "markdown",
   "metadata": {},
   "source": [
    "### Theory Cl's"
   ]
  },
  {
   "cell_type": "code",
   "execution_count": null,
   "metadata": {},
   "outputs": [],
   "source": [
    "cosmo = ccl.Cosmology(Omega_c=0.27, Omega_b=0.049, h=0.67, sigma8=0.81, n_s=0.96)\n",
    "\n",
    "DESY1wl__0_nz = DESY1wl__0.get_nz()\n",
    "DESY1wl__1_nz = DESY1wl__1.get_nz()\n",
    "DESY1wl__2_nz = DESY1wl__2.get_nz()\n",
    "DESY1wl__3_nz = DESY1wl__3.get_nz()\n",
    "\n",
    "DESY1wl__0_z, DESY1wl__0_dNdz = DESY1wl__0_nz[0], DESY1wl__0_nz[1]\n",
    "DESY1wl__1_z, DESY1wl__1_dNdz = DESY1wl__1_nz[0], DESY1wl__1_nz[1]\n",
    "DESY1wl__2_z, DESY1wl__2_dNdz = DESY1wl__2_nz[0], DESY1wl__2_nz[1]\n",
    "DESY1wl__3_z, DESY1wl__3_dNdz = DESY1wl__3_nz[0], DESY1wl__3_nz[1]\n",
    "\n",
    "b_DESY1wl__0 = data.data[\"tracers\"][\"DESY1wl__0\"][\"bias\"]*np.ones(len(DESY1wl__0_z))\n",
    "b_DESY1wl__1 = data.data[\"tracers\"][\"DESY1wl__1\"][\"bias\"]*np.ones(len(DESY1wl__1_z))\n",
    "b_DESY1wl__2 = data.data[\"tracers\"][\"DESY1wl__2\"][\"bias\"]*np.ones(len(DESY1wl__2_z))\n",
    "b_DESY1wl__3 = data.data[\"tracers\"][\"DESY1wl__3\"][\"bias\"]*np.ones(len(DESY1wl__3_z))\n",
    "\n",
    "tracer_DESY1wl__0 = ccl.WeakLensingTracer(cosmo, has_shear=True, dndz=(DESY1wl__0_z, DESY1wl__0_dNdz))\n",
    "tracer_DESY1wl__1 = ccl.WeakLensingTracer(cosmo, has_shear=True, dndz=(DESY1wl__1_z, DESY1wl__1_dNdz))\n",
    "tracer_DESY1wl__2 = ccl.WeakLensingTracer(cosmo, has_shear=True, dndz=(DESY1wl__2_z, DESY1wl__2_dNdz))\n",
    "tracer_DESY1wl__3 = ccl.WeakLensingTracer(cosmo, has_shear=True, dndz=(DESY1wl__3_z, DESY1wl__3_dNdz))\n",
    "\n",
    "clt_DESY1wl__0_DESY1wl__0 = ccl.angular_cl(cosmo, tracer_DESY1wl__0, tracer_DESY1wl__0, cl_DESY1wl__0_DESY1wl__0[0])\n",
    "clt_DESY1wl__1_DESY1wl__1 = ccl.angular_cl(cosmo, tracer_DESY1wl__1, tracer_DESY1wl__1, cl_DESY1wl__1_DESY1wl__1[0]) \n",
    "clt_DESY1wl__2_DESY1wl__2 = ccl.angular_cl(cosmo, tracer_DESY1wl__2, tracer_DESY1wl__2, cl_DESY1wl__2_DESY1wl__2[0]) \n",
    "clt_DESY1wl__3_DESY1wl__3 = ccl.angular_cl(cosmo, tracer_DESY1wl__3, tracer_DESY1wl__3, cl_DESY1wl__3_DESY1wl__3[0]) "
   ]
  },
  {
   "cell_type": "markdown",
   "metadata": {},
   "source": [
    "### Comparison"
   ]
  },
  {
   "cell_type": "code",
   "execution_count": null,
   "metadata": {},
   "outputs": [],
   "source": [
    "plt.plot(DESY1wl__0_z, DESY1wl__0_dNdz, label='DESY1wl__0')\n",
    "plt.plot(DESY1wl__1_z, DESY1wl__1_dNdz, label='DESY1wl__1')\n",
    "plt.plot(DESY1wl__2_z, DESY1wl__2_dNdz, label='DESY1wl__2')\n",
    "plt.plot(DESY1wl__3_z, DESY1wl__3_dNdz, label='DESY1wl__3')\n",
    "plt.legend()\n",
    "plt.show()"
   ]
  },
  {
   "cell_type": "code",
   "execution_count": null,
   "metadata": {},
   "outputs": [],
   "source": [
    "plt.errorbar(cl_DESY1wl__0_DESY1wl__0[0], cl_DESY1wl__0_DESY1wl__0[1][0], yerr=err_DESY1wl__0_DESY1wl__0, fmt='o-', label='data')\n",
    "plt.plot(cl_DESY1wl__0_DESY1wl__0[0], clt_DESY1wl__0_DESY1wl__0, 'o-', label='theory')\n",
    "plt.title('DESY1wl__0-DESY1wl__0')\n",
    "plt.xlabel('$\\\\ell$', fontsize=16)\n",
    "plt.ylabel('$C_\\\\ell$', fontsize=16)\n",
    "plt.legend(loc='lower left', ncol=2, labelspacing=0.1)\n",
    "plt.xscale(\"log\")\n",
    "plt.yscale(\"log\")\n",
    "plt.show()"
   ]
  },
  {
   "cell_type": "code",
   "execution_count": null,
   "metadata": {},
   "outputs": [],
   "source": [
    "plt.errorbar(cl_DESY1wl__1_DESY1wl__1[0], cl_DESY1wl__1_DESY1wl__1[1][0], yerr=err_DESY1wl__1_DESY1wl__1, fmt='o-', label='data')\n",
    "plt.plot(cl_DESY1wl__1_DESY1wl__1[0], clt_DESY1wl__1_DESY1wl__1, 'o-', label='theory')\n",
    "plt.title('DESY1wl__1-DESY1wl__1')\n",
    "plt.xlabel('$\\\\ell$', fontsize=16)\n",
    "plt.ylabel('$C_\\\\ell$', fontsize=16)\n",
    "plt.legend(loc='lower left', ncol=2, labelspacing=0.1)\n",
    "plt.xscale(\"log\")\n",
    "plt.yscale(\"log\")\n",
    "plt.show()"
   ]
  },
  {
   "cell_type": "code",
   "execution_count": null,
   "metadata": {},
   "outputs": [],
   "source": [
    "plt.errorbar(cl_DESY1wl__2_DESY1wl__2[0], cl_DESY1wl__2_DESY1wl__2[1][0], yerr=err_DESY1wl__2_DESY1wl__2, fmt='o-', label='data')\n",
    "plt.plot(cl_DESY1wl__2_DESY1wl__2[0], clt_DESY1wl__2_DESY1wl__2, 'o-', label='theory')\n",
    "plt.title('DESY1wl__2-DESY1wl__2')\n",
    "plt.xlabel('$\\\\ell$', fontsize=16)\n",
    "plt.ylabel('$C_\\\\ell$', fontsize=16)\n",
    "plt.legend(loc='lower left', ncol=2, labelspacing=0.1)\n",
    "plt.xscale(\"log\")\n",
    "plt.yscale(\"log\")\n",
    "plt.show()\n"
   ]
  },
  {
   "cell_type": "code",
   "execution_count": null,
   "metadata": {},
   "outputs": [],
   "source": [
    "plt.errorbar(cl_DESY1wl__3_DESY1wl__3[0], cl_DESY1wl__3_DESY1wl__3[1][0], yerr=err_DESY1wl__3_DESY1wl__3, fmt='o-', label='data')\n",
    "plt.plot(cl_DESY1wl__3_DESY1wl__3[0], clt_DESY1wl__3_DESY1wl__3, 'o-', label='theory')\n",
    "plt.title('DESY1wl__3-DESY1wl__3')\n",
    "plt.xlabel('$\\\\ell$', fontsize=16)\n",
    "plt.ylabel('$C_\\\\ell$', fontsize=16)\n",
    "plt.legend(loc='lower left', ncol=2, labelspacing=0.1)\n",
    "plt.xscale(\"log\")\n",
    "plt.yscale(\"log\")\n",
    "plt.show()"
   ]
  },
  {
   "cell_type": "code",
   "execution_count": null,
   "metadata": {},
   "outputs": [],
   "source": [
    "plt.errorbar(cl_DESY1wl__4_DESY1wl__4[0], cl_DESY1wl__4_DESY1wl__4[1][0], yerr=err_DESY1wl__4_DESY1wl__4, fmt='o-', label='data')\n",
    "plt.plot(cl_DESY1wl__4_DESY1wl__4[0], clt_DESY1wl__4_DESY1wl__4, 'o-', label='theory')\n",
    "plt.title('DESY1wl__4-DESY1wl__4')\n",
    "plt.xlabel('$\\\\ell$', fontsize=16)\n",
    "plt.ylabel('$C_\\\\ell$', fontsize=16)\n",
    "plt.legend(loc='lower left', ncol=2, labelspacing=0.1)\n",
    "plt.xscale(\"log\")\n",
    "plt.yscale(\"log\")\n",
    "plt.show()"
   ]
  }
 ],
 "metadata": {
  "kernelspec": {
   "display_name": "Python 3",
   "language": "python",
   "name": "python3"
  },
  "language_info": {
   "codemirror_mode": {
    "name": "ipython",
    "version": 3
   },
   "file_extension": ".py",
   "mimetype": "text/x-python",
   "name": "python",
   "nbconvert_exporter": "python",
   "pygments_lexer": "ipython3",
   "version": "3.9.17"
  }
 },
 "nbformat": 4,
 "nbformat_minor": 4
}
