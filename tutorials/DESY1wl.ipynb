{
 "cells": [
  {
   "cell_type": "markdown",
   "metadata": {},
   "source": [
    "# DESY1 WL"
   ]
  },
  {
   "cell_type": "code",
   "execution_count": null,
   "metadata": {},
   "outputs": [],
   "source": [
    "# some_file.py\n",
    "import sys\n",
    "import yaml\n",
    "# insert at 1, 0 is the script path (or '' in REPL)\n",
    "\n",
    "sys.path.insert(1, '/home/jaimerz/PhD/Cosmotheka')\n",
    "\n",
    "from cosmotheka.mappers import MapperDESY1wl\n",
    "from cosmotheka.mappers import utils\n",
    "from cosmotheka.cls.data import Data\n",
    "from cosmotheka.cls.cl import Cl\n",
    "from cosmotheka.cls.cov import Cov\n",
    "from astropy.io import fits\n",
    "from astropy.table import Table\n",
    "import pyccl as ccl\n",
    "import numpy as np\n",
    "import pylab as plt\n",
    "import pymaster as nmt\n",
    "import healpy as hp\n",
    "import numpy as np"
   ]
  },
  {
   "cell_type": "markdown",
   "metadata": {},
   "source": [
    "### Configurations"
   ]
  },
  {
   "cell_type": "code",
   "execution_count": null,
   "metadata": {},
   "outputs": [],
   "source": [
    "data = Data(data_path=\"../config_files/master.yml\")"
   ]
  },
  {
   "cell_type": "markdown",
   "metadata": {},
   "source": [
    "### Mappers"
   ]
  },
  {
   "cell_type": "code",
   "execution_count": null,
   "metadata": {},
   "outputs": [],
   "source": [
    "DESY1wl__0 = data.get_mapper(\"DESY1wl__0\")\n",
    "DESY1wl__1 = data.get_mapper(\"DESY1wl__1\")\n",
    "DESY1wl__2 = data.get_mapper(\"DESY1wl__2\")\n",
    "DESY1wl__3 = data.get_mapper(\"DESY1wl__3\")"
   ]
  },
  {
   "cell_type": "code",
   "execution_count": null,
   "metadata": {},
   "outputs": [],
   "source": [
    "DESY1wl__0_map = DESY1wl__0.get_signal_map()\n",
    "DESY1wl__1_map = DESY1wl__1.get_signal_map()\n",
    "DESY1wl__2_map = DESY1wl__2.get_signal_map()\n",
    "DESY1wl__3_map = DESY1wl__3.get_signal_map()"
   ]
  },
  {
   "cell_type": "code",
   "execution_count": null,
   "metadata": {},
   "outputs": [],
   "source": [
    "hp.visufunc.mollview(map=np.array(DESY1wl__0_map)[0])"
   ]
  },
  {
   "cell_type": "code",
   "execution_count": null,
   "metadata": {},
   "outputs": [],
   "source": [
    "hp.visufunc.mollview(map=np.array(DESY1wl__1_map)[0])"
   ]
  },
  {
   "cell_type": "code",
   "execution_count": null,
   "metadata": {},
   "outputs": [],
   "source": [
    "hp.visufunc.mollview(map=np.array(DESY1wl__2_map)[0])"
   ]
  },
  {
   "cell_type": "code",
   "execution_count": null,
   "metadata": {},
   "outputs": [],
   "source": [
    "hp.visufunc.mollview(map=np.array(DESY1wl__3_map)[0])"
   ]
  },
  {
   "cell_type": "markdown",
   "metadata": {},
   "source": [
    "### Cl's"
   ]
  },
  {
   "cell_type": "code",
   "execution_count": null,
   "metadata": {},
   "outputs": [],
   "source": [
    "cl_DESY1wl__0_DESY1wl__0 = Cl(data.data, \"DESY1wl__0\", \"DESY1wl__0\")\n",
    "cl_DESY1wl__1_DESY1wl__1 = Cl(data.data, \"DESY1wl__1\", \"DESY1wl__1\")\n",
    "cl_DESY1wl__2_DESY1wl__2 = Cl(data.data, \"DESY1wl__2\", \"DESY1wl__2\")\n",
    "cl_DESY1wl__3_DESY1wl__3 = Cl(data.data, \"DESY1wl__3\", \"DESY1wl__3\")\n",
    "\n",
    "cl_DESY1wl__0_DESY1wl__0 = cl_DESY1wl__0_DESY1wl__0.get_ell_cl()\n",
    "cl_DESY1wl__1_DESY1wl__1 = cl_DESY1wl__1_DESY1wl__1.get_ell_cl()\n",
    "cl_DESY1wl__2_DESY1wl__2 = cl_DESY1wl__2_DESY1wl__2.get_ell_cl()\n",
    "cl_DESY1wl__3_DESY1wl__3 = cl_DESY1wl__3_DESY1wl__3.get_ell_cl()"
   ]
  },
  {
   "cell_type": "markdown",
   "metadata": {},
   "source": [
    "### Covariance Matrix"
   ]
  },
  {
   "cell_type": "code",
   "execution_count": null,
   "metadata": {},
   "outputs": [],
   "source": [
    "cov_DESY1wl__0_DESY1wl__0_DESY1wl__0_DESY1wl__0 = Cov(data.data, \"DESY1wl__0\", \"DESY1wl__0\", \"DESY1wl__0\", \"DESY1wl__0\")\n",
    "cov_DESY1wl__1_DESY1wl__1_DESY1wl__1_DESY1wl__1 = Cov(data.data, \"DESY1wl__1\", \"DESY1wl__1\", \"DESY1wl__1\", \"DESY1wl__1\")\n",
    "cov_DESY1wl__2_DESY1wl__2_DESY1wl__1_DESY1wl__2 = Cov(data.data, \"DESY1wl__2\", \"DESY1wl__2\", \"DESY1wl__2\", \"DESY1wl__2\")\n",
    "cov_DESY1wl__3_DESY1wl__3_DESY1wl__1_DESY1wl__3 = Cov(data.data, \"DESY1wl__3\", \"DESY1wl__3\", \"DESY1wl__3\", \"DESY1wl__3\")\n",
    "\n",
    "cov_DESY1wl__0_DESY1wl__0_DESY1wl__0_DESY1wl__0 = cov_DESY1wl__0_DESY1wl__0_DESY1wl__0_DESY1wl__0.get_covariance()\n",
    "cov_DESY1wl__1_DESY1wl__1_DESY1wl__1_DESY1wl__1 = cov_DESY1wl__1_DESY1wl__1_DESY1wl__1_DESY1wl__1.get_covariance()\n",
    "cov_DESY1wl__2_DESY1wl__2_DESY1wl__2_DESY1wl__2 = cov_DESY1wl__2_DESY1wl__2_DESY1wl__2_DESY1wl__2.get_covariance()\n",
    "cov_DESY1wl__3_DESY1wl__3_DESY1wl__3_DESY1wl__3 = cov_DESY1wl__3_DESY1wl__3_DESY1wl__3_DESY1wl__3.get_covariance()"
   ]
  },
  {
   "cell_type": "markdown",
   "metadata": {},
   "source": [
    "err_DESY1wl__0_DESY1wl__0 = np.sqrt(np.diag(cov_DESY1wl__0_DESY1wl__0_DESY1wl__0_DESY1wl__0))\n",
    "err_DESY1wl__1_DESY1wl__1 = np.sqrt(np.diag(cov_DESY1wl__1_DESY1wl__1_DESY1wl__1_DESY1wl__1))\n",
    "err_DESY1wl__2_DESY1wl__2 = np.sqrt(np.diag(cov_DESY1wl__2_DESY1wl__2_DESY1wl__1_DESY1wl__2))\n",
    "err_DESY1wl__3_DESY1wl__3 = np.sqrt(np.diag(cov_DESY1wl__3_DESY1wl__3_DESY1wl__1_DESY1wl__3))"
   ]
  },
  {
   "cell_type": "markdown",
   "metadata": {},
   "source": [
    "### Theory Cl's"
   ]
  },
  {
   "cell_type": "code",
   "execution_count": null,
   "metadata": {},
   "outputs": [],
   "source": [
    "cosmo = ccl.Cosmology(Omega_c=0.27, Omega_b=0.049, h=0.67, sigma8=0.81, n_s=0.96)\n",
    "\n",
    "DESY1wl__0_nz = DESY1wl__0.get_nz()\n",
    "DESY1wl__1_nz = DESY1wl__1.get_nz()\n",
    "DESY1wl__2_nz = DESY1wl__2.get_nz()\n",
    "DESY1wl__3_nz = DESY1wl__3.get_nz()\n",
    "\n",
    "DESY1wl__0_z, DESY1wl__0_dNdz = DESY1wl__0_nz[0], DESY1wl__0_nz[1]\n",
    "DESY1wl__1_z, DESY1wl__1_dNdz = DESY1wl__1_nz[0], DESY1wl__1_nz[1]\n",
    "DESY1wl__2_z, DESY1wl__2_dNdz = DESY1wl__2_nz[0], DESY1wl__2_nz[1]\n",
    "DESY1wl__3_z, DESY1wl__3_dNdz = DESY1wl__3_nz[0], DESY1wl__3_nz[1]\n",
    "\n",
    "b_DESY1wl__0 = data.data[\"tracers\"][\"DESY1wl__0\"][\"bias\"]*np.ones(len(DESY1wl__0_z))\n",
    "b_DESY1wl__1 = data.data[\"tracers\"][\"DESY1wl__1\"][\"bias\"]*np.ones(len(DESY1wl__1_z))\n",
    "b_DESY1wl__2 = data.data[\"tracers\"][\"DESY1wl__2\"][\"bias\"]*np.ones(len(DESY1wl__2_z))\n",
    "b_DESY1wl__3 = data.data[\"tracers\"][\"DESY1wl__3\"][\"bias\"]*np.ones(len(DESY1wl__3_z))\n",
    "\n",
    "tracer_DESY1wl__0 = ccl.WeakLensingTracer(cosmo, has_shear=True, dndz=(DESY1wl__0_z, DESY1wl__0_dNdz))\n",
    "tracer_DESY1wl__1 = ccl.WeakLensingTracer(cosmo, has_shear=True, dndz=(DESY1wl__1_z, DESY1wl__1_dNdz))\n",
    "tracer_DESY1wl__2 = ccl.WeakLensingTracer(cosmo, has_shear=True, dndz=(DESY1wl__2_z, DESY1wl__2_dNdz))\n",
    "tracer_DESY1wl__3 = ccl.WeakLensingTracer(cosmo, has_shear=True, dndz=(DESY1wl__3_z, DESY1wl__3_dNdz))\n",
    "\n",
    "clt_DESY1wl__0_DESY1wl__0 = ccl.angular_cl(cosmo, tracer_DESY1wl__0, tracer_DESY1wl__0, cl_DESY1wl__0_DESY1wl__0[0])\n",
    "clt_DESY1wl__1_DESY1wl__1 = ccl.angular_cl(cosmo, tracer_DESY1wl__1, tracer_DESY1wl__1, cl_DESY1wl__1_DESY1wl__1[0]) \n",
    "clt_DESY1wl__2_DESY1wl__2 = ccl.angular_cl(cosmo, tracer_DESY1wl__2, tracer_DESY1wl__2, cl_DESY1wl__2_DESY1wl__2[0]) \n",
    "clt_DESY1wl__3_DESY1wl__3 = ccl.angular_cl(cosmo, tracer_DESY1wl__3, tracer_DESY1wl__3, cl_DESY1wl__3_DESY1wl__3[0]) "
   ]
  },
  {
   "cell_type": "markdown",
   "metadata": {},
   "source": [
    "### Comparison"
   ]
  },
  {
   "cell_type": "code",
   "execution_count": null,
   "metadata": {},
   "outputs": [],
   "source": [
    "plt.plot(DESY1wl__0_z, DESY1wl__0_dNdz, label='DESY1wl__0')\n",
    "plt.plot(DESY1wl__1_z, DESY1wl__1_dNdz, label='DESY1wl__1')\n",
    "plt.plot(DESY1wl__2_z, DESY1wl__2_dNdz, label='DESY1wl__2')\n",
    "plt.plot(DESY1wl__3_z, DESY1wl__3_dNdz, label='DESY1wl__3')\n",
    "plt.legend()\n",
    "plt.show()"
   ]
  },
  {
   "cell_type": "code",
   "execution_count": null,
   "metadata": {},
   "outputs": [],
   "source": [
    "plt.errorbar(cl_DESY1wl__0_DESY1wl__0[0], cl_DESY1wl__0_DESY1wl__0[1][0], yerr=err_DESY1wl__0_DESY1wl__0, fmt='o-', label='data')\n",
    "plt.plot(cl_DESY1wl__0_DESY1wl__0[0], clt_DESY1wl__0_DESY1wl__0, 'o-', label='theory')\n",
    "plt.title('DESY1wl__0-DESY1wl__0')\n",
    "plt.xlabel('$\\\\ell$', fontsize=16)\n",
    "plt.ylabel('$C_\\\\ell$', fontsize=16)\n",
    "plt.legend(loc='lower left', ncol=2, labelspacing=0.1)\n",
    "plt.xscale(\"log\")\n",
    "plt.yscale(\"log\")\n",
    "plt.show()"
   ]
  },
  {
   "cell_type": "code",
   "execution_count": null,
   "metadata": {},
   "outputs": [],
   "source": [
    "plt.errorbar(cl_DESY1wl__1_DESY1wl__1[0], cl_DESY1wl__1_DESY1wl__1[1][0], yerr=err_DESY1wl__1_DESY1wl__1, fmt='o-', label='data')\n",
    "plt.plot(cl_DESY1wl__1_DESY1wl__1[0], clt_DESY1wl__1_DESY1wl__1, 'o-', label='theory')\n",
    "plt.title('DESY1wl__1-DESY1wl__1')\n",
    "plt.xlabel('$\\\\ell$', fontsize=16)\n",
    "plt.ylabel('$C_\\\\ell$', fontsize=16)\n",
    "plt.legend(loc='lower left', ncol=2, labelspacing=0.1)\n",
    "plt.xscale(\"log\")\n",
    "plt.yscale(\"log\")\n",
    "plt.show()"
   ]
  },
  {
   "cell_type": "code",
   "execution_count": null,
   "metadata": {},
   "outputs": [],
   "source": [
    "plt.errorbar(cl_DESY1wl__2_DESY1wl__2[0], cl_DESY1wl__2_DESY1wl__2[1][0], yerr=err_DESY1wl__2_DESY1wl__2, fmt='o-', label='data')\n",
    "plt.plot(cl_DESY1wl__2_DESY1wl__2[0], clt_DESY1wl__2_DESY1wl__2, 'o-', label='theory')\n",
    "plt.title('DESY1wl__2-DESY1wl__2')\n",
    "plt.xlabel('$\\\\ell$', fontsize=16)\n",
    "plt.ylabel('$C_\\\\ell$', fontsize=16)\n",
    "plt.legend(loc='lower left', ncol=2, labelspacing=0.1)\n",
    "plt.xscale(\"log\")\n",
    "plt.yscale(\"log\")\n",
    "plt.show()\n"
   ]
  },
  {
   "cell_type": "code",
   "execution_count": null,
   "metadata": {},
   "outputs": [],
   "source": [
    "plt.errorbar(cl_DESY1wl__3_DESY1wl__3[0], cl_DESY1wl__3_DESY1wl__3[1][0], yerr=err_DESY1wl__3_DESY1wl__3, fmt='o-', label='data')\n",
    "plt.plot(cl_DESY1wl__3_DESY1wl__3[0], clt_DESY1wl__3_DESY1wl__3, 'o-', label='theory')\n",
    "plt.title('DESY1wl__3-DESY1wl__3')\n",
    "plt.xlabel('$\\\\ell$', fontsize=16)\n",
    "plt.ylabel('$C_\\\\ell$', fontsize=16)\n",
    "plt.legend(loc='lower left', ncol=2, labelspacing=0.1)\n",
    "plt.xscale(\"log\")\n",
    "plt.yscale(\"log\")\n",
    "plt.show()"
   ]
  },
  {
   "cell_type": "code",
   "execution_count": null,
   "metadata": {},
   "outputs": [],
   "source": [
    "plt.errorbar(cl_DESY1wl__4_DESY1wl__4[0], cl_DESY1wl__4_DESY1wl__4[1][0], yerr=err_DESY1wl__4_DESY1wl__4, fmt='o-', label='data')\n",
    "plt.plot(cl_DESY1wl__4_DESY1wl__4[0], clt_DESY1wl__4_DESY1wl__4, 'o-', label='theory')\n",
    "plt.title('DESY1wl__4-DESY1wl__4')\n",
    "plt.xlabel('$\\\\ell$', fontsize=16)\n",
    "plt.ylabel('$C_\\\\ell$', fontsize=16)\n",
    "plt.legend(loc='lower left', ncol=2, labelspacing=0.1)\n",
    "plt.xscale(\"log\")\n",
    "plt.yscale(\"log\")\n",
    "plt.show()"
   ]
  }
 ],
 "metadata": {
  "kernelspec": {
   "display_name": "Python 3",
   "language": "python",
   "name": "python3"
  },
  "language_info": {
   "codemirror_mode": {
    "name": "ipython",
    "version": 3
   },
   "file_extension": ".py",
   "mimetype": "text/x-python",
   "name": "python",
   "nbconvert_exporter": "python",
   "pygments_lexer": "ipython3",
   "version": "3.9.17"
  }
 },
 "nbformat": 4,
 "nbformat_minor": 4
}
