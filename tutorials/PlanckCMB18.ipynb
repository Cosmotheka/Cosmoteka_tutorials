{
 "cells": [
  {
   "cell_type": "markdown",
   "id": "narrow-commerce",
   "metadata": {},
   "source": [
    "# Planck CMB 18"
   ]
  },
  {
   "cell_type": "code",
   "execution_count": 1,
   "id": "accepted-directive",
   "metadata": {},
   "outputs": [],
   "source": [
    "# some_file.py\n",
    "import sys\n",
    "import yaml\n",
    "# insert at 1, 0 is the script path (or '' in REPL)\n",
    "\n",
    "sys.path.insert(1, '/home/jaimerz/PhD/Cosmotheka')\n",
    "\n",
    "from cosmotheka.mappers import MapperP18SMICA_NOSZ\n",
    "from cosmotheka.mappers import utils\n",
    "from cosmotheka.cls.data import Data\n",
    "from cosmotheka.cls.cl import Cl\n",
    "from cosmotheka.cls.cov import Cov\n",
    "from astropy.io import fits\n",
    "from astropy.table import Table\n",
    "import pyccl as ccl\n",
    "import numpy as np\n",
    "import pylab as plt\n",
    "import pymaster as nmt\n",
    "import healpy as hp\n",
    "import numpy as np"
   ]
  },
  {
   "cell_type": "markdown",
   "id": "3917eb18",
   "metadata": {},
   "source": [
    "### Configurations"
   ]
  },
  {
   "cell_type": "code",
   "execution_count": 2,
   "id": "transparent-matthew",
   "metadata": {},
   "outputs": [],
   "source": [
    "data = Data(data_path=\"../config_files/master.yml\")"
   ]
  },
  {
   "cell_type": "markdown",
   "id": "60d640a1",
   "metadata": {},
   "source": [
    "### Mappers"
   ]
  },
  {
   "cell_type": "code",
   "execution_count": 3,
   "id": "wrong-liquid",
   "metadata": {},
   "outputs": [],
   "source": [
    "Planck__CMB18 = data.get_mapper(\"Planck__CMB18\")\n",
    "Planck__CMB18_map = Planck__CMB18.get_signal_map()"
   ]
  },
  {
   "cell_type": "code",
   "execution_count": 4,
   "id": "military-institute",
   "metadata": {},
   "outputs": [
    {
     "name": "stderr",
     "output_type": "stream",
     "text": [
      "/home/jaimerz/.local/lib/python3.8/site-packages/healpy/fitsfunc.py:197: FutureWarning: The default dtype of write_map() will change in a future version: explicitly set the dtype if it is important to you\n",
      "  warnings.warn(\n"
     ]
    }
   ],
   "source": [
    "hp.visufunc.mollview(map=np.array(Planck__CMB18_map)[0])"
   ]
  },
  {
   "cell_type": "markdown",
   "id": "9babe180",
   "metadata": {},
   "source": [
    "### Cl's"
   ]
  },
  {
   "cell_type": "code",
   "execution_count": 6,
   "id": "peripheral-belarus",
   "metadata": {},
   "outputs": [],
   "source": [
    "cl_Planck__CMB18_Planck__CMB18 = Cl(data.data, \"Planck__CMB18\", \"Planck__CMB18\")\n",
    "cl_Planck__CMB18_Planck__CMB18 = cl_Planck__CMB18_Planck__CMB18.get_ell_cl()"
   ]
  },
  {
   "cell_type": "markdown",
   "id": "8f9c0768",
   "metadata": {},
   "source": [
    "### Covariance Matrix"
   ]
  },
  {
   "cell_type": "code",
   "execution_count": 7,
   "id": "innovative-sheffield",
   "metadata": {},
   "outputs": [
    {
     "data": {
      "text/plain": [
       "True"
      ]
     },
     "execution_count": 7,
     "metadata": {},
     "output_type": "execute_result"
    }
   ],
   "source": [
    "cov_Planck__CMB18_Planck__CMB18_Planck__CMB18_Planck__CMB18 = Cov(data.data, \"Planck__CMB18\", \"Planck__CMB18\", \"Planck__CMB18\", \"Planck__CMB18\")\n",
    "cov_Planck__CMB18_Planck__CMB18_Planck__CMB18_Planck__CMB18 = cov_CMB18_Planck__CMB18_Planck__CMB18_Planck__CMB18.get_covariance()\n",
    "err_Planck__CMB18_Planck__CMB18 = np.sqrt(np.diag(cov_CMB18_Planck__CMB18_Planck__CMB18_Planck__CMB18))"
   ]
  },
  {
   "cell_type": "markdown",
   "id": "93f68923",
   "metadata": {},
   "source": [
    "### Theory Cl's"
   ]
  },
  {
   "cell_type": "code",
   "execution_count": null,
   "id": "16764746",
   "metadata": {},
   "outputs": [],
   "source": []
  },
  {
   "cell_type": "markdown",
   "id": "d7c4c88c",
   "metadata": {},
   "source": [
    "### Comparisons"
   ]
  },
  {
   "cell_type": "code",
   "execution_count": null,
   "id": "1fd25492",
   "metadata": {},
   "outputs": [],
   "source": [
    "plt.errorbar(cl_Planck__CMB18_Planck__CMB18[0], cl_Planck__CMB18_Planck__CMB18[1][0], yerr=err_Planck__CMB18_Planck__CMB18, fmt='o-', label='data')\n",
    "plt.plot(cl_Planck__CMB18_Planck__CMB18[0], clt_Planck__CMB18_Planck__CMB18, 'o-', label='theory')\n",
    "plt.title('Planck__CMB18-Planck__CMB18')\n",
    "plt.xlabel('$\\\\ell$', fontsize=16)\n",
    "plt.ylabel('$C_\\\\ell$', fontsize=16)\n",
    "plt.legend(loc='lower left', ncol=2, labelspacing=0.1)\n",
    "plt.xscale(\"log\")\n",
    "plt.yscale(\"log\")\n",
    "plt.show()"
   ]
  },
  {
   "cell_type": "code",
   "execution_count": null,
   "id": "ea90930e",
   "metadata": {},
   "outputs": [],
   "source": [
    "Planck__CMB18 = {\n",
    "    \"cl\": cl_Planck__CMB18_Planck__CMB18,\n",
    "    \"err\": err_Planck__CMB18_Planck__CMB18,\n",
    "    }"
   ]
  },
  {
   "cell_type": "code",
   "execution_count": null,
   "id": "17ea8c3b",
   "metadata": {},
   "outputs": [],
   "source": [
    "np.savez(\"../results/Planck__CMB18\", Planck__CMB18)"
   ]
  },
  {
   "cell_type": "code",
   "execution_count": null,
   "id": "f4b27c50",
   "metadata": {},
   "outputs": [],
   "source": [
    "import shutil\n",
    "shutil.rmtree(\"../reruns/\")"
   ]
  }
 ],
 "metadata": {
  "kernelspec": {
   "display_name": "Python 3",
   "language": "python",
   "name": "python3"
  },
  "language_info": {
   "codemirror_mode": {
    "name": "ipython",
    "version": 3
   },
   "file_extension": ".py",
   "mimetype": "text/x-python",
   "name": "python",
   "nbconvert_exporter": "python",
   "pygments_lexer": "ipython3",
   "version": "3.8.5"
  }
 },
 "nbformat": 4,
 "nbformat_minor": 5
}
