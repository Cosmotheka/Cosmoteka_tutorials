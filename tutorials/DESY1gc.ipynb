{
 "cells": [
  {
   "cell_type": "markdown",
   "metadata": {},
   "source": [
    "# DESY1 GC"
   ]
  },
  {
   "cell_type": "code",
   "execution_count": null,
   "metadata": {},
   "outputs": [],
   "source": [
    "# some_file.py\n",
    "import sys\n",
    "import yaml\n",
    "# insert at 1, 0 is the script path (or '' in REPL)\n",
    "\n",
    "sys.path.insert(1, '/home/jaimerz/PhD/Cosmotheka')\n",
    "\n",
    "from cosmotheka.mappers import MapperDESY1gc\n",
    "from cosmotheka.mappers import utils\n",
    "from cosmotheka.cls.data import Data\n",
    "from cosmotheka.cls.cl import Cl\n",
    "from cosmotheka.cls.cov import Cov\n",
    "from astropy.io import fits\n",
    "from astropy.table import Table\n",
    "import pyccl as ccl\n",
    "import numpy as np\n",
    "import pylab as plt\n",
    "import pymaster as nmt\n",
    "import healpy as hp\n",
    "import numpy as np"
   ]
  },
  {
   "cell_type": "markdown",
   "metadata": {},
   "source": [
    "### Configurations"
   ]
  },
  {
   "cell_type": "code",
   "execution_count": null,
   "metadata": {},
   "outputs": [],
   "source": [
    "data = Data(data_path=\"../config_files/master.yml\")"
   ]
  },
  {
   "cell_type": "markdown",
   "metadata": {},
   "source": [
    "### Mappers"
   ]
  },
  {
   "cell_type": "code",
   "execution_count": null,
   "metadata": {},
   "outputs": [],
   "source": [
    "DESY1gc__0 = data.get_mapper(\"DESY1gc__0\")\n",
    "DESY1gc__1 = data.get_mapper(\"DESY1gc__1\")\n",
    "DESY1gc__2 = data.get_mapper(\"DESY1gc__2\")\n",
    "DESY1gc__3 = data.get_mapper(\"DESY1gc__3\")\n",
    "DESY1gc__4 = data.get_mapper(\"DESY1gc__4\")"
   ]
  },
  {
   "cell_type": "code",
   "execution_count": null,
   "metadata": {},
   "outputs": [],
   "source": [
    "DESY1gc__0_map = DESY1gc__0.get_signal_map()\n",
    "DESY1gc__1_map = DESY1gc__1.get_signal_map()\n",
    "DESY1gc__2_map = DESY1gc__2.get_signal_map()\n",
    "DESY1gc__3_map = DESY1gc__3.get_signal_map()\n",
    "DESY1gc__4_map = DESY1gc__4.get_signal_map()"
   ]
  },
  {
   "cell_type": "code",
   "execution_count": null,
   "metadata": {},
   "outputs": [],
   "source": [
    "hp.visufunc.mollview(map=np.array(DESY1gc__0_map)[0])"
   ]
  },
  {
   "cell_type": "code",
   "execution_count": null,
   "metadata": {},
   "outputs": [],
   "source": [
    "hp.visufunc.mollview(map=np.array(DESY1gc__1_map)[0])"
   ]
  },
  {
   "cell_type": "code",
   "execution_count": null,
   "metadata": {},
   "outputs": [],
   "source": [
    "hp.visufunc.mollview(map=np.array(DESY1gc__2_map)[0])"
   ]
  },
  {
   "cell_type": "code",
   "execution_count": null,
   "metadata": {},
   "outputs": [],
   "source": [
    "hp.visufunc.mollview(map=np.array(DESY1gc__3_map)[0])"
   ]
  },
  {
   "cell_type": "code",
   "execution_count": null,
   "metadata": {},
   "outputs": [],
   "source": [
    "hp.visufunc.mollview(map=np.array(DESY1gc__4_map)[0])"
   ]
  },
  {
   "cell_type": "markdown",
   "metadata": {},
   "source": [
    "### Cl's"
   ]
  },
  {
   "cell_type": "code",
   "execution_count": null,
   "metadata": {},
   "outputs": [],
   "source": [
    "cl_DESY1gc__0_DESY1gc__0 = Cl(data.data, \"DESY1gc__0\", \"DESY1gc__0\")\n",
    "cl_DESY1gc__1_DESY1gc__1 = Cl(data.data, \"DESY1gc__1\", \"DESY1gc__1\")\n",
    "cl_DESY1gc__2_DESY1gc__2 = Cl(data.data, \"DESY1gc__2\", \"DESY1gc__2\")\n",
    "cl_DESY1gc__3_DESY1gc__3 = Cl(data.data, \"DESY1gc__3\", \"DESY1gc__3\")\n",
    "cl_DESY1gc__4_DESY1gc__4 = Cl(data.data, \"DESY1gc__4\", \"DESY1gc__4\")\n",
    "\n",
    "cl_DESY1gc__0_DESY1gc__0 = cl_DESY1gc__0_DESY1gc__0.get_ell_cl()\n",
    "cl_DESY1gc__1_DESY1gc__1 = cl_DESY1gc__1_DESY1gc__1.get_ell_cl()\n",
    "cl_DESY1gc__2_DESY1gc__2 = cl_DESY1gc__2_DESY1gc__2.get_ell_cl()\n",
    "cl_DESY1gc__3_DESY1gc__3 = cl_DESY1gc__3_DESY1gc__3.get_ell_cl()\n",
    "cl_DESY1gc__4_DESY1gc__4 = cl_DESY1gc__4_DESY1gc__4.get_ell_cl()"
   ]
  },
  {
   "cell_type": "markdown",
   "metadata": {},
   "source": [
    "### Covariance Matrix"
   ]
  },
  {
   "cell_type": "code",
   "execution_count": null,
   "metadata": {},
   "outputs": [],
   "source": [
    "cov_DESY1gc__0_DESY1gc__0_DESY1gc__0_DESY1gc__0 = Cov(data.data, \"DESY1gc__0\", \"DESY1gc__0\", \"DESY1gc__0\", \"DESY1gc__0\")\n",
    "cov_DESY1gc__1_DESY1gc__1_DESY1gc__1_DESY1gc__1 = Cov(data.data, \"DESY1gc__1\", \"DESY1gc__1\", \"DESY1gc__1\", \"DESY1gc__1\")\n",
    "cov_DESY1gc__2_DESY1gc__2_DESY1gc__2_DESY1gc__2 = Cov(data.data, \"DESY1gc__2\", \"DESY1gc__2\", \"DESY1gc__2\", \"DESY1gc__2\")\n",
    "cov_DESY1gc__3_DESY1gc__3_DESY1gc__3_DESY1gc__3 = Cov(data.data, \"DESY1gc__3\", \"DESY1gc__3\", \"DESY1gc__3\", \"DESY1gc__3\")\n",
    "cov_DESY1gc__4_DESY1gc__4_DESY1gc__4_DESY1gc__4 = Cov(data.data, \"DESY1gc__4\", \"DESY1gc__4\", \"DESY1gc__4\", \"DESY1gc__4\")\n",
    "\n",
    "cov_DESY1gc__0_DESY1gc__0_DESY1gc__0_DESY1gc__0 = cov_DESY1gc__0_DESY1gc__0_DESY1gc__0_DESY1gc__0.get_covariance()\n",
    "cov_DESY1gc__1_DESY1gc__1_DESY1gc__1_DESY1gc__1 = cov_DESY1gc__1_DESY1gc__1_DESY1gc__1_DESY1gc__1.get_covariance()\n",
    "cov_DESY1gc__2_DESY1gc__2_DESY1gc__2_DESY1gc__2 = cov_DESY1gc__2_DESY1gc__2_DESY1gc__2_DESY1gc__2.get_covariance()\n",
    "cov_DESY1gc__3_DESY1gc__3_DESY1gc__3_DESY1gc__3 = cov_DESY1gc__3_DESY1gc__3_DESY1gc__3_DESY1gc__3.get_covariance()\n",
    "cov_DESY1gc__4_DESY1gc__4_DESY1gc__4_DESY1gc__4 = cov_DESY1gc__4_DESY1gc__4_DESY1gc__4_DESY1gc__4.get_covariance()"
   ]
  },
  {
   "cell_type": "code",
   "execution_count": null,
   "metadata": {},
   "outputs": [],
   "source": [
    "err_DESY1gc__0_DESY1gc__0 = np.sqrt(np.diag(cov_DESY1gc__0_DESY1gc__0_DESY1gc__0_DESY1gc__0))\n",
    "err_DESY1gc__1_DESY1gc__1 = np.sqrt(np.diag(cov_DESY1gc__1_DESY1gc__1_DESY1gc__1_DESY1gc__1))\n",
    "err_DESY1gc__2_DESY1gc__2 = np.sqrt(np.diag(cov_DESY1gc__2_DESY1gc__2_DESY1gc__2_DESY1gc__2))\n",
    "err_DESY1gc__3_DESY1gc__3 = np.sqrt(np.diag(cov_DESY1gc__3_DESY1gc__3_DESY1gc__3_DESY1gc__3))\n",
    "err_DESY1gc__4_DESY1gc__4 = np.sqrt(np.diag(cov_DESY1gc__4_DESY1gc__4_DESY1gc__4_DESY1gc__4))"
   ]
  },
  {
   "cell_type": "markdown",
   "metadata": {},
   "source": [
    "### Theory Cl's"
   ]
  },
  {
   "cell_type": "code",
   "execution_count": null,
   "metadata": {},
   "outputs": [],
   "source": [
    "cosmo = ccl.Cosmology(Omega_c=0.27, Omega_b=0.049, h=0.67, sigma8=0.81, n_s=0.96)\n",
    "\n",
    "DESY1gc__0_nz = DESY1gc__0.get_nz()\n",
    "DESY1gc__1_nz = DESY1gc__1.get_nz()\n",
    "DESY1gc__2_nz = DESY1gc__2.get_nz()\n",
    "DESY1gc__3_nz = DESY1gc__3.get_nz()\n",
    "DESY1gc__4_nz = DESY1gc__4.get_nz()\n",
    "\n",
    "DESY1gc__0_z, DESY1gc__0_dNdz = DESY1gc__0_nz[0], DESY1gc__0_nz[1]\n",
    "DESY1gc__1_z, DESY1gc__1_dNdz = DESY1gc__1_nz[0], DESY1gc__1_nz[1]\n",
    "DESY1gc__2_z, DESY1gc__2_dNdz = DESY1gc__2_nz[0], DESY1gc__2_nz[1]\n",
    "DESY1gc__3_z, DESY1gc__3_dNdz = DESY1gc__3_nz[0], DESY1gc__3_nz[1]\n",
    "DESY1gc__4_z, DESY1gc__4_dNdz = DESY1gc__4_nz[0], DESY1gc__4_nz[1]\n",
    "\n",
    "b_DESY1gc__0 = data.data[\"tracers\"][\"DESY1gc__0\"][\"bias\"]*np.ones(len(DESY1gc__0_z))\n",
    "b_DESY1gc__1 = data.data[\"tracers\"][\"DESY1gc__1\"][\"bias\"]*np.ones(len(DESY1gc__1_z))\n",
    "b_DESY1gc__2 = data.data[\"tracers\"][\"DESY1gc__2\"][\"bias\"]*np.ones(len(DESY1gc__2_z))\n",
    "b_DESY1gc__3 = data.data[\"tracers\"][\"DESY1gc__3\"][\"bias\"]*np.ones(len(DESY1gc__3_z))\n",
    "b_DESY1gc__4 = data.data[\"tracers\"][\"DESY1gc__4\"][\"bias\"]*np.ones(len(DESY1gc__4_z))\n",
    "\n",
    "tracer_DESY1gc__0 = ccl.NumberCountsTracer(cosmo, has_rsd=False,\n",
    "    dndz=(DESY1gc__0_z, DESY1gc__0_dNdz), bias=(DESY1gc__0_z, b_DESY1gc__0))\n",
    "\n",
    "tracer_DESY1gc__1 = ccl.NumberCountsTracer(cosmo, has_rsd=False,\n",
    "    dndz=(DESY1gc__1_z, DESY1gc__1_dNdz), bias=(DESY1gc__1_z, b_DESY1gc__1))\n",
    "\n",
    "tracer_DESY1gc__2 = ccl.NumberCountsTracer(cosmo, has_rsd=False,\n",
    "    dndz=(DESY1gc__2_z, DESY1gc__2_dNdz), bias=(DESY1gc__2_z, b_DESY1gc__2))\n",
    "\n",
    "tracer_DESY1gc__3 = ccl.NumberCountsTracer(cosmo, has_rsd=False,\n",
    "    dndz=(DESY1gc__3_z, DESY1gc__3_dNdz), bias=(DESY1gc__3_z, b_DESY1gc__3))\n",
    "\n",
    "tracer_DESY1gc__4 = ccl.NumberCountsTracer(cosmo, has_rsd=False,\n",
    "    dndz=(DESY1gc__4_z, DESY1gc__4_dNdz), bias=(DESY1gc__4_z, b_DESY1gc__4))\n",
    "\n",
    "clt_DESY1gc__0_DESY1gc__0 = ccl.angular_cl(cosmo, tracer_DESY1gc__0, tracer_DESY1gc__0, cl_DESY1gc__0_DESY1gc__0[0])\n",
    "clt_DESY1gc__1_DESY1gc__1 = ccl.angular_cl(cosmo, tracer_DESY1gc__1, tracer_DESY1gc__1, cl_DESY1gc__1_DESY1gc__1[0]) \n",
    "clt_DESY1gc__2_DESY1gc__2 = ccl.angular_cl(cosmo, tracer_DESY1gc__2, tracer_DESY1gc__2, cl_DESY1gc__2_DESY1gc__2[0]) \n",
    "clt_DESY1gc__3_DESY1gc__3 = ccl.angular_cl(cosmo, tracer_DESY1gc__3, tracer_DESY1gc__3, cl_DESY1gc__3_DESY1gc__3[0]) \n",
    "clt_DESY1gc__4_DESY1gc__4 = ccl.angular_cl(cosmo, tracer_DESY1gc__4, tracer_DESY1gc__4, cl_DESY1gc__4_DESY1gc__4[0]) "
   ]
  },
  {
   "cell_type": "markdown",
   "metadata": {},
   "source": [
    "### Comparison"
   ]
  },
  {
   "cell_type": "code",
   "execution_count": null,
   "metadata": {},
   "outputs": [],
   "source": [
    "plt.plot(DESY1gc__0_z, DESY1gc__0_dNdz, label='DESY1gc__0')\n",
    "plt.plot(DESY1gc__1_z, DESY1gc__1_dNdz, label='DESY1gc__1')\n",
    "plt.plot(DESY1gc__2_z, DESY1gc__2_dNdz, label='DESY1gc__2')\n",
    "plt.plot(DESY1gc__3_z, DESY1gc__3_dNdz, label='DESY1gc__3')\n",
    "plt.plot(DESY1gc__4_z, DESY1gc__4_dNdz, label='DESY1gc__4')\n",
    "plt.legend()\n",
    "plt.show()"
   ]
  },
  {
   "cell_type": "code",
   "execution_count": null,
   "metadata": {},
   "outputs": [],
   "source": [
    "plt.errorbar(cl_DESY1gc__0_DESY1gc__0[0], cl_DESY1gc__0_DESY1gc__0[1][0], yerr=err_DESY1gc__0_DESY1gc__0, fmt='o-', label='data')\n",
    "plt.plot(cl_DESY1gc__0_DESY1gc__0[0], clt_DESY1gc__0_DESY1gc__0, 'o-', label='theory')\n",
    "plt.title('DESY1gc__0-DESY1gc__0')\n",
    "plt.xlabel('$\\\\ell$', fontsize=16)\n",
    "plt.ylabel('$C_\\\\ell$', fontsize=16)\n",
    "plt.legend(loc='lower left', ncol=2, labelspacing=0.1)\n",
    "plt.xscale(\"log\")\n",
    "plt.yscale(\"log\")\n",
    "plt.show()"
   ]
  },
  {
   "cell_type": "code",
   "execution_count": null,
   "metadata": {},
   "outputs": [],
   "source": [
    "plt.errorbar(cl_DESY1gc__1_DESY1gc__1[0], cl_DESY1gc__1_DESY1gc__1[1][0], yerr=err_DESY1gc__1_DESY1gc__1, fmt='o-', label='data')\n",
    "plt.plot(cl_DESY1gc__1_DESY1gc__1[0], clt_DESY1gc__1_DESY1gc__1, 'o-', label='theory')\n",
    "plt.title('DESY1gc__1-DESY1gc__1')\n",
    "plt.xlabel('$\\\\ell$', fontsize=16)\n",
    "plt.ylabel('$C_\\\\ell$', fontsize=16)\n",
    "plt.legend(loc='lower left', ncol=2, labelspacing=0.1)\n",
    "plt.xscale(\"log\")\n",
    "plt.yscale(\"log\")\n",
    "plt.show()"
   ]
  },
  {
   "cell_type": "code",
   "execution_count": null,
   "metadata": {},
   "outputs": [],
   "source": [
    "plt.errorbar(cl_DESY1gc__2_DESY1gc__2[0], cl_DESY1gc__2_DESY1gc__2[1][0], yerr=err_DESY1gc__2_DESY1gc__2, fmt='o-', label='data')\n",
    "plt.plot(cl_DESY1gc__2_DESY1gc__2[0], clt_DESY1gc__2_DESY1gc__2, 'o-', label='theory')\n",
    "plt.title('DESY1gc__2-DESY1gc__2')\n",
    "plt.xlabel('$\\\\ell$', fontsize=16)\n",
    "plt.ylabel('$C_\\\\ell$', fontsize=16)\n",
    "plt.legend(loc='lower left', ncol=2, labelspacing=0.1)\n",
    "plt.xscale(\"log\")\n",
    "plt.yscale(\"log\")\n",
    "plt.show()\n"
   ]
  },
  {
   "cell_type": "code",
   "execution_count": null,
   "metadata": {},
   "outputs": [],
   "source": [
    "plt.errorbar(cl_DESY1gc__3_DESY1gc__3[0], cl_DESY1gc__3_DESY1gc__3[1][0], yerr=err_DESY1gc__3_DESY1gc__3, fmt='o-', label='data')\n",
    "plt.plot(cl_DESY1gc__3_DESY1gc__3[0], clt_DESY1gc__3_DESY1gc__3, 'o-', label='theory')\n",
    "plt.title('DESY1gc__3-DESY1gc__3')\n",
    "plt.xlabel('$\\\\ell$', fontsize=16)\n",
    "plt.ylabel('$C_\\\\ell$', fontsize=16)\n",
    "plt.legend(loc='lower left', ncol=2, labelspacing=0.1)\n",
    "plt.xscale(\"log\")\n",
    "plt.yscale(\"log\")\n",
    "plt.show()"
   ]
  },
  {
   "cell_type": "code",
   "execution_count": null,
   "metadata": {},
   "outputs": [],
   "source": [
    "plt.errorbar(cl_DESY1gc__4_DESY1gc__4[0], cl_DESY1gc__4_DESY1gc__4[1][0], yerr=err_DESY1gc__4_DESY1gc__4, fmt='o-', label='data')\n",
    "plt.plot(cl_DESY1gc__4_DESY1gc__4[0], clt_DESY1gc__4_DESY1gc__4, 'o-', label='theory')\n",
    "plt.title('DESY1gc__4-DESY1gc__4')\n",
    "plt.xlabel('$\\\\ell$', fontsize=16)\n",
    "plt.ylabel('$C_\\\\ell$', fontsize=16)\n",
    "plt.legend(loc='lower left', ncol=2, labelspacing=0.1)\n",
    "plt.xscale(\"log\")\n",
    "plt.yscale(\"log\")\n",
    "plt.show()"
   ]
  },
  {
   "cell_type": "code",
   "execution_count": null,
   "metadata": {},
   "outputs": [],
   "source": [
    "DESY1gc__0 = {\n",
    "    \"nz\": DESY1gc__0_nz,\n",
    "    \"cl\": cl_DESY1gc__0_DESY1gc__0,\n",
    "    \"err\": err_DESY1gc__0_DESY1gc__0,\n",
    "    }\n",
    "DESY1gc__1 = {\n",
    "    \"nz\": DESY1gc__1_nz,\n",
    "    \"cl\": cl_DESY1gc__1_DESY1gc__1,\n",
    "    \"err\": err_DESY1gc__1_DESY1gc__1,\n",
    "    }\n",
    "DESY1gc__2 = {\n",
    "    \"nz\": DESY1gc__2_nz,\n",
    "    \"cl\": cl_DESY1gc__2_DESY1gc__2,\n",
    "    \"err\": err_DESY1gc__2_DESY1gc__2,\n",
    "    }\n",
    "DESY1gc__3 = {\n",
    "    \"nz\": DESY1gc__3_nz,\n",
    "    \"cl\": cl_DESY1gc__3_DESY1gc__3,\n",
    "    \"err\": err_DESY1gc__3_DESY1gc__3,\n",
    "    }\n",
    "DESY1gc__4 = {\n",
    "    \"nz\": DESY1gc__4_nz,\n",
    "    \"cl\": cl_DESY1gc__4_DESY1gc__4,\n",
    "    \"err\": err_DESY1gc__4_DESY1gc__4,\n",
    "    }"
   ]
  },
  {
   "cell_type": "code",
   "execution_count": null,
   "metadata": {},
   "outputs": [],
   "source": [
    "np.savez(\"../results/DESY1gc__0\", DESY1gc__0)\n",
    "np.savez(\"../results/DESY1gc__1\", DESY1gc__1)\n",
    "np.savez(\"../results/DESY1gc__2\", DESY1gc__2)\n",
    "np.savez(\"../results/DESY1gc__3\", DESY1gc__3)\n",
    "np.savez(\"../results/DESY1gc__4\", DESY1gc__4)"
   ]
  },
  {
   "cell_type": "code",
   "execution_count": null,
   "metadata": {},
   "outputs": [],
   "source": [
    "import shutil\n",
    "shutil.rmtree(\"../reruns/\")"
   ]
  }
 ],
 "metadata": {
  "kernelspec": {
   "display_name": "Python 3",
   "language": "python",
   "name": "python3"
  },
  "language_info": {
   "codemirror_mode": {
    "name": "ipython",
    "version": 3
   },
   "file_extension": ".py",
   "mimetype": "text/x-python",
   "name": "python",
   "nbconvert_exporter": "python",
   "pygments_lexer": "ipython3",
   "version": "3.9.17"
  }
 },
 "nbformat": 4,
 "nbformat_minor": 4
}
