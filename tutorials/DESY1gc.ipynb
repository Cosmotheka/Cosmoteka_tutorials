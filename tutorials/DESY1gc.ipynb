{
 "cells": [
  {
   "cell_type": "markdown",
   "metadata": {},
   "source": [
    "# DESY1 GC"
   ]
  },
  {
   "cell_type": "code",
   "execution_count": 4,
   "metadata": {},
   "outputs": [],
   "source": [
    "# some_file.py\n",
    "import sys\n",
    "import yaml\n",
    "# insert at 1, 0 is the script path (or '' in REPL)\n",
    "\n",
    "sys.path.insert(1, '/home/jaimerz/PhD/xCell')\n",
    "\n",
    "from xcell.mappers import MapperDESY1gc\n",
    "from xcell.mappers import utils\n",
    "from xcell.cls.data import Data\n",
    "from xcell.cls.cl import Cl\n",
    "from xcell.cls.cov import Cov\n",
    "from astropy.io import fits\n",
    "from astropy.table import Table\n",
    "import pyccl as ccl\n",
    "import numpy as np\n",
    "import pylab as plt\n",
    "import pymaster as nmt\n",
    "import healpy as hp\n",
    "import numpy as np"
   ]
  },
  {
   "cell_type": "markdown",
   "metadata": {},
   "source": [
    "### Configurations"
   ]
  },
  {
   "cell_type": "code",
   "execution_count": 5,
   "metadata": {},
   "outputs": [],
   "source": [
    "data = Data(data_path=\"../config_files/master.yml\")"
   ]
  },
  {
   "cell_type": "markdown",
   "metadata": {},
   "source": [
    "### Mappers"
   ]
  },
  {
   "cell_type": "code",
   "execution_count": 6,
   "metadata": {},
   "outputs": [],
   "source": [
    "DESY1gc__0 = data.get_mapper(\"DESY1gc__0\")\n",
    "DESY1gc__1 = data.get_mapper(\"DESY1gc__1\")\n",
    "DESY1gc__2 = data.get_mapper(\"DESY1gc__2\")\n",
    "DESY1gc__3 = data.get_mapper(\"DESY1gc__3\")\n",
    "DESY1gc__4 = data.get_mapper(\"DESY1gc__4\")"
   ]
  },
  {
   "cell_type": "code",
   "execution_count": 7,
   "metadata": {},
   "outputs": [
    {
     "ename": "PermissionError",
     "evalue": "[Errno 13] Permission denied: '/mnt/extraspace'",
     "output_type": "error",
     "traceback": [
      "\u001b[0;31m---------------------------------------------------------------------------\u001b[0m",
      "\u001b[0;31mPermissionError\u001b[0m                           Traceback (most recent call last)",
      "Cell \u001b[0;32mIn[7], line 1\u001b[0m\n\u001b[0;32m----> 1\u001b[0m DESY1gc__0_map \u001b[39m=\u001b[39m DESY1gc__0\u001b[39m.\u001b[39;49mget_signal_map()\n\u001b[1;32m      2\u001b[0m DESY1gc__1_map \u001b[39m=\u001b[39m DESY1gc__1\u001b[39m.\u001b[39mget_signal_map()\n\u001b[1;32m      3\u001b[0m DESY1gc__2_map \u001b[39m=\u001b[39m DESY1gc__2\u001b[39m.\u001b[39mget_signal_map()\n",
      "File \u001b[0;32m~/PhD/xCell/xcell/mappers/mapper_base.py:69\u001b[0m, in \u001b[0;36mMapperBase.get_signal_map\u001b[0;34m(self, **kwargs)\u001b[0m\n\u001b[1;32m     66\u001b[0m         \u001b[39melse\u001b[39;00m:\n\u001b[1;32m     67\u001b[0m             \u001b[39mreturn\u001b[39;00m \u001b[39mself\u001b[39m\u001b[39m.\u001b[39m_get_signal_map(\u001b[39m*\u001b[39m\u001b[39m*\u001b[39mkwargs)\n\u001b[0;32m---> 69\u001b[0m     signal_map \u001b[39m=\u001b[39m \u001b[39mself\u001b[39;49m\u001b[39m.\u001b[39;49m_rerun_read_cycle(fn, \u001b[39m'\u001b[39;49m\u001b[39mFITSMap\u001b[39;49m\u001b[39m'\u001b[39;49m, func)\n\u001b[1;32m     70\u001b[0m     \u001b[39mself\u001b[39m\u001b[39m.\u001b[39msignal_map \u001b[39m=\u001b[39m np\u001b[39m.\u001b[39matleast_2d(signal_map)\n\u001b[1;32m     72\u001b[0m \u001b[39mreturn\u001b[39;00m \u001b[39mself\u001b[39m\u001b[39m.\u001b[39msignal_map\n",
      "File \u001b[0;32m~/PhD/xCell/xcell/mappers/mapper_base.py:133\u001b[0m, in \u001b[0;36mMapperBase._rerun_read_cycle\u001b[0;34m(self, fname, ftype, func, section, saved_by_func)\u001b[0m\n\u001b[1;32m    131\u001b[0m \u001b[39mdef\u001b[39;00m \u001b[39m_rerun_read_cycle\u001b[39m(\u001b[39mself\u001b[39m, fname, ftype, func,\n\u001b[1;32m    132\u001b[0m                       section\u001b[39m=\u001b[39m\u001b[39mNone\u001b[39;00m, saved_by_func\u001b[39m=\u001b[39m\u001b[39mFalse\u001b[39;00m):\n\u001b[0;32m--> 133\u001b[0m     d \u001b[39m=\u001b[39m get_rerun_data(\u001b[39mself\u001b[39;49m, fname, ftype,\n\u001b[1;32m    134\u001b[0m                        section\u001b[39m=\u001b[39;49msection)\n\u001b[1;32m    135\u001b[0m     \u001b[39mif\u001b[39;00m d \u001b[39mis\u001b[39;00m \u001b[39mNone\u001b[39;00m:\n\u001b[1;32m    136\u001b[0m         d \u001b[39m=\u001b[39m func()\n",
      "File \u001b[0;32m~/PhD/xCell/xcell/mappers/utils.py:52\u001b[0m, in \u001b[0;36mget_rerun_data\u001b[0;34m(mpr, fname, ftype, section, read)\u001b[0m\n\u001b[1;32m     49\u001b[0m \u001b[39mif\u001b[39;00m ignore:\n\u001b[1;32m     50\u001b[0m     \u001b[39mreturn\u001b[39;00m \u001b[39mNone\u001b[39;00m\n\u001b[0;32m---> 52\u001b[0m fname_full, exists \u001b[39m=\u001b[39m _build_rerun_fname(mpr, fname)\n\u001b[1;32m     54\u001b[0m \u001b[39m# Check if we want to save rerun data\u001b[39;00m\n\u001b[1;32m     55\u001b[0m \u001b[39mif\u001b[39;00m fname_full \u001b[39mis\u001b[39;00m \u001b[39mNone\u001b[39;00m:\n",
      "File \u001b[0;32m~/PhD/xCell/xcell/mappers/utils.py:25\u001b[0m, in \u001b[0;36m_build_rerun_fname\u001b[0;34m(mpr, fname)\u001b[0m\n\u001b[1;32m     22\u001b[0m \u001b[39mif\u001b[39;00m path \u001b[39mis\u001b[39;00m \u001b[39mNone\u001b[39;00m:\n\u001b[1;32m     23\u001b[0m     \u001b[39mreturn\u001b[39;00m \u001b[39mNone\u001b[39;00m, \u001b[39mFalse\u001b[39;00m\n\u001b[0;32m---> 25\u001b[0m os\u001b[39m.\u001b[39;49mmakedirs(path, exist_ok\u001b[39m=\u001b[39;49m\u001b[39mTrue\u001b[39;49;00m)\n\u001b[1;32m     27\u001b[0m \u001b[39m# Check if file exists\u001b[39;00m\n\u001b[1;32m     28\u001b[0m fname_full \u001b[39m=\u001b[39m os\u001b[39m.\u001b[39mpath\u001b[39m.\u001b[39mjoin(path, fname)\n",
      "File \u001b[0;32m~/mambaforge/envs/tutorials/lib/python3.9/os.py:215\u001b[0m, in \u001b[0;36mmakedirs\u001b[0;34m(name, mode, exist_ok)\u001b[0m\n\u001b[1;32m    213\u001b[0m \u001b[39mif\u001b[39;00m head \u001b[39mand\u001b[39;00m tail \u001b[39mand\u001b[39;00m \u001b[39mnot\u001b[39;00m path\u001b[39m.\u001b[39mexists(head):\n\u001b[1;32m    214\u001b[0m     \u001b[39mtry\u001b[39;00m:\n\u001b[0;32m--> 215\u001b[0m         makedirs(head, exist_ok\u001b[39m=\u001b[39;49mexist_ok)\n\u001b[1;32m    216\u001b[0m     \u001b[39mexcept\u001b[39;00m \u001b[39mFileExistsError\u001b[39;00m:\n\u001b[1;32m    217\u001b[0m         \u001b[39m# Defeats race condition when another thread created the path\u001b[39;00m\n\u001b[1;32m    218\u001b[0m         \u001b[39mpass\u001b[39;00m\n",
      "File \u001b[0;32m~/mambaforge/envs/tutorials/lib/python3.9/os.py:215\u001b[0m, in \u001b[0;36mmakedirs\u001b[0;34m(name, mode, exist_ok)\u001b[0m\n\u001b[1;32m    213\u001b[0m \u001b[39mif\u001b[39;00m head \u001b[39mand\u001b[39;00m tail \u001b[39mand\u001b[39;00m \u001b[39mnot\u001b[39;00m path\u001b[39m.\u001b[39mexists(head):\n\u001b[1;32m    214\u001b[0m     \u001b[39mtry\u001b[39;00m:\n\u001b[0;32m--> 215\u001b[0m         makedirs(head, exist_ok\u001b[39m=\u001b[39;49mexist_ok)\n\u001b[1;32m    216\u001b[0m     \u001b[39mexcept\u001b[39;00m \u001b[39mFileExistsError\u001b[39;00m:\n\u001b[1;32m    217\u001b[0m         \u001b[39m# Defeats race condition when another thread created the path\u001b[39;00m\n\u001b[1;32m    218\u001b[0m         \u001b[39mpass\u001b[39;00m\n",
      "    \u001b[0;31m[... skipping similar frames: makedirs at line 215 (1 times)]\u001b[0m\n",
      "File \u001b[0;32m~/mambaforge/envs/tutorials/lib/python3.9/os.py:215\u001b[0m, in \u001b[0;36mmakedirs\u001b[0;34m(name, mode, exist_ok)\u001b[0m\n\u001b[1;32m    213\u001b[0m \u001b[39mif\u001b[39;00m head \u001b[39mand\u001b[39;00m tail \u001b[39mand\u001b[39;00m \u001b[39mnot\u001b[39;00m path\u001b[39m.\u001b[39mexists(head):\n\u001b[1;32m    214\u001b[0m     \u001b[39mtry\u001b[39;00m:\n\u001b[0;32m--> 215\u001b[0m         makedirs(head, exist_ok\u001b[39m=\u001b[39;49mexist_ok)\n\u001b[1;32m    216\u001b[0m     \u001b[39mexcept\u001b[39;00m \u001b[39mFileExistsError\u001b[39;00m:\n\u001b[1;32m    217\u001b[0m         \u001b[39m# Defeats race condition when another thread created the path\u001b[39;00m\n\u001b[1;32m    218\u001b[0m         \u001b[39mpass\u001b[39;00m\n",
      "File \u001b[0;32m~/mambaforge/envs/tutorials/lib/python3.9/os.py:225\u001b[0m, in \u001b[0;36mmakedirs\u001b[0;34m(name, mode, exist_ok)\u001b[0m\n\u001b[1;32m    223\u001b[0m         \u001b[39mreturn\u001b[39;00m\n\u001b[1;32m    224\u001b[0m \u001b[39mtry\u001b[39;00m:\n\u001b[0;32m--> 225\u001b[0m     mkdir(name, mode)\n\u001b[1;32m    226\u001b[0m \u001b[39mexcept\u001b[39;00m \u001b[39mOSError\u001b[39;00m:\n\u001b[1;32m    227\u001b[0m     \u001b[39m# Cannot rely on checking for EEXIST, since the operating system\u001b[39;00m\n\u001b[1;32m    228\u001b[0m     \u001b[39m# could give priority to other errors like EACCES or EROFS\u001b[39;00m\n\u001b[1;32m    229\u001b[0m     \u001b[39mif\u001b[39;00m \u001b[39mnot\u001b[39;00m exist_ok \u001b[39mor\u001b[39;00m \u001b[39mnot\u001b[39;00m path\u001b[39m.\u001b[39misdir(name):\n",
      "\u001b[0;31mPermissionError\u001b[0m: [Errno 13] Permission denied: '/mnt/extraspace'"
     ]
    }
   ],
   "source": [
    "DESY1gc__0_map = DESY1gc__0.get_signal_map()\n",
    "DESY1gc__1_map = DESY1gc__1.get_signal_map()\n",
    "DESY1gc__2_map = DESY1gc__2.get_signal_map()\n",
    "DESY1gc__3_map = DESY1gc__3.get_signal_map()\n",
    "DESY1gc__4_map = DESY1gc__4.get_signal_map()"
   ]
  },
  {
   "cell_type": "code",
   "execution_count": 8,
   "metadata": {},
   "outputs": [
    {
     "ename": "NameError",
     "evalue": "name 'DESY1gc__0_map' is not defined",
     "output_type": "error",
     "traceback": [
      "\u001b[0;31m---------------------------------------------------------------------------\u001b[0m",
      "\u001b[0;31mNameError\u001b[0m                                 Traceback (most recent call last)",
      "Cell \u001b[0;32mIn[8], line 1\u001b[0m\n\u001b[0;32m----> 1\u001b[0m hp\u001b[39m.\u001b[39mvisufunc\u001b[39m.\u001b[39mmollview(\u001b[39mmap\u001b[39m\u001b[39m=\u001b[39mnp\u001b[39m.\u001b[39marray(DESY1gc__0_map)[\u001b[39m0\u001b[39m])\n",
      "\u001b[0;31mNameError\u001b[0m: name 'DESY1gc__0_map' is not defined"
     ]
    }
   ],
   "source": [
    "hp.visufunc.mollview(map=np.array(DESY1gc__0_map)[0])"
   ]
  },
  {
   "cell_type": "code",
   "execution_count": 2,
   "metadata": {},
   "outputs": [
    {
     "ename": "NameError",
     "evalue": "name 'hp' is not defined",
     "output_type": "error",
     "traceback": [
      "\u001b[0;31m---------------------------------------------------------------------------\u001b[0m",
      "\u001b[0;31mNameError\u001b[0m                                 Traceback (most recent call last)",
      "Cell \u001b[0;32mIn[2], line 1\u001b[0m\n\u001b[0;32m----> 1\u001b[0m hp\u001b[39m.\u001b[39mvisufunc\u001b[39m.\u001b[39mmollview(\u001b[39mmap\u001b[39m\u001b[39m=\u001b[39mnp\u001b[39m.\u001b[39marray(DESY1gc__1_map)[\u001b[39m0\u001b[39m])\n",
      "\u001b[0;31mNameError\u001b[0m: name 'hp' is not defined"
     ]
    }
   ],
   "source": [
    "hp.visufunc.mollview(map=np.array(DESY1gc__1_map)[0])"
   ]
  },
  {
   "cell_type": "code",
   "execution_count": 3,
   "metadata": {},
   "outputs": [
    {
     "ename": "NameError",
     "evalue": "name 'hp' is not defined",
     "output_type": "error",
     "traceback": [
      "\u001b[0;31m---------------------------------------------------------------------------\u001b[0m",
      "\u001b[0;31mNameError\u001b[0m                                 Traceback (most recent call last)",
      "Cell \u001b[0;32mIn[3], line 1\u001b[0m\n\u001b[0;32m----> 1\u001b[0m hp\u001b[39m.\u001b[39mvisufunc\u001b[39m.\u001b[39mmollview(\u001b[39mmap\u001b[39m\u001b[39m=\u001b[39mnp\u001b[39m.\u001b[39marray(DESY1gc__2_map)[\u001b[39m0\u001b[39m])\n",
      "\u001b[0;31mNameError\u001b[0m: name 'hp' is not defined"
     ]
    }
   ],
   "source": [
    "hp.visufunc.mollview(map=np.array(DESY1gc__2_map)[0])"
   ]
  },
  {
   "cell_type": "code",
   "execution_count": null,
   "metadata": {},
   "outputs": [],
   "source": [
    "hp.visufunc.mollview(map=np.array(DESY1gc__3_map)[0])"
   ]
  },
  {
   "cell_type": "code",
   "execution_count": null,
   "metadata": {},
   "outputs": [],
   "source": [
    "hp.visufunc.mollview(map=np.array(DESY1gc__4_map)[0])"
   ]
  },
  {
   "cell_type": "markdown",
   "metadata": {},
   "source": [
    "### Cl's"
   ]
  },
  {
   "cell_type": "code",
   "execution_count": null,
   "metadata": {},
   "outputs": [],
   "source": [
    "cl_DESY1gc__0_DESY1gc__0 = Cl(data.data, \"DESY1gc__0\", \"DESY1gc__0\")\n",
    "cl_DESY1gc__1_DESY1gc__1 = Cl(data.data, \"DESY1gc__1\", \"DESY1gc__1\")\n",
    "cl_DESY1gc__2_DESY1gc__2 = Cl(data.data, \"DESY1gc__2\", \"DESY1gc__2\")\n",
    "cl_DESY1gc__3_DESY1gc__3 = Cl(data.data, \"DESY1gc__3\", \"DESY1gc__3\")\n",
    "cl_DESY1gc__4_DESY1gc__4 = Cl(data.data, \"DESY1gc__4\", \"DESY1gc__4\")\n",
    "\n",
    "cl_DESY1gc__0_DESY1gc__0 = cl_DESY1gc__0_DESY1gc__0.get_ell_cl()\n",
    "cl_DESY1gc__1_DESY1gc__1 = cl_DESY1gc__1_DESY1gc__1.get_ell_cl()\n",
    "cl_DESY1gc__2_DESY1gc__2 = cl_DESY1gc__2_DESY1gc__2.get_ell_cl()\n",
    "cl_DESY1gc__3_DESY1gc__3 = cl_DESY1gc__3_DESY1gc__3.get_ell_cl()\n",
    "cl_DESY1gc__4_DESY1gc__4 = cl_DESY1gc__4_DESY1gc__4.get_ell_cl()"
   ]
  },
  {
   "cell_type": "markdown",
   "metadata": {},
   "source": [
    "### Covariance Matrix"
   ]
  },
  {
   "cell_type": "code",
   "execution_count": null,
   "metadata": {},
   "outputs": [],
   "source": [
    "cov_DESY1gc__0_DESY1gc__0_DESY1gc__0_DESY1gc__0 = Cov(data.data, \"DESY1gc__0\", \"DESY1gc__0\", \"DESY1gc__0\", \"DESY1gc__0\")\n",
    "cov_DESY1gc__1_DESY1gc__1_DESY1gc__1_DESY1gc__1 = Cov(data.data, \"DESY1gc__1\", \"DESY1gc__1\", \"DESY1gc__1\", \"DESY1gc__1\")\n",
    "cov_DESY1gc__2_DESY1gc__2_DESY1gc__1_DESY1gc__2 = Cov(data.data, \"DESY1gc__2\", \"DESY1gc__2\", \"DESY1gc__2\", \"DESY1gc__2\")\n",
    "cov_DESY1gc__3_DESY1gc__3_DESY1gc__1_DESY1gc__3 = Cov(data.data, \"DESY1gc__3\", \"DESY1gc__3\", \"DESY1gc__3\", \"DESY1gc__3\")\n",
    "cov_DESY1gc__4_DESY1gc__4_DESY1gc__1_DESY1gc__4 = Cov(data.data, \"DESY1gc__4\", \"DESY1gc__4\", \"DESY1gc__4\", \"DESY1gc__4\")\n",
    "\n",
    "cov_DESY1gc__0_DESY1gc__0_DESY1gc__0_DESY1gc__0 = cov_DESY1gc__0_DESY1gc__0_DESY1gc__0_DESY1gc__0.get_covariance()\n",
    "cov_DESY1gc__1_DESY1gc__1_DESY1gc__1_DESY1gc__1 = cov_DESY1gc__1_DESY1gc__1_DESY1gc__1_DESY1gc__1.get_covariance()\n",
    "cov_DESY1gc__2_DESY1gc__2_DESY1gc__2_DESY1gc__2 = cov_DESY1gc__2_DESY1gc__2_DESY1gc__2_DESY1gc__2.get_covariance()\n",
    "cov_DESY1gc__3_DESY1gc__3_DESY1gc__3_DESY1gc__3 = cov_DESY1gc__3_DESY1gc__3_DESY1gc__3_DESY1gc__3.get_covariance()\n",
    "cov_DESY1gc__4_DESY1gc__4_DESY1gc__4_DESY1gc__4 = cov_DESY1gc__4_DESY1gc__4_DESY1gc__4_DESY1gc__4.get_covariance()"
   ]
  },
  {
   "cell_type": "markdown",
   "metadata": {},
   "source": [
    "err_DESY1gc__0_DESY1gc__0 = np.sqrt(np.diag(cov_DESY1gc__0_DESY1gc__0_DESY1gc__0_DESY1gc__0))\n",
    "err_DESY1gc__1_DESY1gc__1 = np.sqrt(np.diag(cov_DESY1gc__1_DESY1gc__1_DESY1gc__1_DESY1gc__1))\n",
    "err_DESY1gc__2_DESY1gc__2 = np.sqrt(np.diag(cov_DESY1gc__2_DESY1gc__2_DESY1gc__1_DESY1gc__2))\n",
    "err_DESY1gc__3_DESY1gc__3 = np.sqrt(np.diag(cov_DESY1gc__3_DESY1gc__3_DESY1gc__1_DESY1gc__3))\n",
    "err_DESY1gc__4_DESY1gc__4 = np.sqrt(np.diag(cov_DESY1gc__4_DESY1gc__4_DESY1gc__1_DESY1gc__4))"
   ]
  },
  {
   "cell_type": "markdown",
   "metadata": {},
   "source": [
    "### Theory Cl's"
   ]
  },
  {
   "cell_type": "code",
   "execution_count": 7,
   "metadata": {},
   "outputs": [],
   "source": [
    "cosmo = ccl.Cosmology(Omega_c=0.27, Omega_b=0.049, h=0.67, sigma8=0.81, n_s=0.96)\n",
    "\n",
    "DESY1gc__0_nz = DESY1gc__0.get_nz()\n",
    "DESY1gc__1_nz = DESY1gc__1.get_nz()\n",
    "DESY1gc__2_nz = DESY1gc__2.get_nz()\n",
    "DESY1gc__3_nz = DESY1gc__3.get_nz()\n",
    "DESY1gc__4_nz = DESY1gc__4.get_nz()\n",
    "\n",
    "DESY1gc__0_z, DESY1gc__0_dNdz = DESY1gc__0_nz[0], DESY1gc__0_nz[1]\n",
    "DESY1gc__1_z, DESY1gc__1_dNdz = DESY1gc__1_nz[0], DESY1gc__1_nz[1]\n",
    "DESY1gc__2_z, DESY1gc__2_dNdz = DESY1gc__2_nz[0], DESY1gc__2_nz[1]\n",
    "DESY1gc__3_z, DESY1gc__3_dNdz = DESY1gc__3_nz[0], DESY1gc__3_nz[1]\n",
    "DESY1gc__4_z, DESY1gc__4_dNdz = DESY1gc__4_nz[0], DESY1gc__4_nz[1]\n",
    "\n",
    "b_DESY1gc__0 = data.data[\"tracers\"][\"DESY1gc__0\"][\"bias\"]*np.ones(len(DESY1gc__0_z))\n",
    "b_DESY1gc__1 = data.data[\"tracers\"][\"DESY1gc__1\"][\"bias\"]*np.ones(len(DESY1gc__1_z))\n",
    "b_DESY1gc__2 = data.data[\"tracers\"][\"DESY1gc__2\"][\"bias\"]*np.ones(len(DESY1gc__2_z))\n",
    "b_DESY1gc__3 = data.data[\"tracers\"][\"DESY1gc__3\"][\"bias\"]*np.ones(len(DESY1gc__3_z))\n",
    "b_DESY1gc__4 = data.data[\"tracers\"][\"DESY1gc__4\"][\"bias\"]*np.ones(len(DESY1gc__4_z))\n",
    "\n",
    "tracer_DESY1gc__0 = ccl.NumberCountsTracer(cosmo, has_rsd=False,\n",
    "    dndz=(DESY1gc__0_z, DESY1gc__0_dNdz), bias=(DESY1gc__0_z, b_DESY1gc__0))\n",
    "\n",
    "tracer_DESY1gc__1 = ccl.NumberCountsTracer(cosmo, has_rsd=False,\n",
    "    dndz=(DESY1gc__1_z, DESY1gc__1_dNdz), bias=(DESY1gc__1_z, b_DESY1gc__1))\n",
    "\n",
    "tracer_DESY1gc__2 = ccl.NumberCountsTracer(cosmo, has_rsd=False,\n",
    "    dndz=(DESY1gc__2_z, DESY1gc__2_dNdz), bias=(DESY1gc__2_z, b_DESY1gc__2))\n",
    "\n",
    "tracer_DESY1gc__3 = ccl.NumberCountsTracer(cosmo, has_rsd=False,\n",
    "    dndz=(DESY1gc__3_z, DESY1gc__3_dNdz), bias=(DESY1gc__3_z, b_DESY1gc__3))\n",
    "\n",
    "tracer_DESY1gc__4 = ccl.NumberCountsTracer(cosmo, has_rsd=False,\n",
    "    dndz=(DESY1gc__4_z, DESY1gc__4_dNdz), bias=(DESY1gc__4_z, b_DESY1gc__4))\n",
    "\n",
    "clt_DESY1gc__0_DESY1gc__0 = ccl.angular_cl(cosmo, tracer_DESY1gc__0, tracer_DESY1gc__0, cl_DESY1gc__0_DESY1gc__0[0])\n",
    "clt_DESY1gc__1_DESY1gc__1 = ccl.angular_cl(cosmo, tracer_DESY1gc__1, tracer_DESY1gc__1, cl_DESY1gc__1_DESY1gc__1[0]) \n",
    "clt_DESY1gc__2_DESY1gc__2 = ccl.angular_cl(cosmo, tracer_DESY1gc__2, tracer_DESY1gc__2, cl_DESY1gc__2_DESY1gc__2[0]) \n",
    "clt_DESY1gc__3_DESY1gc__3 = ccl.angular_cl(cosmo, tracer_DESY1gc__3, tracer_DESY1gc__3, cl_DESY1gc__3_DESY1gc__3[0]) \n",
    "clt_DESY1gc__4_DESY1gc__4 = ccl.angular_cl(cosmo, tracer_DESY1gc__4, tracer_DESY1gc__4, cl_DESY1gc__4_DESY1gc__4[0]) "
   ]
  },
  {
   "cell_type": "markdown",
   "metadata": {},
   "source": [
    "### Comparison"
   ]
  },
  {
   "cell_type": "code",
   "execution_count": 8,
   "metadata": {},
   "outputs": [],
   "source": [
    "plt.plot(DESY1gc__0_z, DESY1gc__0_dNdz, label='DESY1gc__0')\n",
    "plt.plot(DESY1gc__1_z, DESY1gc__1_dNdz, label='DESY1gc__1')\n",
    "plt.plot(DESY1gc__2_z, DESY1gc__2_dNdz, label='DESY1gc__2')\n",
    "plt.plot(DESY1gc__3_z, DESY1gc__3_dNdz, label='DESY1gc__3')\n",
    "plt.plot(DESY1gc__4_z, DESY1gc__4_dNdz, label='DESY1gc__4')\n",
    "plt.legend()\n",
    "plt.show()"
   ]
  },
  {
   "cell_type": "code",
   "execution_count": 9,
   "metadata": {},
   "outputs": [
    {
     "name": "stderr",
     "output_type": "stream",
     "text": [
      "/home/zcapjru/anaconda3/envs/PhD/lib/python3.8/site-packages/healpy/fitsfunc.py:368: UserWarning: If you are not specifying the input dtype and using the default np.float64 dtype of read_map(), please consider that it will change in a future version to None as to keep the same dtype of the input file: please explicitly set the dtype if it is important to you.\n",
      "  warnings.warn(\n"
     ]
    }
   ],
   "source": [
    "plt.errorbar(cl_DESY1gc__0_DESY1gc__0[0], cl_DESY1gc__0_DESY1gc__0[1][0], yerr=err_DESY1gc__0_DESY1gc__0, fmt='o-', label='data')\n",
    "plt.plot(cl_DESY1gc__0_DESY1gc__0[0], clt_DESY1gc__0_DESY1gc__0, 'o-', label='theory')\n",
    "plt.title('DESY1gc__0-DESY1gc__0')\n",
    "plt.xlabel('$\\\\ell$', fontsize=16)\n",
    "plt.ylabel('$C_\\\\ell$', fontsize=16)\n",
    "plt.legend(loc='lower left', ncol=2, labelspacing=0.1)\n",
    "plt.xscale(\"log\")\n",
    "plt.yscale(\"log\")\n",
    "plt.show()"
   ]
  },
  {
   "cell_type": "code",
   "execution_count": 10,
   "metadata": {},
   "outputs": [
    {
     "name": "stderr",
     "output_type": "stream",
     "text": [
      "/home/zcapjru/anaconda3/envs/PhD/lib/python3.8/site-packages/healpy/projaxes.py:920: MatplotlibDeprecationWarning: You are modifying the state of a globally registered colormap. In future versions, you will not be able to modify a registered colormap in-place. To remove this warning, you can make a copy of the colormap first. cmap = copy.copy(mpl.cm.get_cmap(\"viridis\"))\n",
      "  newcm.set_over(newcm(1.0))\n",
      "/home/zcapjru/anaconda3/envs/PhD/lib/python3.8/site-packages/healpy/projaxes.py:921: MatplotlibDeprecationWarning: You are modifying the state of a globally registered colormap. In future versions, you will not be able to modify a registered colormap in-place. To remove this warning, you can make a copy of the colormap first. cmap = copy.copy(mpl.cm.get_cmap(\"viridis\"))\n",
      "  newcm.set_under(bgcolor)\n",
      "/home/zcapjru/anaconda3/envs/PhD/lib/python3.8/site-packages/healpy/projaxes.py:922: MatplotlibDeprecationWarning: You are modifying the state of a globally registered colormap. In future versions, you will not be able to modify a registered colormap in-place. To remove this warning, you can make a copy of the colormap first. cmap = copy.copy(mpl.cm.get_cmap(\"viridis\"))\n",
      "  newcm.set_bad(badcolor)\n",
      "/home/zcapjru/anaconda3/envs/PhD/lib/python3.8/site-packages/healpy/projaxes.py:202: MatplotlibDeprecationWarning: Passing parameters norm and vmin/vmax simultaneously is deprecated since 3.3 and will become an error two minor releases later. Please pass vmin/vmax directly to the norm when creating it.\n",
      "  aximg = self.imshow(\n"
     ]
    },
    {
     "data": {
      "image/png": "[encoded data removed]",
      "text/plain": [
       "<Figure size 612x388.8 with 2 Axes>"
      ]
     },
     "metadata": {
      "needs_background": "light"
     },
     "output_type": "display_data"
    }
   ],
   "source": [
    "plt.errorbar(cl_DESY1gc__1_DESY1gc__1[0], cl_DESY1gc__1_DESY1gc__1[1][0], yerr=err_DESY1gc__1_DESY1gc__1, fmt='o-', label='data')\n",
    "plt.plot(cl_DESY1gc__1_DESY1gc__1[0], clt_DESY1gc__1_DESY1gc__1, 'o-', label='theory')\n",
    "plt.title('DESY1gc__1-DESY1gc__1')\n",
    "plt.xlabel('$\\\\ell$', fontsize=16)\n",
    "plt.ylabel('$C_\\\\ell$', fontsize=16)\n",
    "plt.legend(loc='lower left', ncol=2, labelspacing=0.1)\n",
    "plt.xscale(\"log\")\n",
    "plt.yscale(\"log\")\n",
    "plt.show()"
   ]
  },
  {
   "cell_type": "code",
   "execution_count": 11,
   "metadata": {},
   "outputs": [
    {
     "data": {
      "image/png": "[encoded data removed]",
      "text/plain": [
       "<Figure size 612x388.8 with 2 Axes>"
      ]
     },
     "metadata": {
      "needs_background": "light"
     },
     "output_type": "display_data"
    }
   ],
   "source": [
    "plt.errorbar(cl_DESY1gc__2_DESY1gc__2[0], cl_DESY1gc__2_DESY1gc__2[1][0], yerr=err_DESY1gc__2_DESY1gc__2, fmt='o-', label='data')\n",
    "plt.plot(cl_DESY1gc__2_DESY1gc__2[0], clt_DESY1gc__2_DESY1gc__2, 'o-', label='theory')\n",
    "plt.title('DESY1gc__2-DESY1gc__2')\n",
    "plt.xlabel('$\\\\ell$', fontsize=16)\n",
    "plt.ylabel('$C_\\\\ell$', fontsize=16)\n",
    "plt.legend(loc='lower left', ncol=2, labelspacing=0.1)\n",
    "plt.xscale(\"log\")\n",
    "plt.yscale(\"log\")\n",
    "plt.show()\n"
   ]
  },
  {
   "cell_type": "code",
   "execution_count": 12,
   "metadata": {},
   "outputs": [],
   "source": [
    "plt.errorbar(cl_DESY1gc__3_DESY1gc__3[0], cl_DESY1gc__3_DESY1gc__3[1][0], yerr=err_DESY1gc__3_DESY1gc__3, fmt='o-', label='data')\n",
    "plt.plot(cl_DESY1gc__3_DESY1gc__3[0], clt_DESY1gc__3_DESY1gc__3, 'o-', label='theory')\n",
    "plt.title('DESY1gc__3-DESY1gc__3')\n",
    "plt.xlabel('$\\\\ell$', fontsize=16)\n",
    "plt.ylabel('$C_\\\\ell$', fontsize=16)\n",
    "plt.legend(loc='lower left', ncol=2, labelspacing=0.1)\n",
    "plt.xscale(\"log\")\n",
    "plt.yscale(\"log\")\n",
    "plt.show()"
   ]
  },
  {
   "cell_type": "code",
   "execution_count": 13,
   "metadata": {},
   "outputs": [],
   "source": [
    "plt.errorbar(cl_DESY1gc__4_DESY1gc__4[0], cl_DESY1gc__4_DESY1gc__4[1][0], yerr=err_DESY1gc__4_DESY1gc__4, fmt='o-', label='data')\n",
    "plt.plot(cl_DESY1gc__4_DESY1gc__4[0], clt_DESY1gc__4_DESY1gc__4, 'o-', label='theory')\n",
    "plt.title('DESY1gc__4-DESY1gc__4')\n",
    "plt.xlabel('$\\\\ell$', fontsize=16)\n",
    "plt.ylabel('$C_\\\\ell$', fontsize=16)\n",
    "plt.legend(loc='lower left', ncol=2, labelspacing=0.1)\n",
    "plt.xscale(\"log\")\n",
    "plt.yscale(\"log\")\n",
    "plt.show()"
   ]
  }
 ],
 "metadata": {
  "kernelspec": {
   "display_name": "Python 3",
   "language": "python",
   "name": "python3"
  },
  "language_info": {
   "codemirror_mode": {
    "name": "ipython",
    "version": 3
   },
   "file_extension": ".py",
   "mimetype": "text/x-python",
   "name": "python",
   "nbconvert_exporter": "python",
   "pygments_lexer": "ipython3",
   "version": "3.9.17"
  }
 },
 "nbformat": 4,
 "nbformat_minor": 4
}
