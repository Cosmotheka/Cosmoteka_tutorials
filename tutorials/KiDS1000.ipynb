{
 "cells": [
  {
   "cell_type": "markdown",
   "metadata": {},
   "source": [
    "# KiDS1000\n"
   ]
  },
  {
   "cell_type": "code",
   "execution_count": 1,
   "metadata": {},
   "outputs": [],
   "source": [
    "# some_file.py\n",
    "import sys\n",
    "import yaml\n",
    "# insert at 1, 0 is the script path (or '' in REPL)\n",
    "\n",
    "sys.path.insert(1, '/home/jaimerz/PhD/xCell')\n",
    "\n",
    "from xcell.mappers import MapperKiDS1000\n",
    "from xcell.mappers import utils\n",
    "from xcell.cls.data import Data\n",
    "from xcell.cls.cl import Cl\n",
    "from xcell.cls.cov import Cov\n",
    "from astropy.io import fits\n",
    "from astropy.table import Table\n",
    "import pyccl as ccl\n",
    "import numpy as np\n",
    "import pylab as plt\n",
    "import pymaster as nmt\n",
    "import healpy as hp\n",
    "import numpy as np"
   ]
  },
  {
   "cell_type": "markdown",
   "metadata": {},
   "source": [
    "### Configurations"
   ]
  },
  {
   "cell_type": "code",
   "execution_count": 4,
   "metadata": {},
   "outputs": [],
   "source": [
    "data = Data(data_path=\"../config_files/master.yml\")"
   ]
  },
  {
   "cell_type": "markdown",
   "metadata": {},
   "source": [
    "### Mappers"
   ]
  },
  {
   "cell_type": "code",
   "execution_count": 5,
   "metadata": {},
   "outputs": [],
   "source": [
    "KiDS1000__0 = data.get_mapper(\"KiDS1000__0\")\n",
    "KiDS1000__1 = data.get_mapper(\"KiDS1000__1\")\n",
    "KiDS1000__2 = data.get_mapper(\"KiDS1000__2\")\n",
    "KiDS1000__3 = data.get_mapper(\"KiDS1000__3\")\n",
    "KiDS1000__4 = data.get_mapper(\"KiDS1000__4\")"
   ]
  },
  {
   "cell_type": "code",
   "execution_count": 6,
   "metadata": {},
   "outputs": [
    {
     "name": "stdout",
     "output_type": "stream",
     "text": [
      "Computing bin0 signal map\n"
     ]
    },
    {
     "name": "stderr",
     "output_type": "stream",
     "text": [
      "WARNING: hdu= was not specified but multiple tables are present, reading in first available table (hdu=1) [astropy.io.fits.connect]\n"
     ]
    },
    {
     "ename": "MemoryError",
     "evalue": "Unable to allocate 16.5 GiB for an array with shape (21262011,) and data type [('SeqNr', '<i4'), ('SLID', '<i4'), ('SID', '<i4'), ('ID', 'S25'), ('FLUX_AUTO', '<f4'), ('FLUXERR_AUTO', '<f4'), ('MAG_AUTO', '<f4'), ('MAGERR_AUTO', '<f4'), ('KRON_RADIUS', '<f4'), ('BackGr', '<f4'), ('Level', '<f4'), ('MU_THRESHOLD', '<f4'), ('MaxVal', '<f4'), ('MU_MAX', '<f4'), ('ISOAREA_WORLD', '<f4'), ('Xpos', '<f4'), ('Ypos', '<f4'), ('RAJ2000', '<f8'), ('DECJ2000', '<f8'), ('A_WORLD', '<f4'), ('B_WORLD', '<f4'), ('THETA_J2000', '<f4'), ('THETA_WORLD', '<f4'), ('ERRA_WORLD', '<f4'), ('ERRB_WORLD', '<f4'), ('ERRTHETA_J2000', '<f4'), ('ERRTHETA_WORLD', '<f4'), ('FWHM_IMAGE', '<f4'), ('FWHM_WORLD', '<f4'), ('Flag', '<i2'), ('FLUX_RADIUS', '<f4'), ('CLASS_STAR', '<f4'), ('EXTINCTION_u', '<f4'), ('EXTINCTION_g', '<f4'), ('EXTINCTION_r', '<f4'), ('EXTINCTION_i', '<f4'), ('PAgaap', '<f4'), ('MAG_ISO', '<f4'), ('MAGERR_ISO', '<f4'), ('FLUX_ISO', '<f4'), ('FLUXERR_ISO', '<f4'), ('MAG_ISOCOR', '<f4'), ('MAGERR_ISOCOR', '<f4'), ('FLUX_ISOCOR', '<f4'), ('FLUXERR_ISOCOR', '<f4'), ('NIMAFLAGS_ISO', '<i2'), ('IMAFLAGS_ISO', '<i2'), ('XMIN_IMAGE', '<i2'), ('YMIN_IMAGE', '<i2'), ('XMAX_IMAGE', '<i2'), ('YMAX_IMAGE', '<i2'), ('X_WORLD', '<f8'), ('Y_WORLD', '<f8'), ('X2_WORLD', '<f4'), ('Y2_WORLD', '<f4'), ('XY_WORLD', '<f4'), ('ERRX2_WORLD', '<f4'), ('ERRY2_WORLD', '<f4'), ('ERRXY_WORLD', '<f4'), ('CXX_WORLD', '<f4'), ('CYY_WORLD', '<f4'), ('CXY_WORLD', '<f4'), ('ERRCXX_WORLD', '<f4'), ('ERRCYY_WORLD', '<f4'), ('ERRCXY_WORLD', '<f4'), ('A_IMAGE', '<f8'), ('B_IMAGE', '<f8'), ('ERRA_IMAGE', '<f4'), ('ERRB_IMAGE', '<f4'), ('S_ELLIPTICITY', '<f4'), ('S_ELONGATION', '<f4'), ('ALPHA_J2000', '<f8'), ('DELTA_J2000', '<f8'), ('SG2DPHOT', '<i2'), ('HTM', '<i4'), ('FIELD_POS', '<i2'), ('EXTINCTION_Z', '<f4'), ('EXTINCTION_Y', '<f4'), ('EXTINCTION_J', '<f4'), ('EXTINCTION_H', '<f4'), ('EXTINCTION_Ks', '<f4'), ('MAG_GAAP_u', '<f4'), ('MAGERR_GAAP_u', '<f4'), ('FLUX_GAAP_u', '<f4'), ('FLUXERR_GAAP_u', '<f4'), ('FLAG_GAAP_u', '<i2'), ('MAG_GAAP_g', '<f4'), ('MAGERR_GAAP_g', '<f4'), ('FLUX_GAAP_g', '<f4'), ('FLUXERR_GAAP_g', '<f4'), ('FLAG_GAAP_g', '<i2'), ('MAG_GAAP_r', '<f4'), ('MAGERR_GAAP_r', '<f4'), ('FLUX_GAAP_r', '<f4'), ('FLUXERR_GAAP_r', '<f4'), ('FLAG_GAAP_r', '<i2'), ('MAG_GAAP_i', '<f4'), ('MAGERR_GAAP_i', '<f4'), ('FLUX_GAAP_i', '<f4'), ('FLUXERR_GAAP_i', '<f4'), ('FLAG_GAAP_i', '<i2'), ('MAG_GAAP_Z', '<f4'), ('MAGERR_GAAP_Z', '<f4'), ('FLUX_GAAP_Z', '<f4'), ('FLUXERR_GAAP_Z', '<f4'), ('FLAG_GAAP_Z', '<i2'), ('MAG_GAAP_Y', '<f4'), ('MAGERR_GAAP_Y', '<f4'), ('FLUX_GAAP_Y', '<f4'), ('FLUXERR_GAAP_Y', '<f4'), ('FLAG_GAAP_Y', '<i2'), ('MAG_GAAP_J', '<f4'), ('MAGERR_GAAP_J', '<f4'), ('FLUX_GAAP_J', '<f4'), ('FLUXERR_GAAP_J', '<f4'), ('FLAG_GAAP_J', '<i2'), ('MAG_GAAP_H', '<f4'), ('MAGERR_GAAP_H', '<f4'), ('FLUX_GAAP_H', '<f4'), ('FLUXERR_GAAP_H', '<f4'), ('FLAG_GAAP_H', '<i2'), ('MAG_GAAP_Ks', '<f4'), ('MAGERR_GAAP_Ks', '<f4'), ('FLUX_GAAP_Ks', '<f4'), ('FLUXERR_GAAP_Ks', '<f4'), ('FLAG_GAAP_Ks', '<i2'), ('Agaper', '<f4'), ('Bgaper', '<f4'), ('MAG_LIM_u', '<f4'), ('MAG_LIM_g', '<f4'), ('MAG_LIM_r', '<f4'), ('MAG_LIM_i', '<f4'), ('MAG_LIM_Z', '<f4'), ('MAG_LIM_Y', '<f4'), ('MAG_LIM_J', '<f4'), ('MAG_LIM_H', '<f4'), ('MAG_LIM_Ks', '<f4'), ('Z_B', '<f8'), ('Z_B_MIN', '<f8'), ('Z_B_MAX', '<f8'), ('T_B', '<f8'), ('ODDS', '<f8'), ('Z_ML', '<f8'), ('T_ML', '<f8'), ('CHI_SQUARED_BPZ', '<f8'), ('M_0', '<f8'), ('BPZ_FILT', '<i4'), ('NBPZ_FILT', '<i4'), ('BPZ_NONDETFILT', '<i4'), ('NBPZ_NONDETFILT', '<i4'), ('BPZ_FLAGFILT', '<i4'), ('NBPZ_FLAGFILT', '<i4'), ('SG_FLAG', '<f4'), ('MASK', '<i4'), ('THELI_NAME', 'S16'), ('fitclass', '<i2'), ('bias_corrected_scalelength_pixels', '<f4'), ('bulge_fraction', '<f4'), ('model_flux', '<f4'), ('pixel_SNratio', '<f4'), ('model_SNratio', '<f4'), ('contamination_radius', '<f4'), ('PSF_e1', '<f4'), ('PSF_e2', '<f4'), ('PSF_Strehl_ratio', '<f4'), ('PSF_Q11', '<f4'), ('PSF_Q22', '<f4'), ('PSF_Q12', '<f4'), ('star_galaxy_f_probability', '<f4'), ('r_correction', '<f4'), ('2D_measurement_variance', '<f4'), ('mean_likelihood_e', '<f4'), ('neighbour_mag', '<f4'), ('neighbour_distance', '<f4'), ('catmag', '<f4'), ('n_exposures_used', '<f4'), ('cat_ID', '<i4'), ('delta_SNR', '<f4'), ('PSF_e1_exp1', '<f4'), ('PSF_e2_exp1', '<f4'), ('PSF_e1_exp2', '<f4'), ('PSF_e2_exp2', '<f4'), ('PSF_e1_exp3', '<f4'), ('PSF_e2_exp3', '<f4'), ('PSF_e1_exp4', '<f4'), ('PSF_e2_exp4', '<f4'), ('PSF_e1_exp5', '<f4'), ('PSF_e2_exp5', '<f4'), ('SeqNr_field', '<i4'), ('THELI_INT', '<i2'), ('e1', '<f4'), ('e2', '<f4'), ('weight', '<f4')]",
     "output_type": "error",
     "traceback": [
      "\u001b[0;31m---------------------------------------------------------------------------\u001b[0m",
      "\u001b[0;31mMemoryError\u001b[0m                               Traceback (most recent call last)",
      "Cell \u001b[0;32mIn[6], line 1\u001b[0m\n\u001b[0;32m----> 1\u001b[0m KiDS1000__0_map \u001b[39m=\u001b[39m KiDS1000__0\u001b[39m.\u001b[39;49mget_signal_map()\n\u001b[1;32m      2\u001b[0m KiDS1000__1_map \u001b[39m=\u001b[39m KiDS1000__1\u001b[39m.\u001b[39mget_signal_map()\n\u001b[1;32m      3\u001b[0m KiDS1000__2_map \u001b[39m=\u001b[39m KiDS1000__2\u001b[39m.\u001b[39mget_signal_map()\n",
      "File \u001b[0;32m~/PhD/xCell/xcell/mappers/mapper_KiDS1000.py:198\u001b[0m, in \u001b[0;36mMapperKiDS1000.get_signal_map\u001b[0;34m(self)\u001b[0m\n\u001b[1;32m    194\u001b[0m \u001b[39m# This will only be computed if self.maps['mod'] is None\u001b[39;00m\n\u001b[1;32m    195\u001b[0m fn \u001b[39m=\u001b[39m \u001b[39m'\u001b[39m\u001b[39m_\u001b[39m\u001b[39m'\u001b[39m\u001b[39m.\u001b[39mjoin([\u001b[39mf\u001b[39m\u001b[39m'\u001b[39m\u001b[39m{\u001b[39;00m\u001b[39mself\u001b[39m\u001b[39m.\u001b[39mmap_name\u001b[39m}\u001b[39;00m\u001b[39m_signal_map_\u001b[39m\u001b[39m{\u001b[39;00mmod\u001b[39m}\u001b[39;00m\u001b[39m'\u001b[39m,\n\u001b[1;32m    196\u001b[0m                \u001b[39mf\u001b[39m\u001b[39m'\u001b[39m\u001b[39mcoord\u001b[39m\u001b[39m{\u001b[39;00m\u001b[39mself\u001b[39m\u001b[39m.\u001b[39mcoords\u001b[39m}\u001b[39;00m\u001b[39m'\u001b[39m,\n\u001b[1;32m    197\u001b[0m                \u001b[39mf\u001b[39m\u001b[39m'\u001b[39m\u001b[39mns\u001b[39m\u001b[39m{\u001b[39;00m\u001b[39mself\u001b[39m\u001b[39m.\u001b[39mnside\u001b[39m}\u001b[39;00m\u001b[39m.fits.gz\u001b[39m\u001b[39m'\u001b[39m])\n\u001b[0;32m--> 198\u001b[0m d \u001b[39m=\u001b[39m \u001b[39mself\u001b[39;49m\u001b[39m.\u001b[39;49m_rerun_read_cycle(fn, \u001b[39m'\u001b[39;49m\u001b[39mFITSMap\u001b[39;49m\u001b[39m'\u001b[39;49m,\n\u001b[1;32m    199\u001b[0m                            \u001b[39mself\u001b[39;49m\u001b[39m.\u001b[39;49m_get_ellip_maps,\n\u001b[1;32m    200\u001b[0m                            section\u001b[39m=\u001b[39;49m[\u001b[39m0\u001b[39;49m, \u001b[39m1\u001b[39;49m])\n\u001b[1;32m    201\u001b[0m \u001b[39mself\u001b[39m\u001b[39m.\u001b[39mmaps[mod] \u001b[39m=\u001b[39m np\u001b[39m.\u001b[39marray([d[\u001b[39m0\u001b[39m], d[\u001b[39m1\u001b[39m]])\n\u001b[1;32m    202\u001b[0m \u001b[39mself\u001b[39m\u001b[39m.\u001b[39msignal_map \u001b[39m=\u001b[39m \u001b[39mself\u001b[39m\u001b[39m.\u001b[39mmaps[mod]\n",
      "File \u001b[0;32m~/PhD/xCell/xcell/mappers/mapper_base.py:136\u001b[0m, in \u001b[0;36mMapperBase._rerun_read_cycle\u001b[0;34m(self, fname, ftype, func, section, saved_by_func)\u001b[0m\n\u001b[1;32m    133\u001b[0m d \u001b[39m=\u001b[39m get_rerun_data(\u001b[39mself\u001b[39m, fname, ftype,\n\u001b[1;32m    134\u001b[0m                    section\u001b[39m=\u001b[39msection)\n\u001b[1;32m    135\u001b[0m \u001b[39mif\u001b[39;00m d \u001b[39mis\u001b[39;00m \u001b[39mNone\u001b[39;00m:\n\u001b[0;32m--> 136\u001b[0m     d \u001b[39m=\u001b[39m func()\n\u001b[1;32m    137\u001b[0m     \u001b[39mif\u001b[39;00m \u001b[39mnot\u001b[39;00m saved_by_func:\n\u001b[1;32m    138\u001b[0m         save_rerun_data(\u001b[39mself\u001b[39m, fname, ftype, d)\n",
      "File \u001b[0;32m~/PhD/xCell/xcell/mappers/mapper_KiDS1000.py:174\u001b[0m, in \u001b[0;36mMapperKiDS1000._get_ellip_maps\u001b[0;34m(self)\u001b[0m\n\u001b[1;32m    172\u001b[0m kind, e1f, e2f, mod \u001b[39m=\u001b[39m \u001b[39mself\u001b[39m\u001b[39m.\u001b[39m_set_mode()\n\u001b[1;32m    173\u001b[0m \u001b[39mprint\u001b[39m(\u001b[39m'\u001b[39m\u001b[39mComputing bin\u001b[39m\u001b[39m{}\u001b[39;00m\u001b[39m signal map\u001b[39m\u001b[39m'\u001b[39m\u001b[39m.\u001b[39mformat(\u001b[39mself\u001b[39m\u001b[39m.\u001b[39mzbin))\n\u001b[0;32m--> 174\u001b[0m data \u001b[39m=\u001b[39m \u001b[39mself\u001b[39;49m\u001b[39m.\u001b[39;49m_get_gals_or_stars(kind)\n\u001b[1;32m    175\u001b[0m we1, we2 \u001b[39m=\u001b[39m get_map_from_points(data, \u001b[39mself\u001b[39m\u001b[39m.\u001b[39mnside,\n\u001b[1;32m    176\u001b[0m                                w\u001b[39m=\u001b[39mdata[\u001b[39m'\u001b[39m\u001b[39mweight\u001b[39m\u001b[39m'\u001b[39m],\n\u001b[1;32m    177\u001b[0m                                qu\u001b[39m=\u001b[39m[\u001b[39m-\u001b[39mdata[e1f], data[e2f]],\n\u001b[1;32m    178\u001b[0m                                ra_name\u001b[39m=\u001b[39m\u001b[39m'\u001b[39m\u001b[39mALPHA_J2000\u001b[39m\u001b[39m'\u001b[39m,\n\u001b[1;32m    179\u001b[0m                                dec_name\u001b[39m=\u001b[39m\u001b[39m'\u001b[39m\u001b[39mDELTA_J2000\u001b[39m\u001b[39m'\u001b[39m,\n\u001b[1;32m    180\u001b[0m                                rot\u001b[39m=\u001b[39m\u001b[39mself\u001b[39m\u001b[39m.\u001b[39mrot)\n\u001b[1;32m    181\u001b[0m mask \u001b[39m=\u001b[39m \u001b[39mself\u001b[39m\u001b[39m.\u001b[39mget_mask()\n",
      "File \u001b[0;32m~/PhD/xCell/xcell/mappers/mapper_KiDS1000.py:163\u001b[0m, in \u001b[0;36mMapperKiDS1000._get_gals_or_stars\u001b[0;34m(self, kind)\u001b[0m\n\u001b[1;32m    158\u001b[0m \u001b[39mdef\u001b[39;00m \u001b[39m_get_gals_or_stars\u001b[39m(\u001b[39mself\u001b[39m, kind\u001b[39m=\u001b[39m\u001b[39m'\u001b[39m\u001b[39mgalaxies\u001b[39m\u001b[39m'\u001b[39m):\n\u001b[1;32m    159\u001b[0m     \u001b[39m# Returns the sources of the catalog \\\u001b[39;00m\n\u001b[1;32m    160\u001b[0m     \u001b[39m# corresponding to the chosen kind \\\u001b[39;00m\n\u001b[1;32m    161\u001b[0m     \u001b[39m# of source ('galaxies' or 'stars').\u001b[39;00m\n\u001b[0;32m--> 163\u001b[0m     cat_data \u001b[39m=\u001b[39m \u001b[39mself\u001b[39;49m\u001b[39m.\u001b[39;49mget_catalog()\n\u001b[1;32m    164\u001b[0m     sel \u001b[39m=\u001b[39m cat_data[\u001b[39m'\u001b[39m\u001b[39mSG_FLAG\u001b[39m\u001b[39m'\u001b[39m] \u001b[39m==\u001b[39m \u001b[39mself\u001b[39m\u001b[39m.\u001b[39msel[kind]\n\u001b[1;32m    165\u001b[0m     \u001b[39mreturn\u001b[39;00m cat_data[sel]\n",
      "File \u001b[0;32m~/PhD/xCell/xcell/mappers/mapper_KiDS1000.py:76\u001b[0m, in \u001b[0;36mMapperKiDS1000.get_catalog\u001b[0;34m(self)\u001b[0m\n\u001b[1;32m     74\u001b[0m \u001b[39mif\u001b[39;00m \u001b[39mself\u001b[39m\u001b[39m.\u001b[39mcat_data \u001b[39mis\u001b[39;00m \u001b[39mNone\u001b[39;00m:\n\u001b[1;32m     75\u001b[0m     fn \u001b[39m=\u001b[39m \u001b[39mf\u001b[39m\u001b[39m'\u001b[39m\u001b[39m{\u001b[39;00m\u001b[39mself\u001b[39m\u001b[39m.\u001b[39mmap_name\u001b[39m}\u001b[39;00m\u001b[39m_cat.fits\u001b[39m\u001b[39m'\u001b[39m\n\u001b[0;32m---> 76\u001b[0m     \u001b[39mself\u001b[39m\u001b[39m.\u001b[39mcat_data \u001b[39m=\u001b[39m \u001b[39mself\u001b[39;49m\u001b[39m.\u001b[39;49m_rerun_read_cycle(fn, \u001b[39m'\u001b[39;49m\u001b[39mFITSTable\u001b[39;49m\u001b[39m'\u001b[39;49m,\n\u001b[1;32m     77\u001b[0m                                            \u001b[39mself\u001b[39;49m\u001b[39m.\u001b[39;49m_load_catalog,\n\u001b[1;32m     78\u001b[0m                                            saved_by_func\u001b[39m=\u001b[39;49m\u001b[39mTrue\u001b[39;49;00m)\n\u001b[1;32m     79\u001b[0m \u001b[39mreturn\u001b[39;00m \u001b[39mself\u001b[39m\u001b[39m.\u001b[39mcat_data\n",
      "File \u001b[0;32m~/PhD/xCell/xcell/mappers/mapper_base.py:136\u001b[0m, in \u001b[0;36mMapperBase._rerun_read_cycle\u001b[0;34m(self, fname, ftype, func, section, saved_by_func)\u001b[0m\n\u001b[1;32m    133\u001b[0m d \u001b[39m=\u001b[39m get_rerun_data(\u001b[39mself\u001b[39m, fname, ftype,\n\u001b[1;32m    134\u001b[0m                    section\u001b[39m=\u001b[39msection)\n\u001b[1;32m    135\u001b[0m \u001b[39mif\u001b[39;00m d \u001b[39mis\u001b[39;00m \u001b[39mNone\u001b[39;00m:\n\u001b[0;32m--> 136\u001b[0m     d \u001b[39m=\u001b[39m func()\n\u001b[1;32m    137\u001b[0m     \u001b[39mif\u001b[39;00m \u001b[39mnot\u001b[39;00m saved_by_func:\n\u001b[1;32m    138\u001b[0m         save_rerun_data(\u001b[39mself\u001b[39m, fname, ftype, d)\n",
      "File \u001b[0;32m~/PhD/xCell/xcell/mappers/mapper_KiDS1000.py:90\u001b[0m, in \u001b[0;36mMapperKiDS1000._load_catalog\u001b[0;34m(self)\u001b[0m\n\u001b[1;32m     88\u001b[0m nzbins \u001b[39m=\u001b[39m \u001b[39mself\u001b[39m\u001b[39m.\u001b[39mzbin_edges\u001b[39m.\u001b[39mshape[\u001b[39m0\u001b[39m]\n\u001b[1;32m     89\u001b[0m cat_out \u001b[39m=\u001b[39m \u001b[39mNone\u001b[39;00m\n\u001b[0;32m---> 90\u001b[0m cat_full \u001b[39m=\u001b[39m Table\u001b[39m.\u001b[39;49mread(\u001b[39mself\u001b[39;49m\u001b[39m.\u001b[39;49mconfig[\u001b[39m'\u001b[39;49m\u001b[39mdata_catalog\u001b[39;49m\u001b[39m'\u001b[39;49m],\n\u001b[1;32m     91\u001b[0m                       \u001b[39mformat\u001b[39;49m\u001b[39m=\u001b[39;49m\u001b[39m'\u001b[39;49m\u001b[39mfits\u001b[39;49m\u001b[39m'\u001b[39;49m)[\u001b[39mself\u001b[39m\u001b[39m.\u001b[39mcolumn_names]\n\u001b[1;32m     92\u001b[0m \u001b[39mfor\u001b[39;00m ibin \u001b[39min\u001b[39;00m \u001b[39mrange\u001b[39m(nzbins):\n\u001b[1;32m     93\u001b[0m     sel \u001b[39m=\u001b[39m \u001b[39mself\u001b[39m\u001b[39m.\u001b[39m_bin_z(cat_full, ibin)\n",
      "File \u001b[0;32m~/mambaforge/envs/tutorials/lib/python3.9/site-packages/astropy/table/connect.py:62\u001b[0m, in \u001b[0;36mTableRead.__call__\u001b[0;34m(self, *args, **kwargs)\u001b[0m\n\u001b[1;32m     59\u001b[0m units \u001b[39m=\u001b[39m kwargs\u001b[39m.\u001b[39mpop(\u001b[39m\"\u001b[39m\u001b[39munits\u001b[39m\u001b[39m\"\u001b[39m, \u001b[39mNone\u001b[39;00m)\n\u001b[1;32m     60\u001b[0m descriptions \u001b[39m=\u001b[39m kwargs\u001b[39m.\u001b[39mpop(\u001b[39m\"\u001b[39m\u001b[39mdescriptions\u001b[39m\u001b[39m\"\u001b[39m, \u001b[39mNone\u001b[39;00m)\n\u001b[0;32m---> 62\u001b[0m out \u001b[39m=\u001b[39m \u001b[39mself\u001b[39;49m\u001b[39m.\u001b[39;49mregistry\u001b[39m.\u001b[39;49mread(\u001b[39mcls\u001b[39;49m, \u001b[39m*\u001b[39;49margs, \u001b[39m*\u001b[39;49m\u001b[39m*\u001b[39;49mkwargs)\n\u001b[1;32m     64\u001b[0m \u001b[39m# For some readers (e.g., ascii.ecsv), the returned `out` class is not\u001b[39;00m\n\u001b[1;32m     65\u001b[0m \u001b[39m# guaranteed to be the same as the desired output `cls`.  If so,\u001b[39;00m\n\u001b[1;32m     66\u001b[0m \u001b[39m# try coercing to desired class without copying (io.registry.read\u001b[39;00m\n\u001b[1;32m     67\u001b[0m \u001b[39m# would normally do a copy).  The normal case here is swapping\u001b[39;00m\n\u001b[1;32m     68\u001b[0m \u001b[39m# Table <=> QTable.\u001b[39;00m\n\u001b[1;32m     69\u001b[0m \u001b[39mif\u001b[39;00m \u001b[39mcls\u001b[39m \u001b[39mis\u001b[39;00m \u001b[39mnot\u001b[39;00m out\u001b[39m.\u001b[39m\u001b[39m__class__\u001b[39m:\n",
      "File \u001b[0;32m~/mambaforge/envs/tutorials/lib/python3.9/site-packages/astropy/io/registry/core.py:218\u001b[0m, in \u001b[0;36mUnifiedInputRegistry.read\u001b[0;34m(self, cls, format, cache, *args, **kwargs)\u001b[0m\n\u001b[1;32m    213\u001b[0m     \u001b[39mformat\u001b[39m \u001b[39m=\u001b[39m \u001b[39mself\u001b[39m\u001b[39m.\u001b[39m_get_valid_format(\n\u001b[1;32m    214\u001b[0m         \u001b[39m\"\u001b[39m\u001b[39mread\u001b[39m\u001b[39m\"\u001b[39m, \u001b[39mcls\u001b[39m, path, fileobj, args, kwargs\n\u001b[1;32m    215\u001b[0m     )\n\u001b[1;32m    217\u001b[0m reader \u001b[39m=\u001b[39m \u001b[39mself\u001b[39m\u001b[39m.\u001b[39mget_reader(\u001b[39mformat\u001b[39m, \u001b[39mcls\u001b[39m)\n\u001b[0;32m--> 218\u001b[0m data \u001b[39m=\u001b[39m reader(\u001b[39m*\u001b[39;49margs, \u001b[39m*\u001b[39;49m\u001b[39m*\u001b[39;49mkwargs)\n\u001b[1;32m    220\u001b[0m \u001b[39mif\u001b[39;00m \u001b[39mnot\u001b[39;00m \u001b[39misinstance\u001b[39m(data, \u001b[39mcls\u001b[39m):\n\u001b[1;32m    221\u001b[0m     \u001b[39m# User has read with a subclass where only the parent class is\u001b[39;00m\n\u001b[1;32m    222\u001b[0m     \u001b[39m# registered.  This returns the parent class, so try coercing\u001b[39;00m\n\u001b[1;32m    223\u001b[0m     \u001b[39m# to desired subclass.\u001b[39;00m\n\u001b[1;32m    224\u001b[0m     \u001b[39mtry\u001b[39;00m:\n",
      "File \u001b[0;32m~/mambaforge/envs/tutorials/lib/python3.9/site-packages/astropy/io/fits/connect.py:246\u001b[0m, in \u001b[0;36mread_table_fits\u001b[0;34m(input, hdu, astropy_native, memmap, character_as_bytes, unit_parse_strict, mask_invalid)\u001b[0m\n\u001b[1;32m    243\u001b[0m hdulist \u001b[39m=\u001b[39m fits_open(\u001b[39minput\u001b[39m, character_as_bytes\u001b[39m=\u001b[39mcharacter_as_bytes, memmap\u001b[39m=\u001b[39mmemmap)\n\u001b[1;32m    245\u001b[0m \u001b[39mtry\u001b[39;00m:\n\u001b[0;32m--> 246\u001b[0m     \u001b[39mreturn\u001b[39;00m read_table_fits(\n\u001b[1;32m    247\u001b[0m         hdulist,\n\u001b[1;32m    248\u001b[0m         hdu\u001b[39m=\u001b[39;49mhdu,\n\u001b[1;32m    249\u001b[0m         astropy_native\u001b[39m=\u001b[39;49mastropy_native,\n\u001b[1;32m    250\u001b[0m         unit_parse_strict\u001b[39m=\u001b[39;49munit_parse_strict,\n\u001b[1;32m    251\u001b[0m         mask_invalid\u001b[39m=\u001b[39;49mmask_invalid,\n\u001b[1;32m    252\u001b[0m     )\n\u001b[1;32m    253\u001b[0m \u001b[39mfinally\u001b[39;00m:\n\u001b[1;32m    254\u001b[0m     hdulist\u001b[39m.\u001b[39mclose()\n",
      "File \u001b[0;32m~/mambaforge/envs/tutorials/lib/python3.9/site-packages/astropy/io/fits/connect.py:258\u001b[0m, in \u001b[0;36mread_table_fits\u001b[0;34m(input, hdu, astropy_native, memmap, character_as_bytes, unit_parse_strict, mask_invalid)\u001b[0m\n\u001b[1;32m    254\u001b[0m         hdulist\u001b[39m.\u001b[39mclose()\n\u001b[1;32m    256\u001b[0m \u001b[39m# In the loop below we access the data using data[col.name] rather than\u001b[39;00m\n\u001b[1;32m    257\u001b[0m \u001b[39m# col.array to make sure that the data is scaled correctly if needed.\u001b[39;00m\n\u001b[0;32m--> 258\u001b[0m data \u001b[39m=\u001b[39m table\u001b[39m.\u001b[39;49mdata\n\u001b[1;32m    260\u001b[0m columns \u001b[39m=\u001b[39m []\n\u001b[1;32m    261\u001b[0m \u001b[39mfor\u001b[39;00m col \u001b[39min\u001b[39;00m data\u001b[39m.\u001b[39mcolumns:\n\u001b[1;32m    262\u001b[0m     \u001b[39m# Check if column is masked. Here, we make a guess based on the\u001b[39;00m\n\u001b[1;32m    263\u001b[0m     \u001b[39m# presence of FITS mask values. For integer columns, this is simply\u001b[39;00m\n\u001b[0;32m   (...)\u001b[0m\n\u001b[1;32m    266\u001b[0m     \u001b[39m# Since Multi-element columns with dtypes such as '2f8' have a subdtype,\u001b[39;00m\n\u001b[1;32m    267\u001b[0m     \u001b[39m# we should look up the type of column on that.\u001b[39;00m\n",
      "File \u001b[0;32m~/mambaforge/envs/tutorials/lib/python3.9/site-packages/astropy/utils/decorators.py:837\u001b[0m, in \u001b[0;36mlazyproperty.__get__\u001b[0;34m(self, obj, owner)\u001b[0m\n\u001b[1;32m    835\u001b[0m         val \u001b[39m=\u001b[39m obj_dict\u001b[39m.\u001b[39mget(\u001b[39mself\u001b[39m\u001b[39m.\u001b[39m_key, _NotFound)\n\u001b[1;32m    836\u001b[0m         \u001b[39mif\u001b[39;00m val \u001b[39mis\u001b[39;00m _NotFound:\n\u001b[0;32m--> 837\u001b[0m             val \u001b[39m=\u001b[39m \u001b[39mself\u001b[39;49m\u001b[39m.\u001b[39;49mfget(obj)\n\u001b[1;32m    838\u001b[0m             obj_dict[\u001b[39mself\u001b[39m\u001b[39m.\u001b[39m_key] \u001b[39m=\u001b[39m val\n\u001b[1;32m    839\u001b[0m \u001b[39mreturn\u001b[39;00m val\n",
      "File \u001b[0;32m~/mambaforge/envs/tutorials/lib/python3.9/site-packages/astropy/io/fits/hdu/table.py:442\u001b[0m, in \u001b[0;36m_TableBaseHDU.data\u001b[0;34m(self)\u001b[0m\n\u001b[1;32m    440\u001b[0m \u001b[39m@lazyproperty\u001b[39m\n\u001b[1;32m    441\u001b[0m \u001b[39mdef\u001b[39;00m \u001b[39mdata\u001b[39m(\u001b[39mself\u001b[39m):\n\u001b[0;32m--> 442\u001b[0m     data \u001b[39m=\u001b[39m \u001b[39mself\u001b[39;49m\u001b[39m.\u001b[39;49m_get_tbdata()\n\u001b[1;32m    443\u001b[0m     data\u001b[39m.\u001b[39m_coldefs \u001b[39m=\u001b[39m \u001b[39mself\u001b[39m\u001b[39m.\u001b[39mcolumns\n\u001b[1;32m    444\u001b[0m     data\u001b[39m.\u001b[39m_character_as_bytes \u001b[39m=\u001b[39m \u001b[39mself\u001b[39m\u001b[39m.\u001b[39m_character_as_bytes\n",
      "File \u001b[0;32m~/mambaforge/envs/tutorials/lib/python3.9/site-packages/astropy/io/fits/hdu/table.py:194\u001b[0m, in \u001b[0;36m_TableLikeHDU._get_tbdata\u001b[0;34m(self)\u001b[0m\n\u001b[1;32m    192\u001b[0m     data \u001b[39m=\u001b[39m raw_data[:tbsize]\u001b[39m.\u001b[39mview(dtype\u001b[39m=\u001b[39mcolumns\u001b[39m.\u001b[39mdtype, \u001b[39mtype\u001b[39m\u001b[39m=\u001b[39mnp\u001b[39m.\u001b[39mrec\u001b[39m.\u001b[39mrecarray)\n\u001b[1;32m    193\u001b[0m \u001b[39melse\u001b[39;00m:\n\u001b[0;32m--> 194\u001b[0m     raw_data \u001b[39m=\u001b[39m \u001b[39mself\u001b[39;49m\u001b[39m.\u001b[39;49m_get_raw_data(\u001b[39mself\u001b[39;49m\u001b[39m.\u001b[39;49m_nrows, columns\u001b[39m.\u001b[39;49mdtype, \u001b[39mself\u001b[39;49m\u001b[39m.\u001b[39;49m_data_offset)\n\u001b[1;32m    195\u001b[0m     \u001b[39mif\u001b[39;00m raw_data \u001b[39mis\u001b[39;00m \u001b[39mNone\u001b[39;00m:\n\u001b[1;32m    196\u001b[0m         \u001b[39m# This can happen when a brand new table HDU is being created\u001b[39;00m\n\u001b[1;32m    197\u001b[0m         \u001b[39m# and no data has been assigned to the columns, which case just\u001b[39;00m\n\u001b[1;32m    198\u001b[0m         \u001b[39m# return an empty array\u001b[39;00m\n\u001b[1;32m    199\u001b[0m         raw_data \u001b[39m=\u001b[39m np\u001b[39m.\u001b[39marray([], dtype\u001b[39m=\u001b[39mcolumns\u001b[39m.\u001b[39mdtype)\n",
      "File \u001b[0;32m~/mambaforge/envs/tutorials/lib/python3.9/site-packages/astropy/io/fits/hdu/base.py:547\u001b[0m, in \u001b[0;36m_BaseHDU._get_raw_data\u001b[0;34m(self, shape, code, offset)\u001b[0m\n\u001b[1;32m    545\u001b[0m     \u001b[39mreturn\u001b[39;00m np\u001b[39m.\u001b[39mndarray(shape, dtype\u001b[39m=\u001b[39mcode, buffer\u001b[39m=\u001b[39m\u001b[39mself\u001b[39m\u001b[39m.\u001b[39m_buffer, offset\u001b[39m=\u001b[39moffset)\n\u001b[1;32m    546\u001b[0m \u001b[39melif\u001b[39;00m \u001b[39mself\u001b[39m\u001b[39m.\u001b[39m_file:\n\u001b[0;32m--> 547\u001b[0m     \u001b[39mreturn\u001b[39;00m \u001b[39mself\u001b[39;49m\u001b[39m.\u001b[39;49m_file\u001b[39m.\u001b[39;49mreadarray(offset\u001b[39m=\u001b[39;49moffset, dtype\u001b[39m=\u001b[39;49mcode, shape\u001b[39m=\u001b[39;49mshape)\n\u001b[1;32m    548\u001b[0m \u001b[39melse\u001b[39;00m:\n\u001b[1;32m    549\u001b[0m     \u001b[39mreturn\u001b[39;00m \u001b[39mNone\u001b[39;00m\n",
      "File \u001b[0;32m~/mambaforge/envs/tutorials/lib/python3.9/site-packages/astropy/io/fits/file.py:384\u001b[0m, in \u001b[0;36m_File.readarray\u001b[0;34m(self, size, offset, dtype, shape)\u001b[0m\n\u001b[1;32m    382\u001b[0m count \u001b[39m=\u001b[39m reduce(operator\u001b[39m.\u001b[39mmul, shape)\n\u001b[1;32m    383\u001b[0m \u001b[39mself\u001b[39m\u001b[39m.\u001b[39m_file\u001b[39m.\u001b[39mseek(offset)\n\u001b[0;32m--> 384\u001b[0m data \u001b[39m=\u001b[39m _array_from_file(\u001b[39mself\u001b[39;49m\u001b[39m.\u001b[39;49m_file, dtype, count)\n\u001b[1;32m    385\u001b[0m data\u001b[39m.\u001b[39mshape \u001b[39m=\u001b[39m shape\n\u001b[1;32m    386\u001b[0m \u001b[39mreturn\u001b[39;00m data\n",
      "File \u001b[0;32m~/mambaforge/envs/tutorials/lib/python3.9/site-packages/astropy/io/fits/util.py:552\u001b[0m, in \u001b[0;36m_array_from_file\u001b[0;34m(infile, dtype, count)\u001b[0m\n\u001b[1;32m    550\u001b[0m             \u001b[39mreturn\u001b[39;00m array\n\u001b[1;32m    551\u001b[0m     \u001b[39melse\u001b[39;00m:\n\u001b[0;32m--> 552\u001b[0m         \u001b[39mreturn\u001b[39;00m np\u001b[39m.\u001b[39;49mfromfile(infile, dtype\u001b[39m=\u001b[39;49mdtype, count\u001b[39m=\u001b[39;49mcount)\n\u001b[1;32m    553\u001b[0m \u001b[39melse\u001b[39;00m:\n\u001b[1;32m    554\u001b[0m     \u001b[39m# treat as file-like object with \"read\" method; this includes gzip file\u001b[39;00m\n\u001b[1;32m    555\u001b[0m     \u001b[39m# objects, because numpy.fromfile just reads the compressed bytes from\u001b[39;00m\n\u001b[1;32m    556\u001b[0m     \u001b[39m# their underlying file object, instead of the decompressed bytes\u001b[39;00m\n\u001b[1;32m    557\u001b[0m     read_size \u001b[39m=\u001b[39m np\u001b[39m.\u001b[39mdtype(dtype)\u001b[39m.\u001b[39mitemsize \u001b[39m*\u001b[39m count\n",
      "\u001b[0;31mMemoryError\u001b[0m: Unable to allocate 16.5 GiB for an array with shape (21262011,) and data type [('SeqNr', '<i4'), ('SLID', '<i4'), ('SID', '<i4'), ('ID', 'S25'), ('FLUX_AUTO', '<f4'), ('FLUXERR_AUTO', '<f4'), ('MAG_AUTO', '<f4'), ('MAGERR_AUTO', '<f4'), ('KRON_RADIUS', '<f4'), ('BackGr', '<f4'), ('Level', '<f4'), ('MU_THRESHOLD', '<f4'), ('MaxVal', '<f4'), ('MU_MAX', '<f4'), ('ISOAREA_WORLD', '<f4'), ('Xpos', '<f4'), ('Ypos', '<f4'), ('RAJ2000', '<f8'), ('DECJ2000', '<f8'), ('A_WORLD', '<f4'), ('B_WORLD', '<f4'), ('THETA_J2000', '<f4'), ('THETA_WORLD', '<f4'), ('ERRA_WORLD', '<f4'), ('ERRB_WORLD', '<f4'), ('ERRTHETA_J2000', '<f4'), ('ERRTHETA_WORLD', '<f4'), ('FWHM_IMAGE', '<f4'), ('FWHM_WORLD', '<f4'), ('Flag', '<i2'), ('FLUX_RADIUS', '<f4'), ('CLASS_STAR', '<f4'), ('EXTINCTION_u', '<f4'), ('EXTINCTION_g', '<f4'), ('EXTINCTION_r', '<f4'), ('EXTINCTION_i', '<f4'), ('PAgaap', '<f4'), ('MAG_ISO', '<f4'), ('MAGERR_ISO', '<f4'), ('FLUX_ISO', '<f4'), ('FLUXERR_ISO', '<f4'), ('MAG_ISOCOR', '<f4'), ('MAGERR_ISOCOR', '<f4'), ('FLUX_ISOCOR', '<f4'), ('FLUXERR_ISOCOR', '<f4'), ('NIMAFLAGS_ISO', '<i2'), ('IMAFLAGS_ISO', '<i2'), ('XMIN_IMAGE', '<i2'), ('YMIN_IMAGE', '<i2'), ('XMAX_IMAGE', '<i2'), ('YMAX_IMAGE', '<i2'), ('X_WORLD', '<f8'), ('Y_WORLD', '<f8'), ('X2_WORLD', '<f4'), ('Y2_WORLD', '<f4'), ('XY_WORLD', '<f4'), ('ERRX2_WORLD', '<f4'), ('ERRY2_WORLD', '<f4'), ('ERRXY_WORLD', '<f4'), ('CXX_WORLD', '<f4'), ('CYY_WORLD', '<f4'), ('CXY_WORLD', '<f4'), ('ERRCXX_WORLD', '<f4'), ('ERRCYY_WORLD', '<f4'), ('ERRCXY_WORLD', '<f4'), ('A_IMAGE', '<f8'), ('B_IMAGE', '<f8'), ('ERRA_IMAGE', '<f4'), ('ERRB_IMAGE', '<f4'), ('S_ELLIPTICITY', '<f4'), ('S_ELONGATION', '<f4'), ('ALPHA_J2000', '<f8'), ('DELTA_J2000', '<f8'), ('SG2DPHOT', '<i2'), ('HTM', '<i4'), ('FIELD_POS', '<i2'), ('EXTINCTION_Z', '<f4'), ('EXTINCTION_Y', '<f4'), ('EXTINCTION_J', '<f4'), ('EXTINCTION_H', '<f4'), ('EXTINCTION_Ks', '<f4'), ('MAG_GAAP_u', '<f4'), ('MAGERR_GAAP_u', '<f4'), ('FLUX_GAAP_u', '<f4'), ('FLUXERR_GAAP_u', '<f4'), ('FLAG_GAAP_u', '<i2'), ('MAG_GAAP_g', '<f4'), ('MAGERR_GAAP_g', '<f4'), ('FLUX_GAAP_g', '<f4'), ('FLUXERR_GAAP_g', '<f4'), ('FLAG_GAAP_g', '<i2'), ('MAG_GAAP_r', '<f4'), ('MAGERR_GAAP_r', '<f4'), ('FLUX_GAAP_r', '<f4'), ('FLUXERR_GAAP_r', '<f4'), ('FLAG_GAAP_r', '<i2'), ('MAG_GAAP_i', '<f4'), ('MAGERR_GAAP_i', '<f4'), ('FLUX_GAAP_i', '<f4'), ('FLUXERR_GAAP_i', '<f4'), ('FLAG_GAAP_i', '<i2'), ('MAG_GAAP_Z', '<f4'), ('MAGERR_GAAP_Z', '<f4'), ('FLUX_GAAP_Z', '<f4'), ('FLUXERR_GAAP_Z', '<f4'), ('FLAG_GAAP_Z', '<i2'), ('MAG_GAAP_Y', '<f4'), ('MAGERR_GAAP_Y', '<f4'), ('FLUX_GAAP_Y', '<f4'), ('FLUXERR_GAAP_Y', '<f4'), ('FLAG_GAAP_Y', '<i2'), ('MAG_GAAP_J', '<f4'), ('MAGERR_GAAP_J', '<f4'), ('FLUX_GAAP_J', '<f4'), ('FLUXERR_GAAP_J', '<f4'), ('FLAG_GAAP_J', '<i2'), ('MAG_GAAP_H', '<f4'), ('MAGERR_GAAP_H', '<f4'), ('FLUX_GAAP_H', '<f4'), ('FLUXERR_GAAP_H', '<f4'), ('FLAG_GAAP_H', '<i2'), ('MAG_GAAP_Ks', '<f4'), ('MAGERR_GAAP_Ks', '<f4'), ('FLUX_GAAP_Ks', '<f4'), ('FLUXERR_GAAP_Ks', '<f4'), ('FLAG_GAAP_Ks', '<i2'), ('Agaper', '<f4'), ('Bgaper', '<f4'), ('MAG_LIM_u', '<f4'), ('MAG_LIM_g', '<f4'), ('MAG_LIM_r', '<f4'), ('MAG_LIM_i', '<f4'), ('MAG_LIM_Z', '<f4'), ('MAG_LIM_Y', '<f4'), ('MAG_LIM_J', '<f4'), ('MAG_LIM_H', '<f4'), ('MAG_LIM_Ks', '<f4'), ('Z_B', '<f8'), ('Z_B_MIN', '<f8'), ('Z_B_MAX', '<f8'), ('T_B', '<f8'), ('ODDS', '<f8'), ('Z_ML', '<f8'), ('T_ML', '<f8'), ('CHI_SQUARED_BPZ', '<f8'), ('M_0', '<f8'), ('BPZ_FILT', '<i4'), ('NBPZ_FILT', '<i4'), ('BPZ_NONDETFILT', '<i4'), ('NBPZ_NONDETFILT', '<i4'), ('BPZ_FLAGFILT', '<i4'), ('NBPZ_FLAGFILT', '<i4'), ('SG_FLAG', '<f4'), ('MASK', '<i4'), ('THELI_NAME', 'S16'), ('fitclass', '<i2'), ('bias_corrected_scalelength_pixels', '<f4'), ('bulge_fraction', '<f4'), ('model_flux', '<f4'), ('pixel_SNratio', '<f4'), ('model_SNratio', '<f4'), ('contamination_radius', '<f4'), ('PSF_e1', '<f4'), ('PSF_e2', '<f4'), ('PSF_Strehl_ratio', '<f4'), ('PSF_Q11', '<f4'), ('PSF_Q22', '<f4'), ('PSF_Q12', '<f4'), ('star_galaxy_f_probability', '<f4'), ('r_correction', '<f4'), ('2D_measurement_variance', '<f4'), ('mean_likelihood_e', '<f4'), ('neighbour_mag', '<f4'), ('neighbour_distance', '<f4'), ('catmag', '<f4'), ('n_exposures_used', '<f4'), ('cat_ID', '<i4'), ('delta_SNR', '<f4'), ('PSF_e1_exp1', '<f4'), ('PSF_e2_exp1', '<f4'), ('PSF_e1_exp2', '<f4'), ('PSF_e2_exp2', '<f4'), ('PSF_e1_exp3', '<f4'), ('PSF_e2_exp3', '<f4'), ('PSF_e1_exp4', '<f4'), ('PSF_e2_exp4', '<f4'), ('PSF_e1_exp5', '<f4'), ('PSF_e2_exp5', '<f4'), ('SeqNr_field', '<i4'), ('THELI_INT', '<i2'), ('e1', '<f4'), ('e2', '<f4'), ('weight', '<f4')]"
     ]
    }
   ],
   "source": [
    "KiDS1000__0_map = KiDS1000__0.get_signal_map()\n",
    "KiDS1000__1_map = KiDS1000__1.get_signal_map()\n",
    "KiDS1000__2_map = KiDS1000__2.get_signal_map()\n",
    "KiDS1000__3_map = KiDS1000__3.get_signal_map()\n",
    "KiDS1000__4_map = KiDS1000__4.get_signal_map()"
   ]
  },
  {
   "cell_type": "code",
   "execution_count": null,
   "metadata": {},
   "outputs": [],
   "source": [
    "hp.visufunc.mollview(map=np.array(KiDS1000__0_map)[0])"
   ]
  },
  {
   "cell_type": "code",
   "execution_count": null,
   "metadata": {},
   "outputs": [],
   "source": [
    "hp.visufunc.mollview(map=np.array(KiDS1000__1_map)[0])"
   ]
  },
  {
   "cell_type": "code",
   "execution_count": null,
   "metadata": {},
   "outputs": [],
   "source": [
    "hp.visufunc.mollview(map=np.array(KiDS1000__2_map)[0])"
   ]
  },
  {
   "cell_type": "code",
   "execution_count": null,
   "metadata": {},
   "outputs": [],
   "source": [
    "hp.visufunc.mollview(map=np.array(KiDS1000__3_map)[0])"
   ]
  },
  {
   "cell_type": "code",
   "execution_count": null,
   "metadata": {},
   "outputs": [],
   "source": [
    "hp.visufunc.mollview(map=np.array(KiDS1000__4_map)[0])"
   ]
  },
  {
   "cell_type": "markdown",
   "metadata": {},
   "source": [
    "### Cl's"
   ]
  },
  {
   "cell_type": "code",
   "execution_count": null,
   "metadata": {},
   "outputs": [],
   "source": [
    "cl_KiDS1000__0_KiDS1000__0 = Cl(data.data, \"KiDS1000__0\", \"KiDS1000__0\")\n",
    "cl_KiDS1000__1_KiDS1000__1 = Cl(data.data, \"KiDS1000__1\", \"KiDS1000__1\")\n",
    "cl_KiDS1000__2_KiDS1000__2 = Cl(data.data, \"KiDS1000__2\", \"KiDS1000__2\")\n",
    "cl_KiDS1000__3_KiDS1000__3 = Cl(data.data, \"KiDS1000__3\", \"KiDS1000__3\")\n",
    "cl_KiDS1000__4_KiDS1000__4 = Cl(data.data, \"KiDS1000__4\", \"KiDS1000__4\")\n",
    "\n",
    "cl_KiDS1000__0_KiDS1000__0 = cl_KiDS1000__0_KiDS1000__0.get_ell_cl()\n",
    "cl_KiDS1000__1_KiDS1000__1 = cl_KiDS1000__1_KiDS1000__1.get_ell_cl()\n",
    "cl_KiDS1000__2_KiDS1000__2 = cl_KiDS1000__2_KiDS1000__2.get_ell_cl()\n",
    "cl_KiDS1000__3_KiDS1000__3 = cl_KiDS1000__3_KiDS1000__3.get_ell_cl()\n",
    "cl_KiDS1000__4_KiDS1000__4 = cl_KiDS1000__4_KiDS1000__4.get_ell_cl()"
   ]
  },
  {
   "cell_type": "markdown",
   "metadata": {},
   "source": [
    "### Covariance Matrix"
   ]
  },
  {
   "cell_type": "code",
   "execution_count": null,
   "metadata": {},
   "outputs": [],
   "source": [
    "cov_KiDS1000__0_KiDS1000__0_KiDS1000__0_KiDS1000__0 = Cov(data.data, \"KiDS1000__0\", \"KiDS1000__0\", \"KiDS1000__0\", \"KiDS1000__0\")\n",
    "cov_KiDS1000__1_KiDS1000__1_KiDS1000__1_KiDS1000__1 = Cov(data.data, \"KiDS1000__1\", \"KiDS1000__1\", \"KiDS1000__1\", \"KiDS1000__1\")\n",
    "cov_KiDS1000__2_KiDS1000__2_KiDS1000__2_KiDS1000__2 = Cov(data.data, \"KiDS1000__2\", \"KiDS1000__2\", \"KiDS1000__2\", \"KiDS1000__2\")\n",
    "cov_KiDS1000__3_KiDS1000__3_KiDS1000__3_KiDS1000__3 = Cov(data.data, \"KiDS1000__3\", \"KiDS1000__3\", \"KiDS1000__3\", \"KiDS1000__3\")\n",
    "cov_KiDS1000__4_KiDS1000__4_KiDS1000__4_KiDS1000__4 = Cov(data.data, \"KiDS1000__4\", \"KiDS1000__4\", \"KiDS1000__4\", \"KiDS1000__4\")\n",
    "\n",
    "cov_KiDS1000__0_KiDS1000__0_KiDS1000__0_KiDS1000__0 = cov_KiDS1000__0_KiDS1000__0_KiDS1000__0_KiDS1000__0.get_covariance()\n",
    "cov_KiDS1000__1_KiDS1000__1_KiDS1000__1_KiDS1000__1 = cov_KiDS1000__1_KiDS1000__1_KiDS1000__1_KiDS1000__1.get_covariance()\n",
    "cov_KiDS1000__2_KiDS1000__2_KiDS1000__2_KiDS1000__2 = cov_KiDS1000__2_KiDS1000__2_KiDS1000__2_KiDS1000__2.get_covariance()\n",
    "cov_KiDS1000__3_KiDS1000__3_KiDS1000__3_KiDS1000__3 = cov_KiDS1000__3_KiDS1000__3_KiDS1000__3_KiDS1000__3.get_covariance()\n",
    "cov_KiDS1000__4_KiDS1000__4_KiDS1000__4_KiDS1000__4 = cov_KiDS1000__4_KiDS1000__4_KiDS1000__4_KiDS1000__4.get_covariance()"
   ]
  },
  {
   "cell_type": "code",
   "execution_count": null,
   "metadata": {},
   "outputs": [],
   "source": [
    "err_KiDS1000__0_KiDS1000__0 = np.sqrt(np.diag(cov_KiDS1000__0_KiDS1000__0_KiDS1000__0_KiDS1000__0))\n",
    "err_KiDS1000__1_KiDS1000__1 = np.sqrt(np.diag(cov_KiDS1000__1_KiDS1000__1_KiDS1000__1_KiDS1000__1))\n",
    "err_KiDS1000__2_KiDS1000__2 = np.sqrt(np.diag(cov_KiDS1000__2_KiDS1000__2_KiDS1000__2_KiDS1000__2))\n",
    "err_KiDS1000__3_KiDS1000__3 = np.sqrt(np.diag(cov_KiDS1000__3_KiDS1000__3_KiDS1000__3_KiDS1000__3))\n",
    "err_KiDS1000__4_KiDS1000__4 = np.sqrt(np.diag(cov_KiDS1000__4_KiDS1000__4_KiDS1000__4_KiDS1000__4))"
   ]
  },
  {
   "cell_type": "markdown",
   "metadata": {},
   "source": [
    "### Theory Cl's"
   ]
  },
  {
   "cell_type": "code",
   "execution_count": null,
   "metadata": {},
   "outputs": [],
   "source": [
    "cosmo = ccl.Cosmology(Omega_c=0.27, Omega_b=0.049, h=0.67, sigma8=0.81, n_s=0.96)\n",
    "\n",
    "KiDS1000__0_nz = KiDS1000__0.get_nz()\n",
    "KiDS1000__1_nz = KiDS1000__1.get_nz()\n",
    "KiDS1000__2_nz = KiDS1000__2.get_nz()\n",
    "KiDS1000__3_nz = KiDS1000__3.get_nz()\n",
    "KiDS1000__4_nz = KiDS1000__4.get_nz()\n",
    "\n",
    "KiDS1000__0_z, KiDS1000__0_dNdz = KiDS1000__0_nz[0], KiDS1000__0_nz[1]\n",
    "KiDS1000__1_z, KiDS1000__1_dNdz = KiDS1000__1_nz[0], KiDS1000__1_nz[1]\n",
    "KiDS1000__2_z, KiDS1000__2_dNdz = KiDS1000__2_nz[0], KiDS1000__2_nz[1]\n",
    "KiDS1000__3_z, KiDS1000__3_dNdz = KiDS1000__3_nz[0], KiDS1000__3_nz[1]\n",
    "KiDS1000__4_z, KiDS1000__4_dNdz = KiDS1000__4_nz[0], KiDS1000__4_nz[1]\n",
    "\n",
    "tracer_KiDS1000__0 = ccl.WeakLensingTracer(cosmo, has_shear=True, dndz=(KiDS1000__0_z, KiDS1000__0_dNdz))\n",
    "tracer_KiDS1000__1 = ccl.WeakLensingTracer(cosmo, has_shear=True, dndz=(KiDS1000__1_z, KiDS1000__1_dNdz))\n",
    "tracer_KiDS1000__2 = ccl.WeakLensingTracer(cosmo, has_shear=True, dndz=(KiDS1000__2_z, KiDS1000__2_dNdz))\n",
    "tracer_KiDS1000__3 = ccl.WeakLensingTracer(cosmo, has_shear=True, dndz=(KiDS1000__3_z, KiDS1000__3_dNdz))\n",
    "tracer_KiDS1000__4 = ccl.WeakLensingTracer(cosmo, has_shear=True, dndz=(KiDS1000__4_z, KiDS1000__4_dNdz))\n",
    "\n",
    "clt_KiDS1000__0_KiDS1000__0 = ccl.angular_cl(cosmo, tracer_KiDS1000__0, tracer_KiDS1000__0, cl_KiDS1000__0_KiDS1000__0[0])\n",
    "clt_KiDS1000__1_KiDS1000__1 = ccl.angular_cl(cosmo, tracer_KiDS1000__1, tracer_KiDS1000__1, cl_KiDS1000__1_KiDS1000__1[0]) \n",
    "clt_KiDS1000__2_KiDS1000__2 = ccl.angular_cl(cosmo, tracer_KiDS1000__2, tracer_KiDS1000__2, cl_KiDS1000__2_KiDS1000__2[0]) \n",
    "clt_KiDS1000__3_KiDS1000__3 = ccl.angular_cl(cosmo, tracer_KiDS1000__3, tracer_KiDS1000__3, cl_KiDS1000__3_KiDS1000__3[0]) \n",
    "clt_KiDS1000__4_KiDS1000__4 = ccl.angular_cl(cosmo, tracer_KiDS1000__4, tracer_KiDS1000__4, cl_KiDS1000__4_KiDS1000__4[0]) "
   ]
  },
  {
   "cell_type": "markdown",
   "metadata": {},
   "source": [
    "### Comparison"
   ]
  },
  {
   "cell_type": "code",
   "execution_count": null,
   "metadata": {},
   "outputs": [],
   "source": [
    "plt.plot(KiDS1000__0_z, KiDS1000__0_dNdz, label='KiDS1000__0')\n",
    "plt.plot(KiDS1000__1_z, KiDS1000__1_dNdz, label='KiDS1000__1')\n",
    "plt.plot(KiDS1000__2_z, KiDS1000__2_dNdz, label='KiDS1000__2')\n",
    "plt.plot(KiDS1000__3_z, KiDS1000__3_dNdz, label='KiDS1000__3')\n",
    "plt.plot(KiDS1000__4_z, KiDS1000__4_dNdz, label='KiDS1000__4')\n",
    "plt.legend()\n",
    "plt.show()"
   ]
  },
  {
   "cell_type": "code",
   "execution_count": null,
   "metadata": {},
   "outputs": [],
   "source": [
    "plt.errorbar(cl_KiDS1000__0_KiDS1000__0[0], cl_KiDS1000__0_KiDS1000__0[1][0], yerr=err_KiDS1000__0_KiDS1000__0, fmt='o-', label='data')\n",
    "plt.plot(cl_KiDS1000__0_KiDS1000__0[0], clt_KiDS1000__0_KiDS1000__0, 'o-', label='theory')\n",
    "plt.title('KiDS1000__0-KiDS1000__0')\n",
    "plt.xlabel('$\\\\ell$', fontsize=16)\n",
    "plt.ylabel('$C_\\\\ell$', fontsize=16)\n",
    "plt.legend(loc='lower left', ncol=2, labelspacing=0.1)\n",
    "plt.xscale(\"log\")\n",
    "plt.yscale(\"log\")\n",
    "plt.show()"
   ]
  },
  {
   "cell_type": "code",
   "execution_count": null,
   "metadata": {},
   "outputs": [],
   "source": [
    "plt.errorbar(cl_KiDS1000__1_KiDS1000__1[0], cl_KiDS1000__1_KiDS1000__1[1][0], yerr=err_KiDS1000__1_KiDS1000__1, fmt='o-', label='data')\n",
    "plt.plot(cl_KiDS1000__1_KiDS1000__1[0], clt_KiDS1000__1_KiDS1000__1, 'o-', label='theory')\n",
    "plt.title('KiDS1000__1-KiDS1000__1')\n",
    "plt.xlabel('$\\\\ell$', fontsize=16)\n",
    "plt.ylabel('$C_\\\\ell$', fontsize=16)\n",
    "plt.legend(loc='lower left', ncol=2, labelspacing=0.1)\n",
    "plt.xscale(\"log\")\n",
    "plt.yscale(\"log\")\n",
    "plt.show()"
   ]
  },
  {
   "cell_type": "code",
   "execution_count": null,
   "metadata": {},
   "outputs": [],
   "source": [
    "plt.errorbar(cl_KiDS1000__2_KiDS1000__2[0], cl_KiDS1000__2_KiDS1000__2[1][0], yerr=err_KiDS1000__2_KiDS1000__2, fmt='o-', label='data')\n",
    "plt.plot(cl_KiDS1000__2_KiDS1000__2[0], clt_KiDS1000__2_KiDS1000__2, 'o-', label='theory')\n",
    "plt.title('KiDS1000__2-KiDS1000__2')\n",
    "plt.xlabel('$\\\\ell$', fontsize=16)\n",
    "plt.ylabel('$C_\\\\ell$', fontsize=16)\n",
    "plt.legend(loc='lower left', ncol=2, labelspacing=0.1)\n",
    "plt.xscale(\"log\")\n",
    "plt.yscale(\"log\")\n",
    "plt.show()\n"
   ]
  },
  {
   "cell_type": "code",
   "execution_count": null,
   "metadata": {},
   "outputs": [],
   "source": [
    "plt.errorbar(cl_KiDS1000__3_KiDS1000__3[0], cl_KiDS1000__3_KiDS1000__3[1][0], yerr=err_KiDS1000__3_KiDS1000__3, fmt='o-', label='data')\n",
    "plt.plot(cl_KiDS1000__3_KiDS1000__3[0], clt_KiDS1000__3_KiDS1000__3, 'o-', label='theory')\n",
    "plt.title('KiDS1000__3-KiDS1000__3')\n",
    "plt.xlabel('$\\\\ell$', fontsize=16)\n",
    "plt.ylabel('$C_\\\\ell$', fontsize=16)\n",
    "plt.legend(loc='lower left', ncol=2, labelspacing=0.1)\n",
    "plt.xscale(\"log\")\n",
    "plt.yscale(\"log\")\n",
    "plt.show()"
   ]
  },
  {
   "cell_type": "code",
   "execution_count": null,
   "metadata": {},
   "outputs": [],
   "source": [
    "plt.errorbar(cl_KiDS1000__4_KiDS1000__4[0], cl_KiDS1000__4_KiDS1000__4[1][0], yerr=err_KiDS1000__4_KiDS1000__4, fmt='o-', label='data')\n",
    "plt.plot(cl_KiDS1000__4_KiDS1000__4[0], clt_KiDS1000__4_KiDS1000__4, 'o-', label='theory')\n",
    "plt.title('KiDS1000__4-KiDS1000__4')\n",
    "plt.xlabel('$\\\\ell$', fontsize=16)\n",
    "plt.ylabel('$C_\\\\ell$', fontsize=16)\n",
    "plt.legend(loc='lower left', ncol=2, labelspacing=0.1)\n",
    "plt.xscale(\"log\")\n",
    "plt.yscale(\"log\")\n",
    "plt.show()"
   ]
  },
  {
   "cell_type": "code",
   "execution_count": null,
   "metadata": {},
   "outputs": [],
   "source": [
    "KiDS1000__0 = {\n",
    "    \"nz\": KiDS1000__0_nz,\n",
    "    \"cl\": cl_KiDS1000__0_KiDS1000__0,\n",
    "    \"err\": err_KiDS1000__0_KiDS1000__0,\n",
    "    }\n",
    "KiDS1000__1 = {\n",
    "    \"nz\": KiDS1000__1_nz,\n",
    "    \"cl\": cl_KiDS1000__1_KiDS1000__1,\n",
    "    \"err\": err_KiDS1000__1_KiDS1000__1,\n",
    "    }\n",
    "KiDS1000__2 = {\n",
    "    \"nz\": KiDS1000__2_nz,\n",
    "    \"cl\": cl_KiDS1000__2_KiDS1000__2,\n",
    "    \"err\": err_KiDS1000__2_KiDS1000__2,\n",
    "    }\n",
    "KiDS1000__3 = {\n",
    "    \"nz\": KiDS1000__3_nz,\n",
    "    \"cl\": cl_KiDS1000__3_KiDS1000__3,\n",
    "    \"err\": err_KiDS1000__3_KiDS1000__3,\n",
    "    }\n",
    "KiDS1000__4 = {\n",
    "    \"nz\": KiDS1000__4_nz,\n",
    "    \"cl\": cl_KiDS1000__4_KiDS1000__4,\n",
    "    \"err\": err_KiDS1000__4_KiDS1000__4,\n",
    "    }"
   ]
  },
  {
   "cell_type": "code",
   "execution_count": null,
   "metadata": {},
   "outputs": [],
   "source": [
    "np.savez(\"../results/KiDS1000__0\", KiDS1000__0)\n",
    "np.savez(\"../results/KiDS1000__1\", KiDS1000__1)\n",
    "np.savez(\"../results/KiDS1000__2\", KiDS1000__2)\n",
    "np.savez(\"../results/KiDS1000__3\", KiDS1000__3)\n",
    "np.savez(\"../results/KiDS1000__4\", KiDS1000__4)"
   ]
  },
  {
   "cell_type": "code",
   "execution_count": null,
   "metadata": {},
   "outputs": [],
   "source": [
    "import shutil\n",
    "shutil.rmtree(\"../reruns/\")"
   ]
  }
 ],
 "metadata": {
  "kernelspec": {
   "display_name": "Python 3",
   "language": "python",
   "name": "python3"
  },
  "language_info": {
   "codemirror_mode": {
    "name": "ipython",
    "version": 3
   },
   "file_extension": ".py",
   "mimetype": "text/x-python",
   "name": "python",
   "nbconvert_exporter": "python",
   "pygments_lexer": "ipython3",
   "version": "3.9.17"
  }
 },
 "nbformat": 4,
 "nbformat_minor": 4
}
