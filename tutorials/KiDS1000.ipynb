{
 "cells": [
  {
   "cell_type": "markdown",
   "metadata": {},
   "source": [
    "# KiDS1000\n"
   ]
  },
  {
   "cell_type": "code",
   "execution_count": 1,
   "metadata": {},
   "outputs": [],
   "source": [
    "# some_file.py\n",
    "import sys\n",
    "import yaml\n",
    "# insert at 1, 0 is the script path (or '' in REPL)\n",
    "\n",
    "sys.path.insert(1, '/home/jaimerz/PhD/xCell')\n",
    "\n",
    "from xcell.mappers import MapperKiDS1000\n",
    "from xcell.mappers import utils\n",
    "from xcell.cls.data import Data\n",
    "from xcell.cls.cl import Cl\n",
    "from xcell.cls.cov import Cov\n",
    "from astropy.io import fits\n",
    "from astropy.table import Table\n",
    "import pyccl as ccl\n",
    "import numpy as np\n",
    "import pylab as plt\n",
    "import pymaster as nmt\n",
    "import healpy as hp\n",
    "import numpy as np"
   ]
  },
  {
   "cell_type": "markdown",
   "metadata": {},
   "source": [
    "### Configurations"
   ]
  },
  {
   "cell_type": "code",
   "execution_count": 2,
   "metadata": {},
   "outputs": [],
   "source": [
    "data = Data(data_path=\"../config_files/master.yml\")"
   ]
  },
  {
   "cell_type": "markdown",
   "metadata": {},
   "source": [
    "### Mappers"
   ]
  },
  {
   "cell_type": "code",
   "execution_count": 3,
   "metadata": {},
   "outputs": [],
   "source": [
    "KiDS1000__0 = data.get_mapper(\"KiDS1000__0\")\n",
    "KiDS1000__1 = data.get_mapper(\"KiDS1000__1\")\n",
    "KiDS1000__2 = data.get_mapper(\"KiDS1000__2\")\n",
    "KiDS1000__3 = data.get_mapper(\"KiDS1000__3\")\n",
    "KiDS1000__4 = data.get_mapper(\"KiDS1000__4\")"
   ]
  },
  {
   "cell_type": "code",
   "execution_count": 4,
   "metadata": {},
   "outputs": [
    {
     "name": "stdout",
     "output_type": "stream",
     "text": [
      "Computing bin0 signal map\n",
      "KiDS1000_bin0_cat.fits\n",
      "Saving ../reruns/KiDS1000_bin0_cat.fits\n",
      "KiDS1000_bin1_cat.fits\n",
      "Saving ../reruns/KiDS1000_bin1_cat.fits\n",
      "KiDS1000_bin2_cat.fits\n",
      "Saving ../reruns/KiDS1000_bin2_cat.fits\n",
      "KiDS1000_bin3_cat.fits\n",
      "Saving ../reruns/KiDS1000_bin3_cat.fits\n",
      "KiDS1000_bin4_cat.fits\n",
      "Saving ../reruns/KiDS1000_bin4_cat.fits\n"
     ]
    },
    {
     "name": "stderr",
     "output_type": "stream",
     "text": [
      "setting the output map dtype to [dtype('float64')]\n"
     ]
    },
    {
     "name": "stdout",
     "output_type": "stream",
     "text": [
      "Saving ../reruns/mask_mask_KiDS1000__0_coordC_ns512.fits.gz\n"
     ]
    },
    {
     "name": "stderr",
     "output_type": "stream",
     "text": [
      "setting the output map dtype to [dtype('float64'), dtype('float64')]\n"
     ]
    },
    {
     "name": "stdout",
     "output_type": "stream",
     "text": [
      "Saving ../reruns/KiDS1000_bin0_signal_map_shear_coordC_ns512.fits.gz\n",
      "Computing bin1 signal map\n",
      "Reading ../reruns/KiDS1000_bin1_cat.fits\n"
     ]
    },
    {
     "ename": "OSError",
     "evalue": "No extensions have data",
     "output_type": "error",
     "traceback": [
      "\u001b[0;31m---------------------------------------------------------------------------\u001b[0m",
      "\u001b[0;31mOSError\u001b[0m                                   Traceback (most recent call last)",
      "\u001b[1;32m/home/jaimerz/PhD/Cosmoteka_tutorials/tutorials/KiDS1000.ipynb Cell 7\u001b[0m line \u001b[0;36m2\n\u001b[1;32m      <a href='vscode-notebook-cell://wsl%2Bubuntu/home/jaimerz/PhD/Cosmoteka_tutorials/tutorials/KiDS1000.ipynb#W6sdnNjb2RlLXJlbW90ZQ%3D%3D?line=0'>1</a>\u001b[0m KiDS1000__0_map \u001b[39m=\u001b[39m KiDS1000__0\u001b[39m.\u001b[39mget_signal_map()\n\u001b[0;32m----> <a href='vscode-notebook-cell://wsl%2Bubuntu/home/jaimerz/PhD/Cosmoteka_tutorials/tutorials/KiDS1000.ipynb#W6sdnNjb2RlLXJlbW90ZQ%3D%3D?line=1'>2</a>\u001b[0m KiDS1000__1_map \u001b[39m=\u001b[39m KiDS1000__1\u001b[39m.\u001b[39;49mget_signal_map()\n\u001b[1;32m      <a href='vscode-notebook-cell://wsl%2Bubuntu/home/jaimerz/PhD/Cosmoteka_tutorials/tutorials/KiDS1000.ipynb#W6sdnNjb2RlLXJlbW90ZQ%3D%3D?line=2'>3</a>\u001b[0m KiDS1000__2_map \u001b[39m=\u001b[39m KiDS1000__2\u001b[39m.\u001b[39mget_signal_map()\n\u001b[1;32m      <a href='vscode-notebook-cell://wsl%2Bubuntu/home/jaimerz/PhD/Cosmoteka_tutorials/tutorials/KiDS1000.ipynb#W6sdnNjb2RlLXJlbW90ZQ%3D%3D?line=3'>4</a>\u001b[0m KiDS1000__3_map \u001b[39m=\u001b[39m KiDS1000__3\u001b[39m.\u001b[39mget_signal_map()\n",
      "File \u001b[0;32m~/PhD/xCell/xcell/mappers/mapper_KiDS1000.py:198\u001b[0m, in \u001b[0;36mMapperKiDS1000.get_signal_map\u001b[0;34m(self)\u001b[0m\n\u001b[1;32m    194\u001b[0m \u001b[39m# This will only be computed if self.maps['mod'] is None\u001b[39;00m\n\u001b[1;32m    195\u001b[0m fn \u001b[39m=\u001b[39m \u001b[39m'\u001b[39m\u001b[39m_\u001b[39m\u001b[39m'\u001b[39m\u001b[39m.\u001b[39mjoin([\u001b[39mf\u001b[39m\u001b[39m'\u001b[39m\u001b[39m{\u001b[39;00m\u001b[39mself\u001b[39m\u001b[39m.\u001b[39mmap_name\u001b[39m}\u001b[39;00m\u001b[39m_signal_map_\u001b[39m\u001b[39m{\u001b[39;00mmod\u001b[39m}\u001b[39;00m\u001b[39m'\u001b[39m,\n\u001b[1;32m    196\u001b[0m                \u001b[39mf\u001b[39m\u001b[39m'\u001b[39m\u001b[39mcoord\u001b[39m\u001b[39m{\u001b[39;00m\u001b[39mself\u001b[39m\u001b[39m.\u001b[39mcoords\u001b[39m}\u001b[39;00m\u001b[39m'\u001b[39m,\n\u001b[1;32m    197\u001b[0m                \u001b[39mf\u001b[39m\u001b[39m'\u001b[39m\u001b[39mns\u001b[39m\u001b[39m{\u001b[39;00m\u001b[39mself\u001b[39m\u001b[39m.\u001b[39mnside\u001b[39m}\u001b[39;00m\u001b[39m.fits.gz\u001b[39m\u001b[39m'\u001b[39m])\n\u001b[0;32m--> 198\u001b[0m d \u001b[39m=\u001b[39m \u001b[39mself\u001b[39;49m\u001b[39m.\u001b[39;49m_rerun_read_cycle(fn, \u001b[39m'\u001b[39;49m\u001b[39mFITSMap\u001b[39;49m\u001b[39m'\u001b[39;49m,\n\u001b[1;32m    199\u001b[0m                            \u001b[39mself\u001b[39;49m\u001b[39m.\u001b[39;49m_get_ellip_maps,\n\u001b[1;32m    200\u001b[0m                            section\u001b[39m=\u001b[39;49m[\u001b[39m0\u001b[39;49m, \u001b[39m1\u001b[39;49m])\n\u001b[1;32m    201\u001b[0m \u001b[39mself\u001b[39m\u001b[39m.\u001b[39mmaps[mod] \u001b[39m=\u001b[39m np\u001b[39m.\u001b[39marray([d[\u001b[39m0\u001b[39m], d[\u001b[39m1\u001b[39m]])\n\u001b[1;32m    202\u001b[0m \u001b[39mself\u001b[39m\u001b[39m.\u001b[39msignal_map \u001b[39m=\u001b[39m \u001b[39mself\u001b[39m\u001b[39m.\u001b[39mmaps[mod]\n",
      "File \u001b[0;32m~/PhD/xCell/xcell/mappers/mapper_base.py:136\u001b[0m, in \u001b[0;36mMapperBase._rerun_read_cycle\u001b[0;34m(self, fname, ftype, func, section, saved_by_func)\u001b[0m\n\u001b[1;32m    133\u001b[0m d \u001b[39m=\u001b[39m get_rerun_data(\u001b[39mself\u001b[39m, fname, ftype,\n\u001b[1;32m    134\u001b[0m                    section\u001b[39m=\u001b[39msection)\n\u001b[1;32m    135\u001b[0m \u001b[39mif\u001b[39;00m d \u001b[39mis\u001b[39;00m \u001b[39mNone\u001b[39;00m:\n\u001b[0;32m--> 136\u001b[0m     d \u001b[39m=\u001b[39m func()\n\u001b[1;32m    137\u001b[0m     \u001b[39mif\u001b[39;00m \u001b[39mnot\u001b[39;00m saved_by_func:\n\u001b[1;32m    138\u001b[0m         save_rerun_data(\u001b[39mself\u001b[39m, fname, ftype, d)\n",
      "File \u001b[0;32m~/PhD/xCell/xcell/mappers/mapper_KiDS1000.py:174\u001b[0m, in \u001b[0;36mMapperKiDS1000._get_ellip_maps\u001b[0;34m(self)\u001b[0m\n\u001b[1;32m    172\u001b[0m kind, e1f, e2f, mod \u001b[39m=\u001b[39m \u001b[39mself\u001b[39m\u001b[39m.\u001b[39m_set_mode()\n\u001b[1;32m    173\u001b[0m \u001b[39mprint\u001b[39m(\u001b[39m'\u001b[39m\u001b[39mComputing bin\u001b[39m\u001b[39m{}\u001b[39;00m\u001b[39m signal map\u001b[39m\u001b[39m'\u001b[39m\u001b[39m.\u001b[39mformat(\u001b[39mself\u001b[39m\u001b[39m.\u001b[39mzbin))\n\u001b[0;32m--> 174\u001b[0m data \u001b[39m=\u001b[39m \u001b[39mself\u001b[39;49m\u001b[39m.\u001b[39;49m_get_gals_or_stars(kind)\n\u001b[1;32m    175\u001b[0m we1, we2 \u001b[39m=\u001b[39m get_map_from_points(data, \u001b[39mself\u001b[39m\u001b[39m.\u001b[39mnside,\n\u001b[1;32m    176\u001b[0m                                w\u001b[39m=\u001b[39mdata[\u001b[39m'\u001b[39m\u001b[39mweight\u001b[39m\u001b[39m'\u001b[39m],\n\u001b[1;32m    177\u001b[0m                                qu\u001b[39m=\u001b[39m[\u001b[39m-\u001b[39mdata[e1f], data[e2f]],\n\u001b[1;32m    178\u001b[0m                                ra_name\u001b[39m=\u001b[39m\u001b[39m'\u001b[39m\u001b[39mALPHA_J2000\u001b[39m\u001b[39m'\u001b[39m,\n\u001b[1;32m    179\u001b[0m                                dec_name\u001b[39m=\u001b[39m\u001b[39m'\u001b[39m\u001b[39mDELTA_J2000\u001b[39m\u001b[39m'\u001b[39m,\n\u001b[1;32m    180\u001b[0m                                rot\u001b[39m=\u001b[39m\u001b[39mself\u001b[39m\u001b[39m.\u001b[39mrot)\n\u001b[1;32m    181\u001b[0m mask \u001b[39m=\u001b[39m \u001b[39mself\u001b[39m\u001b[39m.\u001b[39mget_mask()\n",
      "File \u001b[0;32m~/PhD/xCell/xcell/mappers/mapper_KiDS1000.py:163\u001b[0m, in \u001b[0;36mMapperKiDS1000._get_gals_or_stars\u001b[0;34m(self, kind)\u001b[0m\n\u001b[1;32m    158\u001b[0m \u001b[39mdef\u001b[39;00m \u001b[39m_get_gals_or_stars\u001b[39m(\u001b[39mself\u001b[39m, kind\u001b[39m=\u001b[39m\u001b[39m'\u001b[39m\u001b[39mgalaxies\u001b[39m\u001b[39m'\u001b[39m):\n\u001b[1;32m    159\u001b[0m     \u001b[39m# Returns the sources of the catalog \\\u001b[39;00m\n\u001b[1;32m    160\u001b[0m     \u001b[39m# corresponding to the chosen kind \\\u001b[39;00m\n\u001b[1;32m    161\u001b[0m     \u001b[39m# of source ('galaxies' or 'stars').\u001b[39;00m\n\u001b[0;32m--> 163\u001b[0m     cat_data \u001b[39m=\u001b[39m \u001b[39mself\u001b[39;49m\u001b[39m.\u001b[39;49mget_catalog()\n\u001b[1;32m    164\u001b[0m     sel \u001b[39m=\u001b[39m cat_data[\u001b[39m'\u001b[39m\u001b[39mSG_FLAG\u001b[39m\u001b[39m'\u001b[39m] \u001b[39m==\u001b[39m \u001b[39mself\u001b[39m\u001b[39m.\u001b[39msel[kind]\n\u001b[1;32m    165\u001b[0m     \u001b[39mreturn\u001b[39;00m cat_data[sel]\n",
      "File \u001b[0;32m~/PhD/xCell/xcell/mappers/mapper_KiDS1000.py:76\u001b[0m, in \u001b[0;36mMapperKiDS1000.get_catalog\u001b[0;34m(self)\u001b[0m\n\u001b[1;32m     74\u001b[0m \u001b[39mif\u001b[39;00m \u001b[39mself\u001b[39m\u001b[39m.\u001b[39mcat_data \u001b[39mis\u001b[39;00m \u001b[39mNone\u001b[39;00m:\n\u001b[1;32m     75\u001b[0m     fn \u001b[39m=\u001b[39m \u001b[39mf\u001b[39m\u001b[39m'\u001b[39m\u001b[39m{\u001b[39;00m\u001b[39mself\u001b[39m\u001b[39m.\u001b[39mmap_name\u001b[39m}\u001b[39;00m\u001b[39m_cat.fits\u001b[39m\u001b[39m'\u001b[39m\n\u001b[0;32m---> 76\u001b[0m     \u001b[39mself\u001b[39m\u001b[39m.\u001b[39mcat_data \u001b[39m=\u001b[39m \u001b[39mself\u001b[39;49m\u001b[39m.\u001b[39;49m_rerun_read_cycle(fn, \u001b[39m'\u001b[39;49m\u001b[39mFITSTable\u001b[39;49m\u001b[39m'\u001b[39;49m,\n\u001b[1;32m     77\u001b[0m                                            \u001b[39mself\u001b[39;49m\u001b[39m.\u001b[39;49m_load_catalog,\n\u001b[1;32m     78\u001b[0m                                            saved_by_func\u001b[39m=\u001b[39;49m\u001b[39mTrue\u001b[39;49;00m)\n\u001b[1;32m     79\u001b[0m \u001b[39mreturn\u001b[39;00m \u001b[39mself\u001b[39m\u001b[39m.\u001b[39mcat_data\n",
      "File \u001b[0;32m~/PhD/xCell/xcell/mappers/mapper_base.py:133\u001b[0m, in \u001b[0;36mMapperBase._rerun_read_cycle\u001b[0;34m(self, fname, ftype, func, section, saved_by_func)\u001b[0m\n\u001b[1;32m    131\u001b[0m \u001b[39mdef\u001b[39;00m \u001b[39m_rerun_read_cycle\u001b[39m(\u001b[39mself\u001b[39m, fname, ftype, func,\n\u001b[1;32m    132\u001b[0m                       section\u001b[39m=\u001b[39m\u001b[39mNone\u001b[39;00m, saved_by_func\u001b[39m=\u001b[39m\u001b[39mFalse\u001b[39;00m):\n\u001b[0;32m--> 133\u001b[0m     d \u001b[39m=\u001b[39m get_rerun_data(\u001b[39mself\u001b[39;49m, fname, ftype,\n\u001b[1;32m    134\u001b[0m                        section\u001b[39m=\u001b[39;49msection)\n\u001b[1;32m    135\u001b[0m     \u001b[39mif\u001b[39;00m d \u001b[39mis\u001b[39;00m \u001b[39mNone\u001b[39;00m:\n\u001b[1;32m    136\u001b[0m         d \u001b[39m=\u001b[39m func()\n",
      "File \u001b[0;32m~/PhD/xCell/xcell/mappers/utils.py:70\u001b[0m, in \u001b[0;36mget_rerun_data\u001b[0;34m(mpr, fname, ftype, section, read)\u001b[0m\n\u001b[1;32m     68\u001b[0m \u001b[39m# Read\u001b[39;00m\n\u001b[1;32m     69\u001b[0m \u001b[39mif\u001b[39;00m ftype \u001b[39m==\u001b[39m \u001b[39m'\u001b[39m\u001b[39mFITSTable\u001b[39m\u001b[39m'\u001b[39m:\n\u001b[0;32m---> 70\u001b[0m     \u001b[39mreturn\u001b[39;00m fitsio\u001b[39m.\u001b[39;49mread(fname_full, ext\u001b[39m=\u001b[39;49msection)\n\u001b[1;32m     71\u001b[0m \u001b[39melif\u001b[39;00m ftype \u001b[39m==\u001b[39m \u001b[39m'\u001b[39m\u001b[39mFITSMap\u001b[39m\u001b[39m'\u001b[39m:\n\u001b[1;32m     72\u001b[0m     \u001b[39mreturn\u001b[39;00m np\u001b[39m.\u001b[39marray(hp\u001b[39m.\u001b[39mread_map(fname_full, field\u001b[39m=\u001b[39msection))\n",
      "File \u001b[0;32m~/mambaforge/envs/tutorials/lib/python3.9/site-packages/fitsio/fitslib.py:147\u001b[0m, in \u001b[0;36mread\u001b[0;34m(filename, ext, extver, columns, rows, header, case_sensitive, upper, lower, vstorage, verbose, trim_strings, **keys)\u001b[0m\n\u001b[1;32m    145\u001b[0m             \u001b[39mbreak\u001b[39;00m\n\u001b[1;32m    146\u001b[0m     \u001b[39mif\u001b[39;00m ext \u001b[39mis\u001b[39;00m \u001b[39mNone\u001b[39;00m:\n\u001b[0;32m--> 147\u001b[0m         \u001b[39mraise\u001b[39;00m \u001b[39mIOError\u001b[39;00m(\u001b[39m\"\u001b[39m\u001b[39mNo extensions have data\u001b[39m\u001b[39m\"\u001b[39m)\n\u001b[1;32m    149\u001b[0m item \u001b[39m=\u001b[39m _make_item(ext, extver\u001b[39m=\u001b[39mextver)\n\u001b[1;32m    151\u001b[0m data \u001b[39m=\u001b[39m fits[item]\u001b[39m.\u001b[39mread(\u001b[39m*\u001b[39m\u001b[39m*\u001b[39mread_kwargs)\n",
      "\u001b[0;31mOSError\u001b[0m: No extensions have data"
     ]
    }
   ],
   "source": [
    "KiDS1000__0_map = KiDS1000__0.get_signal_map()\n",
    "KiDS1000__1_map = KiDS1000__1.get_signal_map()\n",
    "KiDS1000__2_map = KiDS1000__2.get_signal_map()\n",
    "KiDS1000__3_map = KiDS1000__3.get_signal_map()\n",
    "KiDS1000__4_map = KiDS1000__4.get_signal_map()"
   ]
  },
  {
   "cell_type": "code",
   "execution_count": null,
   "metadata": {},
   "outputs": [],
   "source": [
    "hp.visufunc.mollview(map=np.array(KiDS1000__0_map)[0])"
   ]
  },
  {
   "cell_type": "code",
   "execution_count": null,
   "metadata": {},
   "outputs": [],
   "source": [
    "hp.visufunc.mollview(map=np.array(KiDS1000__1_map)[0])"
   ]
  },
  {
   "cell_type": "code",
   "execution_count": null,
   "metadata": {},
   "outputs": [],
   "source": [
    "hp.visufunc.mollview(map=np.array(KiDS1000__2_map)[0])"
   ]
  },
  {
   "cell_type": "code",
   "execution_count": null,
   "metadata": {},
   "outputs": [],
   "source": [
    "hp.visufunc.mollview(map=np.array(KiDS1000__3_map)[0])"
   ]
  },
  {
   "cell_type": "code",
   "execution_count": null,
   "metadata": {},
   "outputs": [],
   "source": [
    "hp.visufunc.mollview(map=np.array(KiDS1000__4_map)[0])"
   ]
  },
  {
   "cell_type": "markdown",
   "metadata": {},
   "source": [
    "### Cl's"
   ]
  },
  {
   "cell_type": "code",
   "execution_count": null,
   "metadata": {},
   "outputs": [],
   "source": [
    "cl_KiDS1000__0_KiDS1000__0 = Cl(data.data, \"KiDS1000__0\", \"KiDS1000__0\")\n",
    "cl_KiDS1000__1_KiDS1000__1 = Cl(data.data, \"KiDS1000__1\", \"KiDS1000__1\")\n",
    "cl_KiDS1000__2_KiDS1000__2 = Cl(data.data, \"KiDS1000__2\", \"KiDS1000__2\")\n",
    "cl_KiDS1000__3_KiDS1000__3 = Cl(data.data, \"KiDS1000__3\", \"KiDS1000__3\")\n",
    "cl_KiDS1000__4_KiDS1000__4 = Cl(data.data, \"KiDS1000__4\", \"KiDS1000__4\")\n",
    "\n",
    "cl_KiDS1000__0_KiDS1000__0 = cl_KiDS1000__0_KiDS1000__0.get_ell_cl()\n",
    "cl_KiDS1000__1_KiDS1000__1 = cl_KiDS1000__1_KiDS1000__1.get_ell_cl()\n",
    "cl_KiDS1000__2_KiDS1000__2 = cl_KiDS1000__2_KiDS1000__2.get_ell_cl()\n",
    "cl_KiDS1000__3_KiDS1000__3 = cl_KiDS1000__3_KiDS1000__3.get_ell_cl()\n",
    "cl_KiDS1000__4_KiDS1000__4 = cl_KiDS1000__4_KiDS1000__4.get_ell_cl()"
   ]
  },
  {
   "cell_type": "markdown",
   "metadata": {},
   "source": [
    "### Covariance Matrix"
   ]
  },
  {
   "cell_type": "code",
   "execution_count": null,
   "metadata": {},
   "outputs": [],
   "source": [
    "cov_KiDS1000__0_KiDS1000__0_KiDS1000__0_KiDS1000__0 = Cov(data.data, \"KiDS1000__0\", \"KiDS1000__0\", \"KiDS1000__0\", \"KiDS1000__0\")\n",
    "cov_KiDS1000__1_KiDS1000__1_KiDS1000__1_KiDS1000__1 = Cov(data.data, \"KiDS1000__1\", \"KiDS1000__1\", \"KiDS1000__1\", \"KiDS1000__1\")\n",
    "cov_KiDS1000__2_KiDS1000__2_KiDS1000__2_KiDS1000__2 = Cov(data.data, \"KiDS1000__2\", \"KiDS1000__2\", \"KiDS1000__2\", \"KiDS1000__2\")\n",
    "cov_KiDS1000__3_KiDS1000__3_KiDS1000__3_KiDS1000__3 = Cov(data.data, \"KiDS1000__3\", \"KiDS1000__3\", \"KiDS1000__3\", \"KiDS1000__3\")\n",
    "cov_KiDS1000__4_KiDS1000__4_KiDS1000__4_KiDS1000__4 = Cov(data.data, \"KiDS1000__4\", \"KiDS1000__4\", \"KiDS1000__4\", \"KiDS1000__4\")\n",
    "\n",
    "cov_KiDS1000__0_KiDS1000__0_KiDS1000__0_KiDS1000__0 = cov_KiDS1000__0_KiDS1000__0_KiDS1000__0_KiDS1000__0.get_covariance()\n",
    "cov_KiDS1000__1_KiDS1000__1_KiDS1000__1_KiDS1000__1 = cov_KiDS1000__1_KiDS1000__1_KiDS1000__1_KiDS1000__1.get_covariance()\n",
    "cov_KiDS1000__2_KiDS1000__2_KiDS1000__2_KiDS1000__2 = cov_KiDS1000__2_KiDS1000__2_KiDS1000__2_KiDS1000__2.get_covariance()\n",
    "cov_KiDS1000__3_KiDS1000__3_KiDS1000__3_KiDS1000__3 = cov_KiDS1000__3_KiDS1000__3_KiDS1000__3_KiDS1000__3.get_covariance()\n",
    "cov_KiDS1000__4_KiDS1000__4_KiDS1000__4_KiDS1000__4 = cov_KiDS1000__4_KiDS1000__4_KiDS1000__4_KiDS1000__4.get_covariance()"
   ]
  },
  {
   "cell_type": "code",
   "execution_count": null,
   "metadata": {},
   "outputs": [],
   "source": [
    "err_KiDS1000__0_KiDS1000__0 = np.sqrt(np.diag(cov_KiDS1000__0_KiDS1000__0_KiDS1000__0_KiDS1000__0))\n",
    "err_KiDS1000__1_KiDS1000__1 = np.sqrt(np.diag(cov_KiDS1000__1_KiDS1000__1_KiDS1000__1_KiDS1000__1))\n",
    "err_KiDS1000__2_KiDS1000__2 = np.sqrt(np.diag(cov_KiDS1000__2_KiDS1000__2_KiDS1000__2_KiDS1000__2))\n",
    "err_KiDS1000__3_KiDS1000__3 = np.sqrt(np.diag(cov_KiDS1000__3_KiDS1000__3_KiDS1000__3_KiDS1000__3))\n",
    "err_KiDS1000__4_KiDS1000__4 = np.sqrt(np.diag(cov_KiDS1000__4_KiDS1000__4_KiDS1000__4_KiDS1000__4))"
   ]
  },
  {
   "cell_type": "markdown",
   "metadata": {},
   "source": [
    "### Theory Cl's"
   ]
  },
  {
   "cell_type": "code",
   "execution_count": null,
   "metadata": {},
   "outputs": [],
   "source": [
    "cosmo = ccl.Cosmology(Omega_c=0.27, Omega_b=0.049, h=0.67, sigma8=0.81, n_s=0.96)\n",
    "\n",
    "KiDS1000__0_nz = KiDS1000__0.get_nz()\n",
    "KiDS1000__1_nz = KiDS1000__1.get_nz()\n",
    "KiDS1000__2_nz = KiDS1000__2.get_nz()\n",
    "KiDS1000__3_nz = KiDS1000__3.get_nz()\n",
    "KiDS1000__4_nz = KiDS1000__4.get_nz()\n",
    "\n",
    "KiDS1000__0_z, KiDS1000__0_dNdz = KiDS1000__0_nz[0], KiDS1000__0_nz[1]\n",
    "KiDS1000__1_z, KiDS1000__1_dNdz = KiDS1000__1_nz[0], KiDS1000__1_nz[1]\n",
    "KiDS1000__2_z, KiDS1000__2_dNdz = KiDS1000__2_nz[0], KiDS1000__2_nz[1]\n",
    "KiDS1000__3_z, KiDS1000__3_dNdz = KiDS1000__3_nz[0], KiDS1000__3_nz[1]\n",
    "KiDS1000__4_z, KiDS1000__4_dNdz = KiDS1000__4_nz[0], KiDS1000__4_nz[1]\n",
    "\n",
    "tracer_KiDS1000__0 = ccl.WeakLensingTracer(cosmo, has_shear=True, dndz=(KiDS1000__0_z, KiDS1000__0_dNdz))\n",
    "tracer_KiDS1000__1 = ccl.WeakLensingTracer(cosmo, has_shear=True, dndz=(KiDS1000__1_z, KiDS1000__1_dNdz))\n",
    "tracer_KiDS1000__2 = ccl.WeakLensingTracer(cosmo, has_shear=True, dndz=(KiDS1000__2_z, KiDS1000__2_dNdz))\n",
    "tracer_KiDS1000__3 = ccl.WeakLensingTracer(cosmo, has_shear=True, dndz=(KiDS1000__3_z, KiDS1000__3_dNdz))\n",
    "tracer_KiDS1000__4 = ccl.WeakLensingTracer(cosmo, has_shear=True, dndz=(KiDS1000__4_z, KiDS1000__4_dNdz))\n",
    "\n",
    "clt_KiDS1000__0_KiDS1000__0 = ccl.angular_cl(cosmo, tracer_KiDS1000__0, tracer_KiDS1000__0, cl_KiDS1000__0_KiDS1000__0[0])\n",
    "clt_KiDS1000__1_KiDS1000__1 = ccl.angular_cl(cosmo, tracer_KiDS1000__1, tracer_KiDS1000__1, cl_KiDS1000__1_KiDS1000__1[0]) \n",
    "clt_KiDS1000__2_KiDS1000__2 = ccl.angular_cl(cosmo, tracer_KiDS1000__2, tracer_KiDS1000__2, cl_KiDS1000__2_KiDS1000__2[0]) \n",
    "clt_KiDS1000__3_KiDS1000__3 = ccl.angular_cl(cosmo, tracer_KiDS1000__3, tracer_KiDS1000__3, cl_KiDS1000__3_KiDS1000__3[0]) \n",
    "clt_KiDS1000__4_KiDS1000__4 = ccl.angular_cl(cosmo, tracer_KiDS1000__4, tracer_KiDS1000__4, cl_KiDS1000__4_KiDS1000__4[0]) "
   ]
  },
  {
   "cell_type": "markdown",
   "metadata": {},
   "source": [
    "### Comparison"
   ]
  },
  {
   "cell_type": "code",
   "execution_count": null,
   "metadata": {},
   "outputs": [],
   "source": [
    "plt.plot(KiDS1000__0_z, KiDS1000__0_dNdz, label='KiDS1000__0')\n",
    "plt.plot(KiDS1000__1_z, KiDS1000__1_dNdz, label='KiDS1000__1')\n",
    "plt.plot(KiDS1000__2_z, KiDS1000__2_dNdz, label='KiDS1000__2')\n",
    "plt.plot(KiDS1000__3_z, KiDS1000__3_dNdz, label='KiDS1000__3')\n",
    "plt.plot(KiDS1000__4_z, KiDS1000__4_dNdz, label='KiDS1000__4')\n",
    "plt.legend()\n",
    "plt.show()"
   ]
  },
  {
   "cell_type": "code",
   "execution_count": null,
   "metadata": {},
   "outputs": [],
   "source": [
    "plt.errorbar(cl_KiDS1000__0_KiDS1000__0[0], cl_KiDS1000__0_KiDS1000__0[1][0], yerr=err_KiDS1000__0_KiDS1000__0, fmt='o-', label='data')\n",
    "plt.plot(cl_KiDS1000__0_KiDS1000__0[0], clt_KiDS1000__0_KiDS1000__0, 'o-', label='theory')\n",
    "plt.title('KiDS1000__0-KiDS1000__0')\n",
    "plt.xlabel('$\\\\ell$', fontsize=16)\n",
    "plt.ylabel('$C_\\\\ell$', fontsize=16)\n",
    "plt.legend(loc='lower left', ncol=2, labelspacing=0.1)\n",
    "plt.xscale(\"log\")\n",
    "plt.yscale(\"log\")\n",
    "plt.show()"
   ]
  },
  {
   "cell_type": "code",
   "execution_count": null,
   "metadata": {},
   "outputs": [],
   "source": [
    "plt.errorbar(cl_KiDS1000__1_KiDS1000__1[0], cl_KiDS1000__1_KiDS1000__1[1][0], yerr=err_KiDS1000__1_KiDS1000__1, fmt='o-', label='data')\n",
    "plt.plot(cl_KiDS1000__1_KiDS1000__1[0], clt_KiDS1000__1_KiDS1000__1, 'o-', label='theory')\n",
    "plt.title('KiDS1000__1-KiDS1000__1')\n",
    "plt.xlabel('$\\\\ell$', fontsize=16)\n",
    "plt.ylabel('$C_\\\\ell$', fontsize=16)\n",
    "plt.legend(loc='lower left', ncol=2, labelspacing=0.1)\n",
    "plt.xscale(\"log\")\n",
    "plt.yscale(\"log\")\n",
    "plt.show()"
   ]
  },
  {
   "cell_type": "code",
   "execution_count": null,
   "metadata": {},
   "outputs": [],
   "source": [
    "plt.errorbar(cl_KiDS1000__2_KiDS1000__2[0], cl_KiDS1000__2_KiDS1000__2[1][0], yerr=err_KiDS1000__2_KiDS1000__2, fmt='o-', label='data')\n",
    "plt.plot(cl_KiDS1000__2_KiDS1000__2[0], clt_KiDS1000__2_KiDS1000__2, 'o-', label='theory')\n",
    "plt.title('KiDS1000__2-KiDS1000__2')\n",
    "plt.xlabel('$\\\\ell$', fontsize=16)\n",
    "plt.ylabel('$C_\\\\ell$', fontsize=16)\n",
    "plt.legend(loc='lower left', ncol=2, labelspacing=0.1)\n",
    "plt.xscale(\"log\")\n",
    "plt.yscale(\"log\")\n",
    "plt.show()\n"
   ]
  },
  {
   "cell_type": "code",
   "execution_count": null,
   "metadata": {},
   "outputs": [],
   "source": [
    "plt.errorbar(cl_KiDS1000__3_KiDS1000__3[0], cl_KiDS1000__3_KiDS1000__3[1][0], yerr=err_KiDS1000__3_KiDS1000__3, fmt='o-', label='data')\n",
    "plt.plot(cl_KiDS1000__3_KiDS1000__3[0], clt_KiDS1000__3_KiDS1000__3, 'o-', label='theory')\n",
    "plt.title('KiDS1000__3-KiDS1000__3')\n",
    "plt.xlabel('$\\\\ell$', fontsize=16)\n",
    "plt.ylabel('$C_\\\\ell$', fontsize=16)\n",
    "plt.legend(loc='lower left', ncol=2, labelspacing=0.1)\n",
    "plt.xscale(\"log\")\n",
    "plt.yscale(\"log\")\n",
    "plt.show()"
   ]
  },
  {
   "cell_type": "code",
   "execution_count": null,
   "metadata": {},
   "outputs": [],
   "source": [
    "plt.errorbar(cl_KiDS1000__4_KiDS1000__4[0], cl_KiDS1000__4_KiDS1000__4[1][0], yerr=err_KiDS1000__4_KiDS1000__4, fmt='o-', label='data')\n",
    "plt.plot(cl_KiDS1000__4_KiDS1000__4[0], clt_KiDS1000__4_KiDS1000__4, 'o-', label='theory')\n",
    "plt.title('KiDS1000__4-KiDS1000__4')\n",
    "plt.xlabel('$\\\\ell$', fontsize=16)\n",
    "plt.ylabel('$C_\\\\ell$', fontsize=16)\n",
    "plt.legend(loc='lower left', ncol=2, labelspacing=0.1)\n",
    "plt.xscale(\"log\")\n",
    "plt.yscale(\"log\")\n",
    "plt.show()"
   ]
  },
  {
   "cell_type": "code",
   "execution_count": null,
   "metadata": {},
   "outputs": [],
   "source": [
    "KiDS1000__0 = {\n",
    "    \"nz\": KiDS1000__0_nz,\n",
    "    \"cl\": cl_KiDS1000__0_KiDS1000__0,\n",
    "    \"err\": err_KiDS1000__0_KiDS1000__0,\n",
    "    }\n",
    "KiDS1000__1 = {\n",
    "    \"nz\": KiDS1000__1_nz,\n",
    "    \"cl\": cl_KiDS1000__1_KiDS1000__1,\n",
    "    \"err\": err_KiDS1000__1_KiDS1000__1,\n",
    "    }\n",
    "KiDS1000__2 = {\n",
    "    \"nz\": KiDS1000__2_nz,\n",
    "    \"cl\": cl_KiDS1000__2_KiDS1000__2,\n",
    "    \"err\": err_KiDS1000__2_KiDS1000__2,\n",
    "    }\n",
    "KiDS1000__3 = {\n",
    "    \"nz\": KiDS1000__3_nz,\n",
    "    \"cl\": cl_KiDS1000__3_KiDS1000__3,\n",
    "    \"err\": err_KiDS1000__3_KiDS1000__3,\n",
    "    }\n",
    "KiDS1000__4 = {\n",
    "    \"nz\": KiDS1000__4_nz,\n",
    "    \"cl\": cl_KiDS1000__4_KiDS1000__4,\n",
    "    \"err\": err_KiDS1000__4_KiDS1000__4,\n",
    "    }"
   ]
  },
  {
   "cell_type": "code",
   "execution_count": null,
   "metadata": {},
   "outputs": [],
   "source": [
    "np.savez(\"../results/KiDS1000__0\", KiDS1000__0)\n",
    "np.savez(\"../results/KiDS1000__1\", KiDS1000__1)\n",
    "np.savez(\"../results/KiDS1000__2\", KiDS1000__2)\n",
    "np.savez(\"../results/KiDS1000__3\", KiDS1000__3)\n",
    "np.savez(\"../results/KiDS1000__4\", KiDS1000__4)"
   ]
  },
  {
   "cell_type": "code",
   "execution_count": null,
   "metadata": {},
   "outputs": [],
   "source": [
    "import shutil\n",
    "shutil.rmtree(\"../reruns/\")"
   ]
  }
 ],
 "metadata": {
  "kernelspec": {
   "display_name": "Python 3",
   "language": "python",
   "name": "python3"
  },
  "language_info": {
   "codemirror_mode": {
    "name": "ipython",
    "version": 3
   },
   "file_extension": ".py",
   "mimetype": "text/x-python",
   "name": "python",
   "nbconvert_exporter": "python",
   "pygments_lexer": "ipython3",
   "version": "3.9.17"
  }
 },
 "nbformat": 4,
 "nbformat_minor": 4
}
