{
 "cells": [
  {
   "cell_type": "markdown",
   "metadata": {},
   "source": [
    "# eBOSS x KIDS"
   ]
  },
  {
   "cell_type": "markdown",
   "metadata": {},
   "source": [
    "### Imports"
   ]
  },
  {
   "cell_type": "code",
   "execution_count": 1,
   "metadata": {},
   "outputs": [],
   "source": [
    "# some_file.py\n",
    "import sys\n",
    "import yaml\n",
    "# insert at 1, 0 is the script path (or '' in REPL)\n",
    "\n",
    "sys.path.insert(1, '/home/jaimerz/PhD/Cosmotheka')\n",
    "\n",
    "from cosmotheka.mappers import MapperKiDS1000\n",
    "from cosmotheka.mappers import MappereBOSS\n",
    "from cosmotheka.mappers import utils\n",
    "from cosmotheka.cls.data import Data\n",
    "from cosmotheka.cls.cl import Cl\n",
    "from cosmotheka.cls.cov import Cov\n",
    "from astropy.io import fits\n",
    "from astropy.table import Table\n",
    "import pyccl as ccl\n",
    "import numpy as np\n",
    "import pylab as plt\n",
    "import pymaster as nmt\n",
    "import healpy as hp\n",
    "import numpy as np"
   ]
  },
  {
   "cell_type": "markdown",
   "metadata": {},
   "source": [
    "### Configurations"
   ]
  },
  {
   "cell_type": "code",
   "execution_count": 2,
   "metadata": {},
   "outputs": [],
   "source": [
    "data = Data(data_path=\"../config_files/master.yml\")"
   ]
  },
  {
   "cell_type": "markdown",
   "metadata": {},
   "source": [
    "### Mappers"
   ]
  },
  {
   "cell_type": "code",
   "execution_count": 3,
   "metadata": {},
   "outputs": [],
   "source": [
    "KiDS1000__0 = data.get_mapper(\"KiDS1000__0\")\n",
    "KiDS1000__1 = data.get_mapper(\"KiDS1000__1\")\n",
    "KiDS1000__2 = data.get_mapper(\"KiDS1000__2\")\n",
    "KiDS1000__3 = data.get_mapper(\"KiDS1000__3\")\n",
    "KiDS1000__4 = data.get_mapper(\"KiDS1000__4\")"
   ]
  },
  {
   "cell_type": "code",
   "execution_count": 4,
   "metadata": {},
   "outputs": [
    {
     "name": "stdout",
     "output_type": "stream",
     "text": [
      "Computing bin1 signal map\n"
     ]
    },
    {
     "name": "stderr",
     "output_type": "stream",
     "text": [
      "WARNING: hdu= was not specified but multiple tables are present, reading in first available table (hdu=1) [astropy.io.fits.connect]\n"
     ]
    },
    {
     "ename": "MemoryError",
     "evalue": "Unable to allocate 16.5 GiB for an array with shape (21262011,) and data type [('SeqNr', '<i4'), ('SLID', '<i4'), ('SID', '<i4'), ('ID', 'S25'), ('FLUX_AUTO', '<f4'), ('FLUXERR_AUTO', '<f4'), ('MAG_AUTO', '<f4'), ('MAGERR_AUTO', '<f4'), ('KRON_RADIUS', '<f4'), ('BackGr', '<f4'), ('Level', '<f4'), ('MU_THRESHOLD', '<f4'), ('MaxVal', '<f4'), ('MU_MAX', '<f4'), ('ISOAREA_WORLD', '<f4'), ('Xpos', '<f4'), ('Ypos', '<f4'), ('RAJ2000', '<f8'), ('DECJ2000', '<f8'), ('A_WORLD', '<f4'), ('B_WORLD', '<f4'), ('THETA_J2000', '<f4'), ('THETA_WORLD', '<f4'), ('ERRA_WORLD', '<f4'), ('ERRB_WORLD', '<f4'), ('ERRTHETA_J2000', '<f4'), ('ERRTHETA_WORLD', '<f4'), ('FWHM_IMAGE', '<f4'), ('FWHM_WORLD', '<f4'), ('Flag', '<i2'), ('FLUX_RADIUS', '<f4'), ('CLASS_STAR', '<f4'), ('EXTINCTION_u', '<f4'), ('EXTINCTION_g', '<f4'), ('EXTINCTION_r', '<f4'), ('EXTINCTION_i', '<f4'), ('PAgaap', '<f4'), ('MAG_ISO', '<f4'), ('MAGERR_ISO', '<f4'), ('FLUX_ISO', '<f4'), ('FLUXERR_ISO', '<f4'), ('MAG_ISOCOR', '<f4'), ('MAGERR_ISOCOR', '<f4'), ('FLUX_ISOCOR', '<f4'), ('FLUXERR_ISOCOR', '<f4'), ('NIMAFLAGS_ISO', '<i2'), ('IMAFLAGS_ISO', '<i2'), ('XMIN_IMAGE', '<i2'), ('YMIN_IMAGE', '<i2'), ('XMAX_IMAGE', '<i2'), ('YMAX_IMAGE', '<i2'), ('X_WORLD', '<f8'), ('Y_WORLD', '<f8'), ('X2_WORLD', '<f4'), ('Y2_WORLD', '<f4'), ('XY_WORLD', '<f4'), ('ERRX2_WORLD', '<f4'), ('ERRY2_WORLD', '<f4'), ('ERRXY_WORLD', '<f4'), ('CXX_WORLD', '<f4'), ('CYY_WORLD', '<f4'), ('CXY_WORLD', '<f4'), ('ERRCXX_WORLD', '<f4'), ('ERRCYY_WORLD', '<f4'), ('ERRCXY_WORLD', '<f4'), ('A_IMAGE', '<f8'), ('B_IMAGE', '<f8'), ('ERRA_IMAGE', '<f4'), ('ERRB_IMAGE', '<f4'), ('S_ELLIPTICITY', '<f4'), ('S_ELONGATION', '<f4'), ('ALPHA_J2000', '<f8'), ('DELTA_J2000', '<f8'), ('SG2DPHOT', '<i2'), ('HTM', '<i4'), ('FIELD_POS', '<i2'), ('EXTINCTION_Z', '<f4'), ('EXTINCTION_Y', '<f4'), ('EXTINCTION_J', '<f4'), ('EXTINCTION_H', '<f4'), ('EXTINCTION_Ks', '<f4'), ('MAG_GAAP_u', '<f4'), ('MAGERR_GAAP_u', '<f4'), ('FLUX_GAAP_u', '<f4'), ('FLUXERR_GAAP_u', '<f4'), ('FLAG_GAAP_u', '<i2'), ('MAG_GAAP_g', '<f4'), ('MAGERR_GAAP_g', '<f4'), ('FLUX_GAAP_g', '<f4'), ('FLUXERR_GAAP_g', '<f4'), ('FLAG_GAAP_g', '<i2'), ('MAG_GAAP_r', '<f4'), ('MAGERR_GAAP_r', '<f4'), ('FLUX_GAAP_r', '<f4'), ('FLUXERR_GAAP_r', '<f4'), ('FLAG_GAAP_r', '<i2'), ('MAG_GAAP_i', '<f4'), ('MAGERR_GAAP_i', '<f4'), ('FLUX_GAAP_i', '<f4'), ('FLUXERR_GAAP_i', '<f4'), ('FLAG_GAAP_i', '<i2'), ('MAG_GAAP_Z', '<f4'), ('MAGERR_GAAP_Z', '<f4'), ('FLUX_GAAP_Z', '<f4'), ('FLUXERR_GAAP_Z', '<f4'), ('FLAG_GAAP_Z', '<i2'), ('MAG_GAAP_Y', '<f4'), ('MAGERR_GAAP_Y', '<f4'), ('FLUX_GAAP_Y', '<f4'), ('FLUXERR_GAAP_Y', '<f4'), ('FLAG_GAAP_Y', '<i2'), ('MAG_GAAP_J', '<f4'), ('MAGERR_GAAP_J', '<f4'), ('FLUX_GAAP_J', '<f4'), ('FLUXERR_GAAP_J', '<f4'), ('FLAG_GAAP_J', '<i2'), ('MAG_GAAP_H', '<f4'), ('MAGERR_GAAP_H', '<f4'), ('FLUX_GAAP_H', '<f4'), ('FLUXERR_GAAP_H', '<f4'), ('FLAG_GAAP_H', '<i2'), ('MAG_GAAP_Ks', '<f4'), ('MAGERR_GAAP_Ks', '<f4'), ('FLUX_GAAP_Ks', '<f4'), ('FLUXERR_GAAP_Ks', '<f4'), ('FLAG_GAAP_Ks', '<i2'), ('Agaper', '<f4'), ('Bgaper', '<f4'), ('MAG_LIM_u', '<f4'), ('MAG_LIM_g', '<f4'), ('MAG_LIM_r', '<f4'), ('MAG_LIM_i', '<f4'), ('MAG_LIM_Z', '<f4'), ('MAG_LIM_Y', '<f4'), ('MAG_LIM_J', '<f4'), ('MAG_LIM_H', '<f4'), ('MAG_LIM_Ks', '<f4'), ('Z_B', '<f8'), ('Z_B_MIN', '<f8'), ('Z_B_MAX', '<f8'), ('T_B', '<f8'), ('ODDS', '<f8'), ('Z_ML', '<f8'), ('T_ML', '<f8'), ('CHI_SQUARED_BPZ', '<f8'), ('M_0', '<f8'), ('BPZ_FILT', '<i4'), ('NBPZ_FILT', '<i4'), ('BPZ_NONDETFILT', '<i4'), ('NBPZ_NONDETFILT', '<i4'), ('BPZ_FLAGFILT', '<i4'), ('NBPZ_FLAGFILT', '<i4'), ('SG_FLAG', '<f4'), ('MASK', '<i4'), ('THELI_NAME', 'S16'), ('fitclass', '<i2'), ('bias_corrected_scalelength_pixels', '<f4'), ('bulge_fraction', '<f4'), ('model_flux', '<f4'), ('pixel_SNratio', '<f4'), ('model_SNratio', '<f4'), ('contamination_radius', '<f4'), ('PSF_e1', '<f4'), ('PSF_e2', '<f4'), ('PSF_Strehl_ratio', '<f4'), ('PSF_Q11', '<f4'), ('PSF_Q22', '<f4'), ('PSF_Q12', '<f4'), ('star_galaxy_f_probability', '<f4'), ('r_correction', '<f4'), ('2D_measurement_variance', '<f4'), ('mean_likelihood_e', '<f4'), ('neighbour_mag', '<f4'), ('neighbour_distance', '<f4'), ('catmag', '<f4'), ('n_exposures_used', '<f4'), ('cat_ID', '<i4'), ('delta_SNR', '<f4'), ('PSF_e1_exp1', '<f4'), ('PSF_e2_exp1', '<f4'), ('PSF_e1_exp2', '<f4'), ('PSF_e2_exp2', '<f4'), ('PSF_e1_exp3', '<f4'), ('PSF_e2_exp3', '<f4'), ('PSF_e1_exp4', '<f4'), ('PSF_e2_exp4', '<f4'), ('PSF_e1_exp5', '<f4'), ('PSF_e2_exp5', '<f4'), ('SeqNr_field', '<i4'), ('THELI_INT', '<i2'), ('e1', '<f4'), ('e2', '<f4'), ('weight', '<f4')]",
     "output_type": "error",
     "traceback": [
      "\u001b[0;31m---------------------------------------------------------------------------\u001b[0m",
      "\u001b[0;31mMemoryError\u001b[0m                               Traceback (most recent call last)",
      "Cell \u001b[0;32mIn[4], line 2\u001b[0m\n\u001b[1;32m      1\u001b[0m \u001b[38;5;66;03m#KiDS1000__0_map = KiDS1000__0.get_signal_map()\u001b[39;00m\n\u001b[0;32m----> 2\u001b[0m KiDS1000__1_map \u001b[38;5;241m=\u001b[39m \u001b[43mKiDS1000__1\u001b[49m\u001b[38;5;241;43m.\u001b[39;49m\u001b[43mget_signal_map\u001b[49m\u001b[43m(\u001b[49m\u001b[43m)\u001b[49m\n\u001b[1;32m      3\u001b[0m \u001b[38;5;66;03m#KiDS1000__2_map = KiDS1000__2.get_signal_map()\u001b[39;00m\n\u001b[1;32m      4\u001b[0m \u001b[38;5;66;03m#KiDS1000__3_map = KiDS1000__3.get_signal_map()\u001b[39;00m\n\u001b[1;32m      5\u001b[0m \u001b[38;5;66;03m#KiDS1000__4_map = KiDS1000__4.get_signal_map()\u001b[39;00m\n",
      "File \u001b[0;32m~/PhD/Cosmotheka/cosmotheka/mappers/mapper_KiDS1000.py:200\u001b[0m, in \u001b[0;36mMapperKiDS1000.get_signal_map\u001b[0;34m(self)\u001b[0m\n\u001b[1;32m    196\u001b[0m \u001b[38;5;66;03m# This will only be computed if self.maps['mod'] is None\u001b[39;00m\n\u001b[1;32m    197\u001b[0m fn \u001b[38;5;241m=\u001b[39m \u001b[38;5;124m'\u001b[39m\u001b[38;5;124m_\u001b[39m\u001b[38;5;124m'\u001b[39m\u001b[38;5;241m.\u001b[39mjoin([\u001b[38;5;124mf\u001b[39m\u001b[38;5;124m'\u001b[39m\u001b[38;5;132;01m{\u001b[39;00m\u001b[38;5;28mself\u001b[39m\u001b[38;5;241m.\u001b[39mmap_name\u001b[38;5;132;01m}\u001b[39;00m\u001b[38;5;124m_signal_map_\u001b[39m\u001b[38;5;132;01m{\u001b[39;00mmod\u001b[38;5;132;01m}\u001b[39;00m\u001b[38;5;124m'\u001b[39m,\n\u001b[1;32m    198\u001b[0m                \u001b[38;5;124mf\u001b[39m\u001b[38;5;124m'\u001b[39m\u001b[38;5;124mcoord\u001b[39m\u001b[38;5;132;01m{\u001b[39;00m\u001b[38;5;28mself\u001b[39m\u001b[38;5;241m.\u001b[39mcoords\u001b[38;5;132;01m}\u001b[39;00m\u001b[38;5;124m'\u001b[39m,\n\u001b[1;32m    199\u001b[0m                \u001b[38;5;124mf\u001b[39m\u001b[38;5;124m'\u001b[39m\u001b[38;5;124mns\u001b[39m\u001b[38;5;132;01m{\u001b[39;00m\u001b[38;5;28mself\u001b[39m\u001b[38;5;241m.\u001b[39mnside\u001b[38;5;132;01m}\u001b[39;00m\u001b[38;5;124m.fits.gz\u001b[39m\u001b[38;5;124m'\u001b[39m])\n\u001b[0;32m--> 200\u001b[0m d \u001b[38;5;241m=\u001b[39m \u001b[38;5;28;43mself\u001b[39;49m\u001b[38;5;241;43m.\u001b[39;49m\u001b[43m_rerun_read_cycle\u001b[49m\u001b[43m(\u001b[49m\u001b[43mfn\u001b[49m\u001b[43m,\u001b[49m\u001b[43m \u001b[49m\u001b[38;5;124;43m'\u001b[39;49m\u001b[38;5;124;43mFITSMap\u001b[39;49m\u001b[38;5;124;43m'\u001b[39;49m\u001b[43m,\u001b[49m\n\u001b[1;32m    201\u001b[0m \u001b[43m                           \u001b[49m\u001b[38;5;28;43mself\u001b[39;49m\u001b[38;5;241;43m.\u001b[39;49m\u001b[43m_get_ellip_maps\u001b[49m\u001b[43m,\u001b[49m\n\u001b[1;32m    202\u001b[0m \u001b[43m                           \u001b[49m\u001b[43msection\u001b[49m\u001b[38;5;241;43m=\u001b[39;49m\u001b[43m[\u001b[49m\u001b[38;5;241;43m0\u001b[39;49m\u001b[43m,\u001b[49m\u001b[43m \u001b[49m\u001b[38;5;241;43m1\u001b[39;49m\u001b[43m]\u001b[49m\u001b[43m)\u001b[49m\n\u001b[1;32m    203\u001b[0m \u001b[38;5;28mself\u001b[39m\u001b[38;5;241m.\u001b[39mmaps[mod] \u001b[38;5;241m=\u001b[39m np\u001b[38;5;241m.\u001b[39marray([d[\u001b[38;5;241m0\u001b[39m], d[\u001b[38;5;241m1\u001b[39m]])\n\u001b[1;32m    204\u001b[0m \u001b[38;5;28mself\u001b[39m\u001b[38;5;241m.\u001b[39msignal_map \u001b[38;5;241m=\u001b[39m \u001b[38;5;28mself\u001b[39m\u001b[38;5;241m.\u001b[39mmaps[mod]\n",
      "File \u001b[0;32m~/PhD/Cosmotheka/cosmotheka/mappers/mapper_base.py:150\u001b[0m, in \u001b[0;36mMapperBase._rerun_read_cycle\u001b[0;34m(self, fname, ftype, func, section, saved_by_func)\u001b[0m\n\u001b[1;32m    147\u001b[0m d \u001b[38;5;241m=\u001b[39m get_rerun_data(\u001b[38;5;28mself\u001b[39m, fname, ftype,\n\u001b[1;32m    148\u001b[0m                    section\u001b[38;5;241m=\u001b[39msection)\n\u001b[1;32m    149\u001b[0m \u001b[38;5;28;01mif\u001b[39;00m d \u001b[38;5;129;01mis\u001b[39;00m \u001b[38;5;28;01mNone\u001b[39;00m:\n\u001b[0;32m--> 150\u001b[0m     d \u001b[38;5;241m=\u001b[39m \u001b[43mfunc\u001b[49m\u001b[43m(\u001b[49m\u001b[43m)\u001b[49m\n\u001b[1;32m    151\u001b[0m     \u001b[38;5;28;01mif\u001b[39;00m \u001b[38;5;129;01mnot\u001b[39;00m saved_by_func:\n\u001b[1;32m    152\u001b[0m         save_rerun_data(\u001b[38;5;28mself\u001b[39m, fname, ftype, d)\n",
      "File \u001b[0;32m~/PhD/Cosmotheka/cosmotheka/mappers/mapper_KiDS1000.py:176\u001b[0m, in \u001b[0;36mMapperKiDS1000._get_ellip_maps\u001b[0;34m(self)\u001b[0m\n\u001b[1;32m    174\u001b[0m kind, e1f, e2f, mod \u001b[38;5;241m=\u001b[39m \u001b[38;5;28mself\u001b[39m\u001b[38;5;241m.\u001b[39m_set_mode()\n\u001b[1;32m    175\u001b[0m \u001b[38;5;28mprint\u001b[39m(\u001b[38;5;124m'\u001b[39m\u001b[38;5;124mComputing bin\u001b[39m\u001b[38;5;132;01m{}\u001b[39;00m\u001b[38;5;124m signal map\u001b[39m\u001b[38;5;124m'\u001b[39m\u001b[38;5;241m.\u001b[39mformat(\u001b[38;5;28mself\u001b[39m\u001b[38;5;241m.\u001b[39mzbin))\n\u001b[0;32m--> 176\u001b[0m data \u001b[38;5;241m=\u001b[39m \u001b[38;5;28;43mself\u001b[39;49m\u001b[38;5;241;43m.\u001b[39;49m\u001b[43m_get_gals_or_stars\u001b[49m\u001b[43m(\u001b[49m\u001b[43mkind\u001b[49m\u001b[43m)\u001b[49m\n\u001b[1;32m    177\u001b[0m we1, we2 \u001b[38;5;241m=\u001b[39m get_map_from_points(data, \u001b[38;5;28mself\u001b[39m\u001b[38;5;241m.\u001b[39mnside,\n\u001b[1;32m    178\u001b[0m                                w\u001b[38;5;241m=\u001b[39mdata[\u001b[38;5;124m'\u001b[39m\u001b[38;5;124mweight\u001b[39m\u001b[38;5;124m'\u001b[39m],\n\u001b[1;32m    179\u001b[0m                                qu\u001b[38;5;241m=\u001b[39m[\u001b[38;5;241m-\u001b[39mdata[e1f], data[e2f]],\n\u001b[1;32m    180\u001b[0m                                ra_name\u001b[38;5;241m=\u001b[39m\u001b[38;5;124m'\u001b[39m\u001b[38;5;124mALPHA_J2000\u001b[39m\u001b[38;5;124m'\u001b[39m,\n\u001b[1;32m    181\u001b[0m                                dec_name\u001b[38;5;241m=\u001b[39m\u001b[38;5;124m'\u001b[39m\u001b[38;5;124mDELTA_J2000\u001b[39m\u001b[38;5;124m'\u001b[39m,\n\u001b[1;32m    182\u001b[0m                                rot\u001b[38;5;241m=\u001b[39m\u001b[38;5;28mself\u001b[39m\u001b[38;5;241m.\u001b[39mrot)\n\u001b[1;32m    183\u001b[0m mask \u001b[38;5;241m=\u001b[39m \u001b[38;5;28mself\u001b[39m\u001b[38;5;241m.\u001b[39mget_mask()\n",
      "File \u001b[0;32m~/PhD/Cosmotheka/cosmotheka/mappers/mapper_KiDS1000.py:165\u001b[0m, in \u001b[0;36mMapperKiDS1000._get_gals_or_stars\u001b[0;34m(self, kind)\u001b[0m\n\u001b[1;32m    160\u001b[0m \u001b[38;5;28;01mdef\u001b[39;00m \u001b[38;5;21m_get_gals_or_stars\u001b[39m(\u001b[38;5;28mself\u001b[39m, kind\u001b[38;5;241m=\u001b[39m\u001b[38;5;124m'\u001b[39m\u001b[38;5;124mgalaxies\u001b[39m\u001b[38;5;124m'\u001b[39m):\n\u001b[1;32m    161\u001b[0m     \u001b[38;5;66;03m# Returns the sources of the catalog \\\u001b[39;00m\n\u001b[1;32m    162\u001b[0m     \u001b[38;5;66;03m# corresponding to the chosen kind \\\u001b[39;00m\n\u001b[1;32m    163\u001b[0m     \u001b[38;5;66;03m# of source ('galaxies' or 'stars').\u001b[39;00m\n\u001b[0;32m--> 165\u001b[0m     cat_data \u001b[38;5;241m=\u001b[39m \u001b[38;5;28;43mself\u001b[39;49m\u001b[38;5;241;43m.\u001b[39;49m\u001b[43mget_catalog\u001b[49m\u001b[43m(\u001b[49m\u001b[43m)\u001b[49m\n\u001b[1;32m    166\u001b[0m     sel \u001b[38;5;241m=\u001b[39m cat_data[\u001b[38;5;124m'\u001b[39m\u001b[38;5;124mSG_FLAG\u001b[39m\u001b[38;5;124m'\u001b[39m] \u001b[38;5;241m==\u001b[39m \u001b[38;5;28mself\u001b[39m\u001b[38;5;241m.\u001b[39msel[kind]\n\u001b[1;32m    167\u001b[0m     \u001b[38;5;28;01mreturn\u001b[39;00m cat_data[sel]\n",
      "File \u001b[0;32m~/PhD/Cosmotheka/cosmotheka/mappers/mapper_KiDS1000.py:78\u001b[0m, in \u001b[0;36mMapperKiDS1000.get_catalog\u001b[0;34m(self)\u001b[0m\n\u001b[1;32m     76\u001b[0m     map_name \u001b[38;5;241m=\u001b[39m \u001b[38;5;28mself\u001b[39m\u001b[38;5;241m.\u001b[39mmap_name\u001b[38;5;241m.\u001b[39msplit(\u001b[38;5;124m\"\u001b[39m\u001b[38;5;124m_\u001b[39m\u001b[38;5;124m\"\u001b[39m)[\u001b[38;5;241m0\u001b[39m] \u001b[38;5;241m+\u001b[39m \u001b[38;5;124mf\u001b[39m\u001b[38;5;124m\"\u001b[39m\u001b[38;5;124m_bin\u001b[39m\u001b[38;5;132;01m{\u001b[39;00m\u001b[38;5;28mself\u001b[39m\u001b[38;5;241m.\u001b[39mzbin\u001b[38;5;132;01m}\u001b[39;00m\u001b[38;5;124m\"\u001b[39m\n\u001b[1;32m     77\u001b[0m     fn \u001b[38;5;241m=\u001b[39m \u001b[38;5;124mf\u001b[39m\u001b[38;5;124m'\u001b[39m\u001b[38;5;132;01m{\u001b[39;00mmap_name\u001b[38;5;132;01m}\u001b[39;00m\u001b[38;5;124m_cat.fits\u001b[39m\u001b[38;5;124m'\u001b[39m\n\u001b[0;32m---> 78\u001b[0m     \u001b[38;5;28mself\u001b[39m\u001b[38;5;241m.\u001b[39mcat_data \u001b[38;5;241m=\u001b[39m \u001b[38;5;28;43mself\u001b[39;49m\u001b[38;5;241;43m.\u001b[39;49m\u001b[43m_rerun_read_cycle\u001b[49m\u001b[43m(\u001b[49m\u001b[43mfn\u001b[49m\u001b[43m,\u001b[49m\u001b[43m \u001b[49m\u001b[38;5;124;43m'\u001b[39;49m\u001b[38;5;124;43mFITSTable\u001b[39;49m\u001b[38;5;124;43m'\u001b[39;49m\u001b[43m,\u001b[49m\n\u001b[1;32m     79\u001b[0m \u001b[43m                                           \u001b[49m\u001b[38;5;28;43mself\u001b[39;49m\u001b[38;5;241;43m.\u001b[39;49m\u001b[43m_load_catalog\u001b[49m\u001b[43m,\u001b[49m\n\u001b[1;32m     80\u001b[0m \u001b[43m                                           \u001b[49m\u001b[43msaved_by_func\u001b[49m\u001b[38;5;241;43m=\u001b[39;49m\u001b[38;5;28;43;01mTrue\u001b[39;49;00m\u001b[43m)\u001b[49m\n\u001b[1;32m     81\u001b[0m \u001b[38;5;28;01mreturn\u001b[39;00m \u001b[38;5;28mself\u001b[39m\u001b[38;5;241m.\u001b[39mcat_data\n",
      "File \u001b[0;32m~/PhD/Cosmotheka/cosmotheka/mappers/mapper_base.py:150\u001b[0m, in \u001b[0;36mMapperBase._rerun_read_cycle\u001b[0;34m(self, fname, ftype, func, section, saved_by_func)\u001b[0m\n\u001b[1;32m    147\u001b[0m d \u001b[38;5;241m=\u001b[39m get_rerun_data(\u001b[38;5;28mself\u001b[39m, fname, ftype,\n\u001b[1;32m    148\u001b[0m                    section\u001b[38;5;241m=\u001b[39msection)\n\u001b[1;32m    149\u001b[0m \u001b[38;5;28;01mif\u001b[39;00m d \u001b[38;5;129;01mis\u001b[39;00m \u001b[38;5;28;01mNone\u001b[39;00m:\n\u001b[0;32m--> 150\u001b[0m     d \u001b[38;5;241m=\u001b[39m \u001b[43mfunc\u001b[49m\u001b[43m(\u001b[49m\u001b[43m)\u001b[49m\n\u001b[1;32m    151\u001b[0m     \u001b[38;5;28;01mif\u001b[39;00m \u001b[38;5;129;01mnot\u001b[39;00m saved_by_func:\n\u001b[1;32m    152\u001b[0m         save_rerun_data(\u001b[38;5;28mself\u001b[39m, fname, ftype, d)\n",
      "File \u001b[0;32m~/PhD/Cosmotheka/cosmotheka/mappers/mapper_KiDS1000.py:92\u001b[0m, in \u001b[0;36mMapperKiDS1000._load_catalog\u001b[0;34m(self)\u001b[0m\n\u001b[1;32m     90\u001b[0m nzbins \u001b[38;5;241m=\u001b[39m \u001b[38;5;28mself\u001b[39m\u001b[38;5;241m.\u001b[39mzbin_edges\u001b[38;5;241m.\u001b[39mshape[\u001b[38;5;241m0\u001b[39m]\n\u001b[1;32m     91\u001b[0m cat_out \u001b[38;5;241m=\u001b[39m \u001b[38;5;28;01mNone\u001b[39;00m\n\u001b[0;32m---> 92\u001b[0m cat_full \u001b[38;5;241m=\u001b[39m \u001b[43mTable\u001b[49m\u001b[38;5;241;43m.\u001b[39;49m\u001b[43mread\u001b[49m\u001b[43m(\u001b[49m\u001b[38;5;28;43mself\u001b[39;49m\u001b[38;5;241;43m.\u001b[39;49m\u001b[43mconfig\u001b[49m\u001b[43m[\u001b[49m\u001b[38;5;124;43m'\u001b[39;49m\u001b[38;5;124;43mdata_catalog\u001b[39;49m\u001b[38;5;124;43m'\u001b[39;49m\u001b[43m]\u001b[49m\u001b[43m,\u001b[49m\n\u001b[1;32m     93\u001b[0m \u001b[43m                      \u001b[49m\u001b[38;5;28;43mformat\u001b[39;49m\u001b[38;5;241;43m=\u001b[39;49m\u001b[38;5;124;43m'\u001b[39;49m\u001b[38;5;124;43mfits\u001b[39;49m\u001b[38;5;124;43m'\u001b[39;49m\u001b[43m)\u001b[49m[\u001b[38;5;28mself\u001b[39m\u001b[38;5;241m.\u001b[39mcolumn_names]\n\u001b[1;32m     94\u001b[0m \u001b[38;5;28;01mfor\u001b[39;00m ibin \u001b[38;5;129;01min\u001b[39;00m \u001b[38;5;28mrange\u001b[39m(nzbins):\n\u001b[1;32m     95\u001b[0m     sel \u001b[38;5;241m=\u001b[39m \u001b[38;5;28mself\u001b[39m\u001b[38;5;241m.\u001b[39m_bin_z(cat_full, ibin)\n",
      "File \u001b[0;32m~/anaconda3/envs/tutorials/lib/python3.9/site-packages/astropy/table/connect.py:62\u001b[0m, in \u001b[0;36mTableRead.__call__\u001b[0;34m(self, *args, **kwargs)\u001b[0m\n\u001b[1;32m     59\u001b[0m units \u001b[38;5;241m=\u001b[39m kwargs\u001b[38;5;241m.\u001b[39mpop(\u001b[38;5;124m\"\u001b[39m\u001b[38;5;124munits\u001b[39m\u001b[38;5;124m\"\u001b[39m, \u001b[38;5;28;01mNone\u001b[39;00m)\n\u001b[1;32m     60\u001b[0m descriptions \u001b[38;5;241m=\u001b[39m kwargs\u001b[38;5;241m.\u001b[39mpop(\u001b[38;5;124m\"\u001b[39m\u001b[38;5;124mdescriptions\u001b[39m\u001b[38;5;124m\"\u001b[39m, \u001b[38;5;28;01mNone\u001b[39;00m)\n\u001b[0;32m---> 62\u001b[0m out \u001b[38;5;241m=\u001b[39m \u001b[38;5;28;43mself\u001b[39;49m\u001b[38;5;241;43m.\u001b[39;49m\u001b[43mregistry\u001b[49m\u001b[38;5;241;43m.\u001b[39;49m\u001b[43mread\u001b[49m\u001b[43m(\u001b[49m\u001b[38;5;28;43mcls\u001b[39;49m\u001b[43m,\u001b[49m\u001b[43m \u001b[49m\u001b[38;5;241;43m*\u001b[39;49m\u001b[43margs\u001b[49m\u001b[43m,\u001b[49m\u001b[43m \u001b[49m\u001b[38;5;241;43m*\u001b[39;49m\u001b[38;5;241;43m*\u001b[39;49m\u001b[43mkwargs\u001b[49m\u001b[43m)\u001b[49m\n\u001b[1;32m     64\u001b[0m \u001b[38;5;66;03m# For some readers (e.g., ascii.ecsv), the returned `out` class is not\u001b[39;00m\n\u001b[1;32m     65\u001b[0m \u001b[38;5;66;03m# guaranteed to be the same as the desired output `cls`.  If so,\u001b[39;00m\n\u001b[1;32m     66\u001b[0m \u001b[38;5;66;03m# try coercing to desired class without copying (io.registry.read\u001b[39;00m\n\u001b[1;32m     67\u001b[0m \u001b[38;5;66;03m# would normally do a copy).  The normal case here is swapping\u001b[39;00m\n\u001b[1;32m     68\u001b[0m \u001b[38;5;66;03m# Table <=> QTable.\u001b[39;00m\n\u001b[1;32m     69\u001b[0m \u001b[38;5;28;01mif\u001b[39;00m \u001b[38;5;28mcls\u001b[39m \u001b[38;5;129;01mis\u001b[39;00m \u001b[38;5;129;01mnot\u001b[39;00m out\u001b[38;5;241m.\u001b[39m\u001b[38;5;18m__class__\u001b[39m:\n",
      "File \u001b[0;32m~/anaconda3/envs/tutorials/lib/python3.9/site-packages/astropy/io/registry/core.py:218\u001b[0m, in \u001b[0;36mUnifiedInputRegistry.read\u001b[0;34m(self, cls, format, cache, *args, **kwargs)\u001b[0m\n\u001b[1;32m    213\u001b[0m     \u001b[38;5;28mformat\u001b[39m \u001b[38;5;241m=\u001b[39m \u001b[38;5;28mself\u001b[39m\u001b[38;5;241m.\u001b[39m_get_valid_format(\n\u001b[1;32m    214\u001b[0m         \u001b[38;5;124m\"\u001b[39m\u001b[38;5;124mread\u001b[39m\u001b[38;5;124m\"\u001b[39m, \u001b[38;5;28mcls\u001b[39m, path, fileobj, args, kwargs\n\u001b[1;32m    215\u001b[0m     )\n\u001b[1;32m    217\u001b[0m reader \u001b[38;5;241m=\u001b[39m \u001b[38;5;28mself\u001b[39m\u001b[38;5;241m.\u001b[39mget_reader(\u001b[38;5;28mformat\u001b[39m, \u001b[38;5;28mcls\u001b[39m)\n\u001b[0;32m--> 218\u001b[0m data \u001b[38;5;241m=\u001b[39m \u001b[43mreader\u001b[49m\u001b[43m(\u001b[49m\u001b[38;5;241;43m*\u001b[39;49m\u001b[43margs\u001b[49m\u001b[43m,\u001b[49m\u001b[43m \u001b[49m\u001b[38;5;241;43m*\u001b[39;49m\u001b[38;5;241;43m*\u001b[39;49m\u001b[43mkwargs\u001b[49m\u001b[43m)\u001b[49m\n\u001b[1;32m    220\u001b[0m \u001b[38;5;28;01mif\u001b[39;00m \u001b[38;5;129;01mnot\u001b[39;00m \u001b[38;5;28misinstance\u001b[39m(data, \u001b[38;5;28mcls\u001b[39m):\n\u001b[1;32m    221\u001b[0m     \u001b[38;5;66;03m# User has read with a subclass where only the parent class is\u001b[39;00m\n\u001b[1;32m    222\u001b[0m     \u001b[38;5;66;03m# registered.  This returns the parent class, so try coercing\u001b[39;00m\n\u001b[1;32m    223\u001b[0m     \u001b[38;5;66;03m# to desired subclass.\u001b[39;00m\n\u001b[1;32m    224\u001b[0m     \u001b[38;5;28;01mtry\u001b[39;00m:\n",
      "File \u001b[0;32m~/anaconda3/envs/tutorials/lib/python3.9/site-packages/astropy/io/fits/connect.py:246\u001b[0m, in \u001b[0;36mread_table_fits\u001b[0;34m(input, hdu, astropy_native, memmap, character_as_bytes, unit_parse_strict, mask_invalid)\u001b[0m\n\u001b[1;32m    243\u001b[0m hdulist \u001b[38;5;241m=\u001b[39m fits_open(\u001b[38;5;28minput\u001b[39m, character_as_bytes\u001b[38;5;241m=\u001b[39mcharacter_as_bytes, memmap\u001b[38;5;241m=\u001b[39mmemmap)\n\u001b[1;32m    245\u001b[0m \u001b[38;5;28;01mtry\u001b[39;00m:\n\u001b[0;32m--> 246\u001b[0m     \u001b[38;5;28;01mreturn\u001b[39;00m \u001b[43mread_table_fits\u001b[49m\u001b[43m(\u001b[49m\n\u001b[1;32m    247\u001b[0m \u001b[43m        \u001b[49m\u001b[43mhdulist\u001b[49m\u001b[43m,\u001b[49m\n\u001b[1;32m    248\u001b[0m \u001b[43m        \u001b[49m\u001b[43mhdu\u001b[49m\u001b[38;5;241;43m=\u001b[39;49m\u001b[43mhdu\u001b[49m\u001b[43m,\u001b[49m\n\u001b[1;32m    249\u001b[0m \u001b[43m        \u001b[49m\u001b[43mastropy_native\u001b[49m\u001b[38;5;241;43m=\u001b[39;49m\u001b[43mastropy_native\u001b[49m\u001b[43m,\u001b[49m\n\u001b[1;32m    250\u001b[0m \u001b[43m        \u001b[49m\u001b[43munit_parse_strict\u001b[49m\u001b[38;5;241;43m=\u001b[39;49m\u001b[43munit_parse_strict\u001b[49m\u001b[43m,\u001b[49m\n\u001b[1;32m    251\u001b[0m \u001b[43m        \u001b[49m\u001b[43mmask_invalid\u001b[49m\u001b[38;5;241;43m=\u001b[39;49m\u001b[43mmask_invalid\u001b[49m\u001b[43m,\u001b[49m\n\u001b[1;32m    252\u001b[0m \u001b[43m    \u001b[49m\u001b[43m)\u001b[49m\n\u001b[1;32m    253\u001b[0m \u001b[38;5;28;01mfinally\u001b[39;00m:\n\u001b[1;32m    254\u001b[0m     hdulist\u001b[38;5;241m.\u001b[39mclose()\n",
      "File \u001b[0;32m~/anaconda3/envs/tutorials/lib/python3.9/site-packages/astropy/io/fits/connect.py:258\u001b[0m, in \u001b[0;36mread_table_fits\u001b[0;34m(input, hdu, astropy_native, memmap, character_as_bytes, unit_parse_strict, mask_invalid)\u001b[0m\n\u001b[1;32m    254\u001b[0m         hdulist\u001b[38;5;241m.\u001b[39mclose()\n\u001b[1;32m    256\u001b[0m \u001b[38;5;66;03m# In the loop below we access the data using data[col.name] rather than\u001b[39;00m\n\u001b[1;32m    257\u001b[0m \u001b[38;5;66;03m# col.array to make sure that the data is scaled correctly if needed.\u001b[39;00m\n\u001b[0;32m--> 258\u001b[0m data \u001b[38;5;241m=\u001b[39m \u001b[43mtable\u001b[49m\u001b[38;5;241;43m.\u001b[39;49m\u001b[43mdata\u001b[49m\n\u001b[1;32m    260\u001b[0m columns \u001b[38;5;241m=\u001b[39m []\n\u001b[1;32m    261\u001b[0m \u001b[38;5;28;01mfor\u001b[39;00m col \u001b[38;5;129;01min\u001b[39;00m data\u001b[38;5;241m.\u001b[39mcolumns:\n\u001b[1;32m    262\u001b[0m     \u001b[38;5;66;03m# Check if column is masked. Here, we make a guess based on the\u001b[39;00m\n\u001b[1;32m    263\u001b[0m     \u001b[38;5;66;03m# presence of FITS mask values. For integer columns, this is simply\u001b[39;00m\n\u001b[0;32m   (...)\u001b[0m\n\u001b[1;32m    266\u001b[0m     \u001b[38;5;66;03m# Since Multi-element columns with dtypes such as '2f8' have a subdtype,\u001b[39;00m\n\u001b[1;32m    267\u001b[0m     \u001b[38;5;66;03m# we should look up the type of column on that.\u001b[39;00m\n",
      "File \u001b[0;32m~/anaconda3/envs/tutorials/lib/python3.9/site-packages/astropy/utils/decorators.py:837\u001b[0m, in \u001b[0;36mlazyproperty.__get__\u001b[0;34m(self, obj, owner)\u001b[0m\n\u001b[1;32m    835\u001b[0m         val \u001b[38;5;241m=\u001b[39m obj_dict\u001b[38;5;241m.\u001b[39mget(\u001b[38;5;28mself\u001b[39m\u001b[38;5;241m.\u001b[39m_key, _NotFound)\n\u001b[1;32m    836\u001b[0m         \u001b[38;5;28;01mif\u001b[39;00m val \u001b[38;5;129;01mis\u001b[39;00m _NotFound:\n\u001b[0;32m--> 837\u001b[0m             val \u001b[38;5;241m=\u001b[39m \u001b[38;5;28;43mself\u001b[39;49m\u001b[38;5;241;43m.\u001b[39;49m\u001b[43mfget\u001b[49m\u001b[43m(\u001b[49m\u001b[43mobj\u001b[49m\u001b[43m)\u001b[49m\n\u001b[1;32m    838\u001b[0m             obj_dict[\u001b[38;5;28mself\u001b[39m\u001b[38;5;241m.\u001b[39m_key] \u001b[38;5;241m=\u001b[39m val\n\u001b[1;32m    839\u001b[0m \u001b[38;5;28;01mreturn\u001b[39;00m val\n",
      "File \u001b[0;32m~/anaconda3/envs/tutorials/lib/python3.9/site-packages/astropy/io/fits/hdu/table.py:442\u001b[0m, in \u001b[0;36m_TableBaseHDU.data\u001b[0;34m(self)\u001b[0m\n\u001b[1;32m    440\u001b[0m \u001b[38;5;129m@lazyproperty\u001b[39m\n\u001b[1;32m    441\u001b[0m \u001b[38;5;28;01mdef\u001b[39;00m \u001b[38;5;21mdata\u001b[39m(\u001b[38;5;28mself\u001b[39m):\n\u001b[0;32m--> 442\u001b[0m     data \u001b[38;5;241m=\u001b[39m \u001b[38;5;28;43mself\u001b[39;49m\u001b[38;5;241;43m.\u001b[39;49m\u001b[43m_get_tbdata\u001b[49m\u001b[43m(\u001b[49m\u001b[43m)\u001b[49m\n\u001b[1;32m    443\u001b[0m     data\u001b[38;5;241m.\u001b[39m_coldefs \u001b[38;5;241m=\u001b[39m \u001b[38;5;28mself\u001b[39m\u001b[38;5;241m.\u001b[39mcolumns\n\u001b[1;32m    444\u001b[0m     data\u001b[38;5;241m.\u001b[39m_character_as_bytes \u001b[38;5;241m=\u001b[39m \u001b[38;5;28mself\u001b[39m\u001b[38;5;241m.\u001b[39m_character_as_bytes\n",
      "File \u001b[0;32m~/anaconda3/envs/tutorials/lib/python3.9/site-packages/astropy/io/fits/hdu/table.py:194\u001b[0m, in \u001b[0;36m_TableLikeHDU._get_tbdata\u001b[0;34m(self)\u001b[0m\n\u001b[1;32m    192\u001b[0m     data \u001b[38;5;241m=\u001b[39m raw_data[:tbsize]\u001b[38;5;241m.\u001b[39mview(dtype\u001b[38;5;241m=\u001b[39mcolumns\u001b[38;5;241m.\u001b[39mdtype, \u001b[38;5;28mtype\u001b[39m\u001b[38;5;241m=\u001b[39mnp\u001b[38;5;241m.\u001b[39mrec\u001b[38;5;241m.\u001b[39mrecarray)\n\u001b[1;32m    193\u001b[0m \u001b[38;5;28;01melse\u001b[39;00m:\n\u001b[0;32m--> 194\u001b[0m     raw_data \u001b[38;5;241m=\u001b[39m \u001b[38;5;28;43mself\u001b[39;49m\u001b[38;5;241;43m.\u001b[39;49m\u001b[43m_get_raw_data\u001b[49m\u001b[43m(\u001b[49m\u001b[38;5;28;43mself\u001b[39;49m\u001b[38;5;241;43m.\u001b[39;49m\u001b[43m_nrows\u001b[49m\u001b[43m,\u001b[49m\u001b[43m \u001b[49m\u001b[43mcolumns\u001b[49m\u001b[38;5;241;43m.\u001b[39;49m\u001b[43mdtype\u001b[49m\u001b[43m,\u001b[49m\u001b[43m \u001b[49m\u001b[38;5;28;43mself\u001b[39;49m\u001b[38;5;241;43m.\u001b[39;49m\u001b[43m_data_offset\u001b[49m\u001b[43m)\u001b[49m\n\u001b[1;32m    195\u001b[0m     \u001b[38;5;28;01mif\u001b[39;00m raw_data \u001b[38;5;129;01mis\u001b[39;00m \u001b[38;5;28;01mNone\u001b[39;00m:\n\u001b[1;32m    196\u001b[0m         \u001b[38;5;66;03m# This can happen when a brand new table HDU is being created\u001b[39;00m\n\u001b[1;32m    197\u001b[0m         \u001b[38;5;66;03m# and no data has been assigned to the columns, which case just\u001b[39;00m\n\u001b[1;32m    198\u001b[0m         \u001b[38;5;66;03m# return an empty array\u001b[39;00m\n\u001b[1;32m    199\u001b[0m         raw_data \u001b[38;5;241m=\u001b[39m np\u001b[38;5;241m.\u001b[39marray([], dtype\u001b[38;5;241m=\u001b[39mcolumns\u001b[38;5;241m.\u001b[39mdtype)\n",
      "File \u001b[0;32m~/anaconda3/envs/tutorials/lib/python3.9/site-packages/astropy/io/fits/hdu/base.py:547\u001b[0m, in \u001b[0;36m_BaseHDU._get_raw_data\u001b[0;34m(self, shape, code, offset)\u001b[0m\n\u001b[1;32m    545\u001b[0m     \u001b[38;5;28;01mreturn\u001b[39;00m np\u001b[38;5;241m.\u001b[39mndarray(shape, dtype\u001b[38;5;241m=\u001b[39mcode, buffer\u001b[38;5;241m=\u001b[39m\u001b[38;5;28mself\u001b[39m\u001b[38;5;241m.\u001b[39m_buffer, offset\u001b[38;5;241m=\u001b[39moffset)\n\u001b[1;32m    546\u001b[0m \u001b[38;5;28;01melif\u001b[39;00m \u001b[38;5;28mself\u001b[39m\u001b[38;5;241m.\u001b[39m_file:\n\u001b[0;32m--> 547\u001b[0m     \u001b[38;5;28;01mreturn\u001b[39;00m \u001b[38;5;28;43mself\u001b[39;49m\u001b[38;5;241;43m.\u001b[39;49m\u001b[43m_file\u001b[49m\u001b[38;5;241;43m.\u001b[39;49m\u001b[43mreadarray\u001b[49m\u001b[43m(\u001b[49m\u001b[43moffset\u001b[49m\u001b[38;5;241;43m=\u001b[39;49m\u001b[43moffset\u001b[49m\u001b[43m,\u001b[49m\u001b[43m \u001b[49m\u001b[43mdtype\u001b[49m\u001b[38;5;241;43m=\u001b[39;49m\u001b[43mcode\u001b[49m\u001b[43m,\u001b[49m\u001b[43m \u001b[49m\u001b[43mshape\u001b[49m\u001b[38;5;241;43m=\u001b[39;49m\u001b[43mshape\u001b[49m\u001b[43m)\u001b[49m\n\u001b[1;32m    548\u001b[0m \u001b[38;5;28;01melse\u001b[39;00m:\n\u001b[1;32m    549\u001b[0m     \u001b[38;5;28;01mreturn\u001b[39;00m \u001b[38;5;28;01mNone\u001b[39;00m\n",
      "File \u001b[0;32m~/anaconda3/envs/tutorials/lib/python3.9/site-packages/astropy/io/fits/file.py:384\u001b[0m, in \u001b[0;36m_File.readarray\u001b[0;34m(self, size, offset, dtype, shape)\u001b[0m\n\u001b[1;32m    382\u001b[0m count \u001b[38;5;241m=\u001b[39m reduce(operator\u001b[38;5;241m.\u001b[39mmul, shape)\n\u001b[1;32m    383\u001b[0m \u001b[38;5;28mself\u001b[39m\u001b[38;5;241m.\u001b[39m_file\u001b[38;5;241m.\u001b[39mseek(offset)\n\u001b[0;32m--> 384\u001b[0m data \u001b[38;5;241m=\u001b[39m \u001b[43m_array_from_file\u001b[49m\u001b[43m(\u001b[49m\u001b[38;5;28;43mself\u001b[39;49m\u001b[38;5;241;43m.\u001b[39;49m\u001b[43m_file\u001b[49m\u001b[43m,\u001b[49m\u001b[43m \u001b[49m\u001b[43mdtype\u001b[49m\u001b[43m,\u001b[49m\u001b[43m \u001b[49m\u001b[43mcount\u001b[49m\u001b[43m)\u001b[49m\n\u001b[1;32m    385\u001b[0m data\u001b[38;5;241m.\u001b[39mshape \u001b[38;5;241m=\u001b[39m shape\n\u001b[1;32m    386\u001b[0m \u001b[38;5;28;01mreturn\u001b[39;00m data\n",
      "File \u001b[0;32m~/anaconda3/envs/tutorials/lib/python3.9/site-packages/astropy/io/fits/util.py:552\u001b[0m, in \u001b[0;36m_array_from_file\u001b[0;34m(infile, dtype, count)\u001b[0m\n\u001b[1;32m    550\u001b[0m             \u001b[38;5;28;01mreturn\u001b[39;00m array\n\u001b[1;32m    551\u001b[0m     \u001b[38;5;28;01melse\u001b[39;00m:\n\u001b[0;32m--> 552\u001b[0m         \u001b[38;5;28;01mreturn\u001b[39;00m \u001b[43mnp\u001b[49m\u001b[38;5;241;43m.\u001b[39;49m\u001b[43mfromfile\u001b[49m\u001b[43m(\u001b[49m\u001b[43minfile\u001b[49m\u001b[43m,\u001b[49m\u001b[43m \u001b[49m\u001b[43mdtype\u001b[49m\u001b[38;5;241;43m=\u001b[39;49m\u001b[43mdtype\u001b[49m\u001b[43m,\u001b[49m\u001b[43m \u001b[49m\u001b[43mcount\u001b[49m\u001b[38;5;241;43m=\u001b[39;49m\u001b[43mcount\u001b[49m\u001b[43m)\u001b[49m\n\u001b[1;32m    553\u001b[0m \u001b[38;5;28;01melse\u001b[39;00m:\n\u001b[1;32m    554\u001b[0m     \u001b[38;5;66;03m# treat as file-like object with \"read\" method; this includes gzip file\u001b[39;00m\n\u001b[1;32m    555\u001b[0m     \u001b[38;5;66;03m# objects, because numpy.fromfile just reads the compressed bytes from\u001b[39;00m\n\u001b[1;32m    556\u001b[0m     \u001b[38;5;66;03m# their underlying file object, instead of the decompressed bytes\u001b[39;00m\n\u001b[1;32m    557\u001b[0m     read_size \u001b[38;5;241m=\u001b[39m np\u001b[38;5;241m.\u001b[39mdtype(dtype)\u001b[38;5;241m.\u001b[39mitemsize \u001b[38;5;241m*\u001b[39m count\n",
      "\u001b[0;31mMemoryError\u001b[0m: Unable to allocate 16.5 GiB for an array with shape (21262011,) and data type [('SeqNr', '<i4'), ('SLID', '<i4'), ('SID', '<i4'), ('ID', 'S25'), ('FLUX_AUTO', '<f4'), ('FLUXERR_AUTO', '<f4'), ('MAG_AUTO', '<f4'), ('MAGERR_AUTO', '<f4'), ('KRON_RADIUS', '<f4'), ('BackGr', '<f4'), ('Level', '<f4'), ('MU_THRESHOLD', '<f4'), ('MaxVal', '<f4'), ('MU_MAX', '<f4'), ('ISOAREA_WORLD', '<f4'), ('Xpos', '<f4'), ('Ypos', '<f4'), ('RAJ2000', '<f8'), ('DECJ2000', '<f8'), ('A_WORLD', '<f4'), ('B_WORLD', '<f4'), ('THETA_J2000', '<f4'), ('THETA_WORLD', '<f4'), ('ERRA_WORLD', '<f4'), ('ERRB_WORLD', '<f4'), ('ERRTHETA_J2000', '<f4'), ('ERRTHETA_WORLD', '<f4'), ('FWHM_IMAGE', '<f4'), ('FWHM_WORLD', '<f4'), ('Flag', '<i2'), ('FLUX_RADIUS', '<f4'), ('CLASS_STAR', '<f4'), ('EXTINCTION_u', '<f4'), ('EXTINCTION_g', '<f4'), ('EXTINCTION_r', '<f4'), ('EXTINCTION_i', '<f4'), ('PAgaap', '<f4'), ('MAG_ISO', '<f4'), ('MAGERR_ISO', '<f4'), ('FLUX_ISO', '<f4'), ('FLUXERR_ISO', '<f4'), ('MAG_ISOCOR', '<f4'), ('MAGERR_ISOCOR', '<f4'), ('FLUX_ISOCOR', '<f4'), ('FLUXERR_ISOCOR', '<f4'), ('NIMAFLAGS_ISO', '<i2'), ('IMAFLAGS_ISO', '<i2'), ('XMIN_IMAGE', '<i2'), ('YMIN_IMAGE', '<i2'), ('XMAX_IMAGE', '<i2'), ('YMAX_IMAGE', '<i2'), ('X_WORLD', '<f8'), ('Y_WORLD', '<f8'), ('X2_WORLD', '<f4'), ('Y2_WORLD', '<f4'), ('XY_WORLD', '<f4'), ('ERRX2_WORLD', '<f4'), ('ERRY2_WORLD', '<f4'), ('ERRXY_WORLD', '<f4'), ('CXX_WORLD', '<f4'), ('CYY_WORLD', '<f4'), ('CXY_WORLD', '<f4'), ('ERRCXX_WORLD', '<f4'), ('ERRCYY_WORLD', '<f4'), ('ERRCXY_WORLD', '<f4'), ('A_IMAGE', '<f8'), ('B_IMAGE', '<f8'), ('ERRA_IMAGE', '<f4'), ('ERRB_IMAGE', '<f4'), ('S_ELLIPTICITY', '<f4'), ('S_ELONGATION', '<f4'), ('ALPHA_J2000', '<f8'), ('DELTA_J2000', '<f8'), ('SG2DPHOT', '<i2'), ('HTM', '<i4'), ('FIELD_POS', '<i2'), ('EXTINCTION_Z', '<f4'), ('EXTINCTION_Y', '<f4'), ('EXTINCTION_J', '<f4'), ('EXTINCTION_H', '<f4'), ('EXTINCTION_Ks', '<f4'), ('MAG_GAAP_u', '<f4'), ('MAGERR_GAAP_u', '<f4'), ('FLUX_GAAP_u', '<f4'), ('FLUXERR_GAAP_u', '<f4'), ('FLAG_GAAP_u', '<i2'), ('MAG_GAAP_g', '<f4'), ('MAGERR_GAAP_g', '<f4'), ('FLUX_GAAP_g', '<f4'), ('FLUXERR_GAAP_g', '<f4'), ('FLAG_GAAP_g', '<i2'), ('MAG_GAAP_r', '<f4'), ('MAGERR_GAAP_r', '<f4'), ('FLUX_GAAP_r', '<f4'), ('FLUXERR_GAAP_r', '<f4'), ('FLAG_GAAP_r', '<i2'), ('MAG_GAAP_i', '<f4'), ('MAGERR_GAAP_i', '<f4'), ('FLUX_GAAP_i', '<f4'), ('FLUXERR_GAAP_i', '<f4'), ('FLAG_GAAP_i', '<i2'), ('MAG_GAAP_Z', '<f4'), ('MAGERR_GAAP_Z', '<f4'), ('FLUX_GAAP_Z', '<f4'), ('FLUXERR_GAAP_Z', '<f4'), ('FLAG_GAAP_Z', '<i2'), ('MAG_GAAP_Y', '<f4'), ('MAGERR_GAAP_Y', '<f4'), ('FLUX_GAAP_Y', '<f4'), ('FLUXERR_GAAP_Y', '<f4'), ('FLAG_GAAP_Y', '<i2'), ('MAG_GAAP_J', '<f4'), ('MAGERR_GAAP_J', '<f4'), ('FLUX_GAAP_J', '<f4'), ('FLUXERR_GAAP_J', '<f4'), ('FLAG_GAAP_J', '<i2'), ('MAG_GAAP_H', '<f4'), ('MAGERR_GAAP_H', '<f4'), ('FLUX_GAAP_H', '<f4'), ('FLUXERR_GAAP_H', '<f4'), ('FLAG_GAAP_H', '<i2'), ('MAG_GAAP_Ks', '<f4'), ('MAGERR_GAAP_Ks', '<f4'), ('FLUX_GAAP_Ks', '<f4'), ('FLUXERR_GAAP_Ks', '<f4'), ('FLAG_GAAP_Ks', '<i2'), ('Agaper', '<f4'), ('Bgaper', '<f4'), ('MAG_LIM_u', '<f4'), ('MAG_LIM_g', '<f4'), ('MAG_LIM_r', '<f4'), ('MAG_LIM_i', '<f4'), ('MAG_LIM_Z', '<f4'), ('MAG_LIM_Y', '<f4'), ('MAG_LIM_J', '<f4'), ('MAG_LIM_H', '<f4'), ('MAG_LIM_Ks', '<f4'), ('Z_B', '<f8'), ('Z_B_MIN', '<f8'), ('Z_B_MAX', '<f8'), ('T_B', '<f8'), ('ODDS', '<f8'), ('Z_ML', '<f8'), ('T_ML', '<f8'), ('CHI_SQUARED_BPZ', '<f8'), ('M_0', '<f8'), ('BPZ_FILT', '<i4'), ('NBPZ_FILT', '<i4'), ('BPZ_NONDETFILT', '<i4'), ('NBPZ_NONDETFILT', '<i4'), ('BPZ_FLAGFILT', '<i4'), ('NBPZ_FLAGFILT', '<i4'), ('SG_FLAG', '<f4'), ('MASK', '<i4'), ('THELI_NAME', 'S16'), ('fitclass', '<i2'), ('bias_corrected_scalelength_pixels', '<f4'), ('bulge_fraction', '<f4'), ('model_flux', '<f4'), ('pixel_SNratio', '<f4'), ('model_SNratio', '<f4'), ('contamination_radius', '<f4'), ('PSF_e1', '<f4'), ('PSF_e2', '<f4'), ('PSF_Strehl_ratio', '<f4'), ('PSF_Q11', '<f4'), ('PSF_Q22', '<f4'), ('PSF_Q12', '<f4'), ('star_galaxy_f_probability', '<f4'), ('r_correction', '<f4'), ('2D_measurement_variance', '<f4'), ('mean_likelihood_e', '<f4'), ('neighbour_mag', '<f4'), ('neighbour_distance', '<f4'), ('catmag', '<f4'), ('n_exposures_used', '<f4'), ('cat_ID', '<i4'), ('delta_SNR', '<f4'), ('PSF_e1_exp1', '<f4'), ('PSF_e2_exp1', '<f4'), ('PSF_e1_exp2', '<f4'), ('PSF_e2_exp2', '<f4'), ('PSF_e1_exp3', '<f4'), ('PSF_e2_exp3', '<f4'), ('PSF_e1_exp4', '<f4'), ('PSF_e2_exp4', '<f4'), ('PSF_e1_exp5', '<f4'), ('PSF_e2_exp5', '<f4'), ('SeqNr_field', '<i4'), ('THELI_INT', '<i2'), ('e1', '<f4'), ('e2', '<f4'), ('weight', '<f4')]"
     ]
    }
   ],
   "source": [
    "#KiDS1000__0_map = KiDS1000__0.get_signal_map()\n",
    "KiDS1000__1_map = KiDS1000__1.get_signal_map()\n",
    "#KiDS1000__2_map = KiDS1000__2.get_signal_map()\n",
    "#KiDS1000__3_map = KiDS1000__3.get_signal_map()\n",
    "#KiDS1000__4_map = KiDS1000__4.get_signal_map()"
   ]
  },
  {
   "cell_type": "code",
   "execution_count": 5,
   "metadata": {},
   "outputs": [],
   "source": [
    "QSO_0 = data.get_mapper(\"SDSS__QSO0\")\n",
    "QSO_1 = data.get_mapper(\"SDSS__QSO1\")\n",
    "LRG = data.get_mapper(\"SDSS__LRG\")\n",
    "ELG = data.get_mapper(\"SDSS__ELG\")"
   ]
  },
  {
   "cell_type": "code",
   "execution_count": 6,
   "metadata": {},
   "outputs": [
    {
     "name": "stderr",
     "output_type": "stream",
     "text": [
      "setting the output map dtype to [dtype('float64')]\n"
     ]
    },
    {
     "name": "stdout",
     "output_type": "stream",
     "text": [
      "Saving ../reruns/mask_mask_QSO_0_coordC_ns512.fits.gz\n"
     ]
    },
    {
     "name": "stderr",
     "output_type": "stream",
     "text": [
      "setting the output map dtype to [dtype('float64')]\n"
     ]
    },
    {
     "name": "stdout",
     "output_type": "stream",
     "text": [
      "Saving ../reruns/SDSS_QSO_0_signal_map_coordC_ns512.fits.gz\n"
     ]
    },
    {
     "name": "stderr",
     "output_type": "stream",
     "text": [
      "setting the output map dtype to [dtype('float64')]\n"
     ]
    },
    {
     "name": "stdout",
     "output_type": "stream",
     "text": [
      "Saving ../reruns/mask_mask_QSO_1_coordC_ns512.fits.gz\n"
     ]
    },
    {
     "name": "stderr",
     "output_type": "stream",
     "text": [
      "setting the output map dtype to [dtype('float64')]\n"
     ]
    },
    {
     "name": "stdout",
     "output_type": "stream",
     "text": [
      "Saving ../reruns/SDSS_QSO_1_signal_map_coordC_ns512.fits.gz\n"
     ]
    },
    {
     "name": "stderr",
     "output_type": "stream",
     "text": [
      "setting the output map dtype to [dtype('float64')]\n"
     ]
    },
    {
     "name": "stdout",
     "output_type": "stream",
     "text": [
      "Saving ../reruns/mask_mask_LRG_coordC_ns512.fits.gz\n"
     ]
    },
    {
     "name": "stderr",
     "output_type": "stream",
     "text": [
      "setting the output map dtype to [dtype('float64')]\n"
     ]
    },
    {
     "name": "stdout",
     "output_type": "stream",
     "text": [
      "Saving ../reruns/SDSS_LRG_signal_map_coordC_ns512.fits.gz\n"
     ]
    },
    {
     "name": "stderr",
     "output_type": "stream",
     "text": [
      "setting the output map dtype to [dtype('float64')]\n",
      "setting the output map dtype to [dtype('float64')]\n"
     ]
    },
    {
     "name": "stdout",
     "output_type": "stream",
     "text": [
      "Saving ../reruns/mask_mask_ELG_coordC_ns512.fits.gz\n",
      "Saving ../reruns/SDSS_ELG_signal_map_coordC_ns512.fits.gz\n"
     ]
    }
   ],
   "source": [
    "QSO_0_map = QSO_0.get_signal_map()\n",
    "QSO_1_map = QSO_1.get_signal_map()\n",
    "LRG_map = LRG.get_signal_map()\n",
    "ELG_map = ELG.get_signal_map()"
   ]
  },
  {
   "cell_type": "code",
   "execution_count": null,
   "metadata": {},
   "outputs": [],
   "source": [
    "hp.visufunc.mollview(map=np.array(KiDS1000__1_map)[0])"
   ]
  },
  {
   "cell_type": "code",
   "execution_count": null,
   "metadata": {},
   "outputs": [],
   "source": [
    "hp.visufunc.mollview(map=np.array(QSO_0_map)[0])"
   ]
  },
  {
   "cell_type": "code",
   "execution_count": null,
   "metadata": {},
   "outputs": [],
   "source": [
    "hp.visufunc.mollview(map=np.array(QSO_1_map)[0])"
   ]
  },
  {
   "cell_type": "code",
   "execution_count": null,
   "metadata": {},
   "outputs": [],
   "source": [
    "hp.visufunc.mollview(map=np.array(LRG_map)[0])"
   ]
  },
  {
   "cell_type": "code",
   "execution_count": null,
   "metadata": {},
   "outputs": [],
   "source": [
    "hp.visufunc.mollview(map=np.array(ELG_map)[0])"
   ]
  },
  {
   "cell_type": "markdown",
   "metadata": {},
   "source": [
    "### Cl's"
   ]
  },
  {
   "cell_type": "code",
   "execution_count": null,
   "metadata": {},
   "outputs": [],
   "source": [
    "cl_K1K1_QSO0 = Cl(data.data, \"KiDS1000__3\", \"SDSS__QSO0\")\n",
    "cl_K1k1_QSO1 = Cl(data.data, \"KiDS1000__3\", \"SDSS__QSO1\")\n",
    "cl_K1K1_LRG = Cl(data.data, \"KiDS1000__3\", \"SDSS__LRG\")\n",
    "cl_K1K1_ELG = Cl(data.data, \"KiDS1000__3\", \"SDSS__ELG\")\n",
    "\n",
    "cl_K1K1_QSO0 = cl_K1K1_QSO0.get_ell_cl()\n",
    "cl_K1K1_QSO1 = cl_K1k1_QSO1.get_ell_cl()\n",
    "cl_K1K1_LRG = cl_K1K1_LRG.get_ell_cl()\n",
    "cl_K1K1_ELG = cl_K1K1_ELG.get_ell_cl()"
   ]
  },
  {
   "cell_type": "markdown",
   "metadata": {},
   "source": [
    "### Covariance Matrix"
   ]
  },
  {
   "cell_type": "code",
   "execution_count": null,
   "metadata": {},
   "outputs": [],
   "source": [
    "cov_K1K1_K1K1_QSO0_QSO0 = Cov(data.data, \"KiDS1000__3\", \"KiDS1000__3\", \"SDSS__QSO0\", \"SDSS__QSO0\")\n",
    "cov_K1K1_K1K1_QSO1_QSO1 = Cov(data.data, \"KiDS1000__3\", \"KiDS1000__3\", \"SDSS__QSO1\", \"SDSS__QSO1\")\n",
    "cov_K1K1_K1K1_LRG_LRG = Cov(data.data, \"KiDS1000__3\", \"KiDS1000__3\", \"SDSS__LRG\", \"SDSS__LRG\")\n",
    "cov_K1K1_K1K1_ELG_ELG = Cov(data.data, \"KiDS1000__3\", \"KiDS1000__3\", \"SDSS__ELG\", \"SDSS__ELG\")\n",
    "\n",
    "cov_K1K1_K1K1_QSO0_QSO0 = cov_K1K1_K1K1_QSO0_QSO0.get_covariance()\n",
    "cov_K1K1_K1K1_QSO1_QSO1 = cov_K1K1_K1K1_QSO1_QSO1.get_covariance()\n",
    "cov_K1K1_K1K1_LRG_LRG = cov_K1K1_K1K1_LRG_LRG.get_covariance()\n",
    "cov_K1K1_K1K1_ELG_ELG = cov_K1K1_K1K1_ELG_ELG.get_covariance()"
   ]
  },
  {
   "cell_type": "code",
   "execution_count": null,
   "metadata": {},
   "outputs": [],
   "source": [
    "err_K1K1_QSO0 = np.sqrt(np.diag(cov_K1K1_K1K1_QSO0_QSO0))\n",
    "err_K1K1_QSO1 = np.sqrt(np.diag(cov_K1K1_K1K1_QSO1_QSO1))\n",
    "err_K1K1_LRG = np.sqrt(np.diag(cov_K1K1_K1K1_LRG_LRG))\n",
    "err_K1K1_ELG = np.sqrt(np.diag(cov_K1K1_K1K1_ELG_ELG))"
   ]
  },
  {
   "cell_type": "markdown",
   "metadata": {},
   "source": [
    "### Theory Cl's"
   ]
  },
  {
   "cell_type": "code",
   "execution_count": null,
   "metadata": {},
   "outputs": [],
   "source": [
    "cosmo = ccl.Cosmology(Omega_c=0.27, Omega_b=0.049, h=0.67, sigma8=0.81, n_s=0.96)\n",
    "\n",
    "QSO_0_nz = QSO_0.get_nz()\n",
    "QSO_1_nz = QSO_1.get_nz()\n",
    "LRG_nz = LRG.get_nz()\n",
    "ELG_nz = ELG.get_nz()\n",
    "\n",
    "QSO_0_z = QSO_0_nz[0]\n",
    "QSO_0_dNdz = QSO_0_nz[1]\n",
    "QSO_1_z = QSO_1_nz[0]\n",
    "QSO_1_dNdz = QSO_1_nz[1]\n",
    "LRG_z = LRG_nz[0]\n",
    "LRG_dNdz = LRG_nz[1]\n",
    "ELG_z = ELG_nz[0]\n",
    "ELG_dNdz = ELG_nz[1]\n",
    "\n",
    "b_QSO_0 = data.data[\"tracers\"][\"SDSS__QSO0\"][\"bias\"]*np.ones(len(QSO_0_z))\n",
    "b_QSO_1 = data.data[\"tracers\"][\"SDSS__QSO1\"][\"bias\"]*np.ones(len(QSO_1_z))\n",
    "b_LRG = data.data[\"tracers\"][\"SDSS__LRG\"][\"bias\"]*np.ones(len(LRG_z))\n",
    "b_ELG = data.data[\"tracers\"][\"SDSS__ELG\"][\"bias\"]*np.ones(len(ELG_z))\n",
    "\n",
    "tracer_QSO0 = ccl.NumberCountsTracer(cosmo, has_rsd=False, dndz=(QSO_0_z, QSO_0_dNdz), bias=(QSO_0_z, b_QSO_0))\n",
    "tracer_QSO1 = ccl.NumberCountsTracer(cosmo, has_rsd=False, dndz=(QSO_1_z, QSO_1_dNdz), bias=(QSO_1_z, b_QSO_1))\n",
    "tracer_LRG = ccl.NumberCountsTracer(cosmo, has_rsd=False, dndz=(LRG_z, LRG_dNdz), bias=(LRG_z, b_LRG))\n",
    "tracer_ELG = ccl.NumberCountsTracer(cosmo, has_rsd=False, dndz=(ELG_z, ELG_dNdz), bias=(ELG_z, b_ELG))\n",
    "\n",
    "#KiDS1000__0_nz = KiDS1000__0.get_nz()\n",
    "KiDS1000__1_nz = KiDS1000__1.get_nz()\n",
    "#KiDS1000__2_nz = KiDS1000__2.get_nz()\n",
    "#KiDS1000__3_nz = KiDS1000__3.get_nz()\n",
    "#KiDS1000__4_nz = KiDS1000__4.get_nz()\n",
    "\n",
    "#KiDS1000__0_z, KiDS1000__0_dNdz = KiDS1000__0_nz[0], KiDS1000__0_nz[1]\n",
    "KiDS1000__1_z, KiDS1000__1_dNdz = KiDS1000__1_nz[0], KiDS1000__1_nz[1]\n",
    "#KiDS1000__2_z, KiDS1000__2_dNdz = KiDS1000__2_nz[0], KiDS1000__2_nz[1]\n",
    "#KiDS1000__3_z, KiDS1000__3_dNdz = KiDS1000__3_nz[0], KiDS1000__3_nz[1]\n",
    "#KiDS1000__4_z, KiDS1000__4_dNdz = KiDS1000__4_nz[0], KiDS1000__4_nz[1]\n",
    "\n",
    "#tracer_KiDS1000__0 = ccl.WeakLensingTracer(cosmo, has_shear=True, dndz=(KiDS1000__0_z, KiDS1000__0_dNdz))\n",
    "tracer_KiDS1000__1 = ccl.WeakLensingTracer(cosmo, has_shear=True, dndz=(KiDS1000__1_z, KiDS1000__1_dNdz))\n",
    "#tracer_KiDS1000__2 = ccl.WeakLensingTracer(cosmo, has_shear=True, dndz=(KiDS1000__2_z, KiDS1000__2_dNdz))\n",
    "#tracer_KiDS1000__3 = ccl.WeakLensingTracer(cosmo, has_shear=True, dndz=(KiDS1000__3_z, KiDS1000__3_dNdz))\n",
    "#tracer_KiDS1000__4 = ccl.WeakLensingTracer(cosmo, has_shear=True, dndz=(KiDS1000__4_z, KiDS1000__4_dNdz))\n",
    "\n",
    "clt_K1K1_QSO0 = ccl.angular_cl(cosmo, tracer_KiDS1000__1, tracer_QSO0, cl_K1K1_QSO0[0]) \n",
    "clt_K1K1_QSO1 = ccl.angular_cl(cosmo, tracer_KiDS1000__1, tracer_QSO1, cl_K1K1_QSO1[0]) \n",
    "clt_K1K1_LRG = ccl.angular_cl(cosmo, tracer_KiDS1000__1, tracer_LRG, cl_K1K1_LRG[0])  \n",
    "clt_K1K1_ELG = ccl.angular_cl(cosmo, tracer_KiDS1000__1, tracer_ELG, cl_K1K1_ELG[0]) "
   ]
  },
  {
   "cell_type": "markdown",
   "metadata": {},
   "source": [
    "### Comparison"
   ]
  },
  {
   "cell_type": "code",
   "execution_count": null,
   "metadata": {},
   "outputs": [],
   "source": [
    "plt.plot(ELG_z, ELG_dNdz/np.max(ELG_dNdz), label='ELG')\n",
    "plt.plot(LRG_z, LRG_dNdz/np.max(LRG_dNdz), label='LRG')\n",
    "plt.plot(KiDS1000__1_z, KiDS1000__1_dNdz/np.max(KiDS1000__1_dNdz), label='KiDS1000')\n",
    "plt.legend()\n",
    "plt.show()"
   ]
  },
  {
   "cell_type": "code",
   "execution_count": null,
   "metadata": {},
   "outputs": [],
   "source": [
    "plt.plot(QSO_0_z, QSO_0_dNdz/np.max(QSO_0_dNdz), label='QSO_0')\n",
    "plt.plot(QSO_1_z, QSO_1_dNdz/np.max(QSO_1_dNdz), label='QSO_1')\n",
    "plt.plot(KiDS1000__1_z, KiDS1000__1_dNdz/np.max(KiDS1000__1_dNdz), label='KiDS1000')\n",
    "plt.legend()\n",
    "plt.show()"
   ]
  },
  {
   "cell_type": "code",
   "execution_count": null,
   "metadata": {},
   "outputs": [],
   "source": [
    "plt.errorbar(cl_QSO0_QSO0[0], cl_QSO0_QSO0[1][0], yerr=err_QSO0_QSO0, fmt='o-', label='data')\n",
    "plt.plot(cl_QSO0_QSO0[0], clt_QSO0_QSO0, 'o-', label='theory')\n",
    "plt.title('QSO0-QSO0')\n",
    "plt.xlabel('$\\\\ell$', fontsize=16)\n",
    "plt.ylabel('$C_\\\\ell$', fontsize=16)\n",
    "plt.legend(loc='lower left', ncol=2, labelspacing=0.1)\n",
    "plt.xscale(\"log\")\n",
    "plt.yscale(\"log\")\n",
    "plt.show()"
   ]
  },
  {
   "cell_type": "code",
   "execution_count": null,
   "metadata": {},
   "outputs": [],
   "source": [
    "plt.errorbar(cl_QSO1_QSO1[0], cl_QSO1_QSO1[1][0], yerr=err_QSO1_QSO1, fmt='o-', label='data')\n",
    "plt.plot(cl_QSO1_QSO1[0], clt_QSO1_QSO1, 'o-', label='theory')\n",
    "plt.title('QSO1-QSO1')\n",
    "plt.xlabel('$\\\\ell$', fontsize=16)\n",
    "plt.ylabel('$C_\\\\ell$', fontsize=16)\n",
    "plt.legend(loc='lower left', ncol=2, labelspacing=0.1)\n",
    "plt.xscale(\"log\")\n",
    "plt.yscale(\"log\")\n",
    "plt.show()"
   ]
  },
  {
   "cell_type": "code",
   "execution_count": null,
   "metadata": {},
   "outputs": [],
   "source": [
    "plt.errorbar(cl_LRG_LRG[0], cl_LRG_LRG[1][0], yerr=err_LRG_LRG, fmt='o-', label='data')\n",
    "plt.plot(cl_LRG_LRG[0], clt_LRG_LRG, 'o-', label='theory')\n",
    "plt.title('LRG-LRG')\n",
    "plt.xlabel('$\\\\ell$', fontsize=16)\n",
    "plt.ylabel('$C_\\\\ell$', fontsize=16)\n",
    "plt.legend(loc='lower left', ncol=2, labelspacing=0.1)\n",
    "plt.xscale(\"log\")\n",
    "plt.yscale(\"log\")\n",
    "plt.show()"
   ]
  },
  {
   "cell_type": "code",
   "execution_count": null,
   "metadata": {},
   "outputs": [],
   "source": [
    "plt.errorbar(cl_ELG_ELG[0], cl_ELG_ELG[1][0], yerr=err_ELG_ELG, fmt='o-', label='data')\n",
    "plt.plot(cl_ELG_ELG[0], clt_ELG_ELG, 'o-', label='theory')\n",
    "plt.title('ELG-ELG')\n",
    "plt.xlabel('$\\\\ell$', fontsize=16)\n",
    "plt.ylabel('$C_\\\\ell$', fontsize=16)\n",
    "plt.legend(loc='lower left', ncol=2, labelspacing=0.1)\n",
    "plt.xscale(\"log\")\n",
    "plt.yscale(\"log\")\n",
    "plt.show()"
   ]
  },
  {
   "cell_type": "code",
   "execution_count": null,
   "metadata": {},
   "outputs": [],
   "source": [
    "SDSS_QSO0 = {\n",
    "    \"nz\": QSO_0_nz,\n",
    "    \"cl\": cl_QSO0_QSO0,\n",
    "    \"err\": err_QSO0_QSO0,\n",
    "    }\n",
    "SDSS_QSO1 = {\n",
    "    \"nz\": QSO_1_nz,\n",
    "    \"cl\": cl_QSO1_QSO1,\n",
    "    \"err\": err_QSO1_QSO1,\n",
    "    }\n",
    "SDSS_LRG = {\n",
    "    \"nz\": LRG_nz,\n",
    "    \"cl\": cl_LRG_LRG,\n",
    "    \"err\": err_LRG_LRG,\n",
    "    }\n",
    "SDSS_ELG = {\n",
    "    \"nz\": ELG_nz,\n",
    "    \"cl\": cl_ELG_ELG,\n",
    "    \"err\": err_ELG_ELG,\n",
    "    }"
   ]
  },
  {
   "cell_type": "code",
   "execution_count": null,
   "metadata": {},
   "outputs": [],
   "source": [
    "np.savez(\"../results/SDSS_QSO0\", SDSS_QSO0)\n",
    "np.savez(\"../results/SDSS_QSO1\", SDSS_QSO1)\n",
    "np.savez(\"../results/SDSS_LRG\", SDSS_LRG)\n",
    "np.savez(\"../results/SDSS_ELG\", SDSS_ELG)"
   ]
  },
  {
   "cell_type": "code",
   "execution_count": null,
   "metadata": {},
   "outputs": [],
   "source": [
    "import shutil\n",
    "shutil.rmtree(\"../reruns/\")"
   ]
  },
  {
   "cell_type": "code",
   "execution_count": null,
   "metadata": {},
   "outputs": [],
   "source": []
  }
 ],
 "metadata": {
  "kernelspec": {
   "display_name": "tutorials",
   "language": "python",
   "name": "python3"
  },
  "language_info": {
   "codemirror_mode": {
    "name": "ipython",
    "version": 3
   },
   "file_extension": ".py",
   "mimetype": "text/x-python",
   "name": "python",
   "nbconvert_exporter": "python",
   "pygments_lexer": "ipython3",
   "version": "3.9.17"
  }
 },
 "nbformat": 4,
 "nbformat_minor": 4
}
