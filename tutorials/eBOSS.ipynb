{
 "cells": [
  {
   "cell_type": "markdown",
   "metadata": {},
   "source": [
    "# eBOSS"
   ]
  },
  {
   "cell_type": "markdown",
   "metadata": {},
   "source": [
    "### Imports"
   ]
  },
  {
   "cell_type": "code",
   "execution_count": null,
   "metadata": {},
   "outputs": [],
   "source": [
    "# some_file.py\n",
    "import sys\n",
    "import yaml\n",
    "# insert at 1, 0 is the script path (or '' in REPL)\n",
    "\n",
    "sys.path.insert(1, '/home/jaimerz/PhD/xCell')\n",
    "\n",
    "from xcell.mappers import MappereBOSS\n",
    "from xcell.mappers import utils\n",
    "from xcell.cls.data import Data\n",
    "from xcell.cls.cl import Cl\n",
    "from xcell.cls.cov import Cov\n",
    "from astropy.io import fits\n",
    "from astropy.table import Table\n",
    "import pyccl as ccl\n",
    "import numpy as np\n",
    "import pylab as plt\n",
    "import pymaster as nmt\n",
    "import healpy as hp\n",
    "import numpy as np"
   ]
  },
  {
   "cell_type": "markdown",
   "metadata": {},
   "source": [
    "### Configurations"
   ]
  },
  {
   "cell_type": "code",
   "execution_count": null,
   "metadata": {},
   "outputs": [],
   "source": [
    "data = Data(data_path=\"../config_files/master.yml\")"
   ]
  },
  {
   "cell_type": "markdown",
   "metadata": {},
   "source": [
    "### Mappers"
   ]
  },
  {
   "cell_type": "code",
   "execution_count": null,
   "metadata": {},
   "outputs": [],
   "source": [
    "QSO_0 = data.get_mapper(\"SDSS__QSO0\")\n",
    "QSO_1 = data.get_mapper(\"SDSS__QSO1\")\n",
    "LRG = data.get_mapper(\"SDSS__LRG\")\n",
    "ELG = data.get_mapper(\"SDSS__ELG\")"
   ]
  },
  {
   "cell_type": "code",
   "execution_count": null,
   "metadata": {},
   "outputs": [],
   "source": [
    "QSO_0_map = QSO_0.get_signal_map()\n",
    "QSO_1_map = QSO_1.get_signal_map()\n",
    "LRG_map = LRG.get_signal_map()\n",
    "ELG_map = ELG.get_signal_map()"
   ]
  },
  {
   "cell_type": "code",
   "execution_count": null,
   "metadata": {},
   "outputs": [],
   "source": [
    "hp.visufunc.mollview(map=np.array(QSO_0_map)[0])"
   ]
  },
  {
   "cell_type": "code",
   "execution_count": null,
   "metadata": {},
   "outputs": [],
   "source": [
    "hp.visufunc.mollview(map=np.array(QSO_1_map)[0])"
   ]
  },
  {
   "cell_type": "code",
   "execution_count": null,
   "metadata": {},
   "outputs": [],
   "source": [
    "hp.visufunc.mollview(map=np.array(LRG_map)[0])"
   ]
  },
  {
   "cell_type": "code",
   "execution_count": null,
   "metadata": {},
   "outputs": [],
   "source": [
    "hp.visufunc.mollview(map=np.array(ELG_map)[0])"
   ]
  },
  {
   "cell_type": "markdown",
   "metadata": {},
   "source": [
    "### Cl's"
   ]
  },
  {
   "cell_type": "code",
   "execution_count": null,
   "metadata": {},
   "outputs": [],
   "source": [
    "cl_QSO0_QSO0 = Cl(data.data, \"SDSS__QSO0\", \"SDSS__QSO0\")\n",
    "cl_QSO1_QSO1 = Cl(data.data, \"SDSS__QSO1\", \"SDSS__QSO1\")\n",
    "cl_LRG_LRG = Cl(data.data, \"SDSS__LRG\", \"SDSS__LRG\")\n",
    "cl_ELG_ELG = Cl(data.data, \"SDSS__ELG\", \"SDSS__ELG\")\n",
    "\n",
    "cl_QSO0_QSO0 = cl_QSO0_QSO0.get_ell_cl()\n",
    "cl_QSO1_QSO1 = cl_QSO1_QSO1.get_ell_cl()\n",
    "cl_LRG_LRG = cl_LRG_LRG.get_ell_cl()\n",
    "cl_ELG_ELG = cl_ELG_ELG.get_ell_cl()"
   ]
  },
  {
   "cell_type": "markdown",
   "metadata": {},
   "source": [
    "### Covariance Matrix"
   ]
  },
  {
   "cell_type": "code",
   "execution_count": null,
   "metadata": {},
   "outputs": [],
   "source": [
    "cov_QSO0_QSO0_QSO0_QSO0 = Cov(data.data, \"SDSS__QSO0\", \"SDSS__QSO0\", \"SDSS__QSO0\", \"SDSS__QSO0\")\n",
    "cov_QSO1_QSO1_QSO1_QSO1 = Cov(data.data, \"SDSS__QSO1\", \"SDSS__QSO1\", \"SDSS__QSO1\", \"SDSS__QSO1\")\n",
    "cov_LRG_LRG_LRG_LRG = Cov(data.data, \"SDSS__LRG\", \"SDSS__LRG\", \"SDSS__LRG\", \"SDSS__LRG\")\n",
    "cov_ELG_ELG_ELG_ELG = Cov(data.data, \"SDSS__ELG\", \"SDSS__ELG\", \"SDSS__ELG\", \"SDSS__ELG\")\n",
    "\n",
    "cov_QSO0_QSO0_QSO0_QSO0 = cov_QSO0_QSO0_QSO0_QSO0.get_covariance()\n",
    "cov_QSO1_QSO1_QSO1_QSO1 = cov_QSO1_QSO1_QSO1_QSO1.get_covariance()\n",
    "cov_LRG_LRG_LRG_LRG = cov_LRG_LRG_LRG_LRG.get_covariance()\n",
    "cov_ELG_ELG_ELG_ELG = cov_ELG_ELG_ELG_ELG.get_covariance()"
   ]
  },
  {
   "cell_type": "code",
   "execution_count": null,
   "metadata": {},
   "outputs": [],
   "source": [
    "err_QSO0_QSO0 = np.sqrt(np.diag(cov_QSO0_QSO0_QSO0_QSO0))\n",
    "err_QSO1_QSO1 = np.sqrt(np.diag(cov_QSO1_QSO1_QSO1_QSO1))\n",
    "err_LRG_LRG = np.sqrt(np.diag(cov_LRG_LRG_LRG_LRG))\n",
    "err_ELG_ELG = np.sqrt(np.diag(cov_ELG_ELG_ELG_ELG))"
   ]
  },
  {
   "cell_type": "markdown",
   "metadata": {},
   "source": [
    "### Theory Cl's"
   ]
  },
  {
   "cell_type": "code",
   "execution_count": null,
   "metadata": {},
   "outputs": [],
   "source": [
    "cosmo = ccl.Cosmology(Omega_c=0.27, Omega_b=0.049, h=0.67, sigma8=0.81, n_s=0.96)\n",
    "\n",
    "QSO_0_nz = QSO_0.get_nz()\n",
    "QSO_1_nz = QSO_1.get_nz()\n",
    "LRG_nz = LRG.get_nz()\n",
    "ELG_nz = ELG.get_nz()\n",
    "\n",
    "QSO_0_z = QSO_0_nz[0]\n",
    "QSO_0_dNdz = QSO_0_nz[1]\n",
    "QSO_1_z = QSO_1_nz[0]\n",
    "QSO_1_dNdz = QSO_1_nz[1]\n",
    "LRG_z = LRG_nz[0]\n",
    "LRG_dNdz = LRG_nz[1]\n",
    "ELG_z = ELG_nz[0]\n",
    "ELG_dNdz = ELG_nz[1]\n",
    "\n",
    "b_QSO_0 = data.data[\"tracers\"][\"SDSS__QSO0\"][\"bias\"]*np.ones(len(QSO_0_z))\n",
    "b_QSO_1 = data.data[\"tracers\"][\"SDSS__QSO1\"][\"bias\"]*np.ones(len(QSO_1_z))\n",
    "b_LRG = data.data[\"tracers\"][\"SDSS__LRG\"][\"bias\"]*np.ones(len(LRG_z))\n",
    "b_ELG = data.data[\"tracers\"][\"SDSS__ELG\"][\"bias\"]*np.ones(len(ELG_z))\n",
    "\n",
    "tracer_QSO0 = ccl.NumberCountsTracer(cosmo, has_rsd=False, dndz=(QSO_0_z, QSO_0_dNdz), bias=(QSO_0_z, b_QSO_0))\n",
    "tracer_QSO1 = ccl.NumberCountsTracer(cosmo, has_rsd=False, dndz=(QSO_1_z, QSO_1_dNdz), bias=(QSO_1_z, b_QSO_1))\n",
    "tracer_LRG = ccl.NumberCountsTracer(cosmo, has_rsd=False, dndz=(LRG_z, LRG_dNdz), bias=(LRG_z, b_LRG))\n",
    "tracer_ELG = ccl.NumberCountsTracer(cosmo, has_rsd=False, dndz=(ELG_z, ELG_dNdz), bias=(ELG_z, b_ELG))\n",
    "\n",
    "clt_QSO0_QSO0 = ccl.angular_cl(cosmo, tracer_QSO0, tracer_QSO0, cl_QSO0_QSO0[0]) \n",
    "clt_QSO1_QSO1 = ccl.angular_cl(cosmo, tracer_QSO1, tracer_QSO1, cl_QSO1_QSO1[0]) \n",
    "clt_LRG_LRG = ccl.angular_cl(cosmo, tracer_LRG, tracer_LRG, cl_LRG_LRG[0])  \n",
    "clt_ELG_ELG = ccl.angular_cl(cosmo, tracer_ELG, tracer_ELG, cl_ELG_ELG[0]) "
   ]
  },
  {
   "cell_type": "markdown",
   "metadata": {},
   "source": [
    "### Comparison"
   ]
  },
  {
   "cell_type": "code",
   "execution_count": null,
   "metadata": {},
   "outputs": [],
   "source": [
    "plt.plot(ELG_z, ELG_dNdz, label='ELG')\n",
    "plt.plot(LRG_z, LRG_dNdz, label='LRG')\n",
    "plt.legend()\n",
    "plt.show()"
   ]
  },
  {
   "cell_type": "code",
   "execution_count": null,
   "metadata": {},
   "outputs": [],
   "source": [
    "plt.plot(QSO_0_z, QSO_0_dNdz, label='QSO_0')\n",
    "plt.plot(QSO_1_z, QSO_1_dNdz, label='QSO_1')\n",
    "plt.legend()\n",
    "plt.show()"
   ]
  },
  {
   "cell_type": "code",
   "execution_count": null,
   "metadata": {},
   "outputs": [],
   "source": [
    "plt.errorbar(cl_QSO0_QSO0[0], cl_QSO0_QSO0[1][0], yerr=err_QSO0_QSO0, fmt='o-', label='data')\n",
    "plt.plot(cl_QSO0_QSO0[0], clt_QSO0_QSO0, 'o-', label='theory')\n",
    "plt.title('QSO0-QSO0')\n",
    "plt.xlabel('$\\\\ell$', fontsize=16)\n",
    "plt.ylabel('$C_\\\\ell$', fontsize=16)\n",
    "plt.legend(loc='lower left', ncol=2, labelspacing=0.1)\n",
    "plt.xscale(\"log\")\n",
    "plt.yscale(\"log\")\n",
    "plt.show()"
   ]
  },
  {
   "cell_type": "code",
   "execution_count": null,
   "metadata": {},
   "outputs": [],
   "source": [
    "plt.errorbar(cl_QSO1_QSO1[0], cl_QSO1_QSO1[1][0], yerr=err_QSO1_QSO1, fmt='o-', label='data')\n",
    "plt.plot(cl_QSO1_QSO1[0], clt_QSO1_QSO1, 'o-', label='theory')\n",
    "plt.title('QSO1-QSO1')\n",
    "plt.xlabel('$\\\\ell$', fontsize=16)\n",
    "plt.ylabel('$C_\\\\ell$', fontsize=16)\n",
    "plt.legend(loc='lower left', ncol=2, labelspacing=0.1)\n",
    "plt.xscale(\"log\")\n",
    "plt.yscale(\"log\")\n",
    "plt.show()"
   ]
  },
  {
   "cell_type": "code",
   "execution_count": null,
   "metadata": {},
   "outputs": [],
   "source": [
    "plt.errorbar(cl_LRG_LRG[0], cl_LRG_LRG[1][0], yerr=err_LRG_LRG, fmt='o-', label='data')\n",
    "plt.plot(cl_LRG_LRG[0], clt_LRG_LRG, 'o-', label='theory')\n",
    "plt.title('LRG-LRG')\n",
    "plt.xlabel('$\\\\ell$', fontsize=16)\n",
    "plt.ylabel('$C_\\\\ell$', fontsize=16)\n",
    "plt.legend(loc='lower left', ncol=2, labelspacing=0.1)\n",
    "plt.xscale(\"log\")\n",
    "plt.yscale(\"log\")\n",
    "plt.show()"
   ]
  },
  {
   "cell_type": "code",
   "execution_count": null,
   "metadata": {},
   "outputs": [],
   "source": [
    "plt.errorbar(cl_ELG_ELG[0], cl_ELG_ELG[1][0], yerr=err_ELG_ELG, fmt='o-', label='data')\n",
    "plt.plot(cl_ELG_ELG[0], clt_ELG_ELG, 'o-', label='theory')\n",
    "plt.title('ELG-ELG')\n",
    "plt.xlabel('$\\\\ell$', fontsize=16)\n",
    "plt.ylabel('$C_\\\\ell$', fontsize=16)\n",
    "plt.legend(loc='lower left', ncol=2, labelspacing=0.1)\n",
    "plt.xscale(\"log\")\n",
    "plt.yscale(\"log\")\n",
    "plt.show()"
   ]
  },
  {
   "cell_type": "code",
   "execution_count": null,
   "metadata": {},
   "outputs": [],
   "source": [
    "SDSS_QSO0 = {\n",
    "    \"nz\": QSO0_nz,\n",
    "    \"cl\": cl_QSO0_QSO0,\n",
    "    \"err\": err_QSO0_QSO0,\n",
    "    }\n",
    "SDSS_QSO1 = {\n",
    "    \"nz\": QSO1_nz,\n",
    "    \"cl\": cl_QSO1_QSO1,\n",
    "    \"err\": err_QSO1_QSO1,\n",
    "    }\n",
    "SDSS_LRG = {\n",
    "    \"nz\": LRG_nz,\n",
    "    \"cl\": cl_LRG_LRG,\n",
    "    \"err\": err_LRG_LRG,\n",
    "    }\n",
    "SDSS_ELG = {\n",
    "    \"nz\": ELG_nz,\n",
    "    \"cl\": cl_ELG_ELG,\n",
    "    \"err\": err_ELG_ELG,\n",
    "    }"
   ]
  },
  {
   "cell_type": "code",
   "execution_count": null,
   "metadata": {},
   "outputs": [],
   "source": [
    "np.savez(\"../results/SDSS_QSO0\", SDSS_QSO0)\n",
    "np.savez(\"../results/SDSS_QSO1\", SDSS_QSO1)\n",
    "np.savez(\"../results/SDSS_LRG\", SDSS_LRG)\n",
    "np.savez(\"../results/SDSS_ELG\", SDSS_ELG)"
   ]
  },
  {
   "cell_type": "code",
   "execution_count": null,
   "metadata": {},
   "outputs": [],
   "source": [
    "import shutil\n",
    "shutil.rmtree(\"../reruns/\")"
   ]
  },
  {
   "cell_type": "code",
   "execution_count": null,
   "metadata": {},
   "outputs": [],
   "source": []
  }
 ],
 "metadata": {
  "kernelspec": {
   "display_name": "Python 3",
   "language": "python",
   "name": "python3"
  },
  "language_info": {
   "codemirror_mode": {
    "name": "ipython",
    "version": 3
   },
   "file_extension": ".py",
   "mimetype": "text/x-python",
   "name": "python",
   "nbconvert_exporter": "python",
   "pygments_lexer": "ipython3",
   "version": "3.9.17"
  }
 },
 "nbformat": 4,
 "nbformat_minor": 4
}
