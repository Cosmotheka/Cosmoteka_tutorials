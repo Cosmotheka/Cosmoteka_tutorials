{
 "cells": [
  {
   "cell_type": "markdown",
   "metadata": {},
   "source": [
    "# BOSS x HSC"
   ]
  },
  {
   "cell_type": "markdown",
   "metadata": {},
   "source": [
    "### Imports"
   ]
  },
  {
   "cell_type": "code",
   "execution_count": 1,
   "metadata": {},
   "outputs": [],
   "source": [
    "# some_file.py\n",
    "import sys\n",
    "import yaml\n",
    "# insert at 1, 0 is the script path (or '' in REPL)\n",
    "\n",
    "sys.path.insert(1, '/home/jaimerz/PhD/Cosmotheka')\n",
    "\n",
    "from cosmotheka.mappers import MapperHSCDR1wl\n",
    "from cosmotheka.mappers import MapperBOSS\n",
    "from cosmotheka.mappers import utils\n",
    "from cosmotheka.cls.data import Data\n",
    "from cosmotheka.cls.cl import Cl\n",
    "from cosmotheka.cls.cov import Cov\n",
    "from astropy.io import fits\n",
    "from astropy.table import Table\n",
    "import pyccl as ccl\n",
    "import numpy as np\n",
    "import pylab as plt\n",
    "import pymaster as nmt\n",
    "import healpy as hp\n",
    "import numpy as np"
   ]
  },
  {
   "cell_type": "markdown",
   "metadata": {},
   "source": [
    "### Configurations"
   ]
  },
  {
   "cell_type": "code",
   "execution_count": 2,
   "metadata": {},
   "outputs": [],
   "source": [
    "data = Data(data_path=\"../config_files/master.yml\")"
   ]
  },
  {
   "cell_type": "code",
   "execution_count": 3,
   "metadata": {},
   "outputs": [
    {
     "data": {
      "text/plain": [
       "{'mapper_class': 'MapperHSCDR1wl',\n",
       " 'data_catalogs': [['../../cataloges/HSC_DR1/HSC_WIDE_GAMA09H.fits'],\n",
       "  ['../../cataloges/HSC_DR1/HSC_WIDE_GAMA15H.fits'],\n",
       "  ['../../cataloges/HSC_DR1/HSC_WIDE_HECTOMAP.fits'],\n",
       "  ['../../cataloges/HSC_DR1/HSC_WIDE_VVDS_part1.fits',\n",
       "   '../../cataloges/HSC_DR1/HSC_WIDE_VVDS_part2.fits'],\n",
       "  ['../../cataloges/HSC_DR1/HSC_WIDE_WIDE12H.fits'],\n",
       "  ['../../cataloges/HSC_DR1/HSC_WIDE_XMM.fits']],\n",
       " 'fname_cosmos': '../../cataloges/HSC_DR1/Afterburner_reweighted_COSMOS_photoz_FDFC.fits',\n",
       " 'fnames_cosmos_ph': ['../../cataloges/HSC_DR1/pdf-s17a_wide-9812.cat.fits',\n",
       "  '../../cataloges/HSC_DR1/pdf-s17a_wide-9813.cat.fits'],\n",
       " 'depth_cut': 24.5,\n",
       " 'z_edges': [0.3, 0.6],\n",
       " 'nbin_nz': 100,\n",
       " 'zlim_nz': [0.0, 4.0],\n",
       " 'mask_name': 'mask_HSC_wl0',\n",
       " 'bin_name': 'bin0'}"
      ]
     },
     "execution_count": 3,
     "metadata": {},
     "output_type": "execute_result"
    }
   ],
   "source": [
    "data.data['tracers']['HSCDR1wl__0']"
   ]
  },
  {
   "cell_type": "markdown",
   "metadata": {},
   "source": [
    "### Mappers"
   ]
  },
  {
   "cell_type": "code",
   "execution_count": 4,
   "metadata": {},
   "outputs": [],
   "source": [
    "HSC__0 = data.get_mapper(\"HSCDR1wl__0\")\n",
    "HSC__1 = data.get_mapper(\"HSCDR1wl__1\")\n",
    "HSC__2 = data.get_mapper(\"HSCDR1wl__2\")\n",
    "HSC__3 = data.get_mapper(\"HSCDR1wl__3\")"
   ]
  },
  {
   "cell_type": "code",
   "execution_count": null,
   "metadata": {},
   "outputs": [],
   "source": [
    "HSC__0_map = HSC__0.get_signal_map()\n",
    "HSC__1_map = HSC__1.get_signal_map()\n",
    "HSC__2_map = HSC__2.get_signal_map()\n",
    "HSC__3_map = HSC__3.get_signal_map()"
   ]
  },
  {
   "cell_type": "code",
   "execution_count": null,
   "metadata": {},
   "outputs": [],
   "source": [
    "CMASS = data.get_mapper(\"SDSS__CMASS\")\n",
    "LOWZ = data.get_mapper(\"SDSS__LOWZ\")"
   ]
  },
  {
   "cell_type": "code",
   "execution_count": null,
   "metadata": {},
   "outputs": [],
   "source": [
    "CMASS_map = CMASS.get_signal_map()\n",
    "LOWZ_map = LOWZ.get_signal_map()"
   ]
  },
  {
   "cell_type": "code",
   "execution_count": null,
   "metadata": {},
   "outputs": [],
   "source": [
    "hp.visufunc.mollview(map=np.array(KiDS1000__1_map)[0])"
   ]
  },
  {
   "cell_type": "code",
   "execution_count": null,
   "metadata": {},
   "outputs": [],
   "source": [
    "hp.visufunc.mollview(map=np.array(QSO_0_map)[0])"
   ]
  },
  {
   "cell_type": "code",
   "execution_count": null,
   "metadata": {},
   "outputs": [],
   "source": [
    "hp.visufunc.mollview(map=np.array(QSO_1_map)[0])"
   ]
  },
  {
   "cell_type": "code",
   "execution_count": null,
   "metadata": {},
   "outputs": [],
   "source": [
    "hp.visufunc.mollview(map=np.array(LRG_map)[0])"
   ]
  },
  {
   "cell_type": "code",
   "execution_count": null,
   "metadata": {},
   "outputs": [],
   "source": [
    "hp.visufunc.mollview(map=np.array(ELG_map)[0])"
   ]
  },
  {
   "cell_type": "markdown",
   "metadata": {},
   "source": [
    "### Cl's"
   ]
  },
  {
   "cell_type": "code",
   "execution_count": null,
   "metadata": {},
   "outputs": [],
   "source": [
    "cl_K1K1_QSO0 = Cl(data.data, \"KiDS1000__3\", \"SDSS__QSO0\")\n",
    "cl_K1k1_QSO1 = Cl(data.data, \"KiDS1000__3\", \"SDSS__QSO1\")\n",
    "cl_K1K1_LRG = Cl(data.data, \"KiDS1000__3\", \"SDSS__LRG\")\n",
    "cl_K1K1_ELG = Cl(data.data, \"KiDS1000__3\", \"SDSS__ELG\")\n",
    "\n",
    "cl_K1K1_QSO0 = cl_K1K1_QSO0.get_ell_cl()\n",
    "cl_K1K1_QSO1 = cl_K1k1_QSO1.get_ell_cl()\n",
    "cl_K1K1_LRG = cl_K1K1_LRG.get_ell_cl()\n",
    "cl_K1K1_ELG = cl_K1K1_ELG.get_ell_cl()"
   ]
  },
  {
   "cell_type": "markdown",
   "metadata": {},
   "source": [
    "### Covariance Matrix"
   ]
  },
  {
   "cell_type": "code",
   "execution_count": null,
   "metadata": {},
   "outputs": [],
   "source": [
    "cov_K1K1_K1K1_QSO0_QSO0 = Cov(data.data, \"KiDS1000__3\", \"KiDS1000__3\", \"SDSS__QSO0\", \"SDSS__QSO0\")\n",
    "cov_K1K1_K1K1_QSO1_QSO1 = Cov(data.data, \"KiDS1000__3\", \"KiDS1000__3\", \"SDSS__QSO1\", \"SDSS__QSO1\")\n",
    "cov_K1K1_K1K1_LRG_LRG = Cov(data.data, \"KiDS1000__3\", \"KiDS1000__3\", \"SDSS__LRG\", \"SDSS__LRG\")\n",
    "cov_K1K1_K1K1_ELG_ELG = Cov(data.data, \"KiDS1000__3\", \"KiDS1000__3\", \"SDSS__ELG\", \"SDSS__ELG\")\n",
    "\n",
    "cov_K1K1_K1K1_QSO0_QSO0 = cov_K1K1_K1K1_QSO0_QSO0.get_covariance()\n",
    "cov_K1K1_K1K1_QSO1_QSO1 = cov_K1K1_K1K1_QSO1_QSO1.get_covariance()\n",
    "cov_K1K1_K1K1_LRG_LRG = cov_K1K1_K1K1_LRG_LRG.get_covariance()\n",
    "cov_K1K1_K1K1_ELG_ELG = cov_K1K1_K1K1_ELG_ELG.get_covariance()"
   ]
  },
  {
   "cell_type": "code",
   "execution_count": null,
   "metadata": {},
   "outputs": [],
   "source": [
    "err_K1K1_QSO0 = np.sqrt(np.diag(cov_K1K1_K1K1_QSO0_QSO0))\n",
    "err_K1K1_QSO1 = np.sqrt(np.diag(cov_K1K1_K1K1_QSO1_QSO1))\n",
    "err_K1K1_LRG = np.sqrt(np.diag(cov_K1K1_K1K1_LRG_LRG))\n",
    "err_K1K1_ELG = np.sqrt(np.diag(cov_K1K1_K1K1_ELG_ELG))"
   ]
  },
  {
   "cell_type": "markdown",
   "metadata": {},
   "source": [
    "### Theory Cl's"
   ]
  },
  {
   "cell_type": "code",
   "execution_count": null,
   "metadata": {},
   "outputs": [],
   "source": [
    "cosmo = ccl.Cosmology(Omega_c=0.27, Omega_b=0.049, h=0.67, sigma8=0.81, n_s=0.96)\n",
    "\n",
    "QSO_0_nz = QSO_0.get_nz()\n",
    "QSO_1_nz = QSO_1.get_nz()\n",
    "LRG_nz = LRG.get_nz()\n",
    "ELG_nz = ELG.get_nz()\n",
    "\n",
    "QSO_0_z = QSO_0_nz[0]\n",
    "QSO_0_dNdz = QSO_0_nz[1]\n",
    "QSO_1_z = QSO_1_nz[0]\n",
    "QSO_1_dNdz = QSO_1_nz[1]\n",
    "LRG_z = LRG_nz[0]\n",
    "LRG_dNdz = LRG_nz[1]\n",
    "ELG_z = ELG_nz[0]\n",
    "ELG_dNdz = ELG_nz[1]\n",
    "\n",
    "b_QSO_0 = data.data[\"tracers\"][\"SDSS__QSO0\"][\"bias\"]*np.ones(len(QSO_0_z))\n",
    "b_QSO_1 = data.data[\"tracers\"][\"SDSS__QSO1\"][\"bias\"]*np.ones(len(QSO_1_z))\n",
    "b_LRG = data.data[\"tracers\"][\"SDSS__LRG\"][\"bias\"]*np.ones(len(LRG_z))\n",
    "b_ELG = data.data[\"tracers\"][\"SDSS__ELG\"][\"bias\"]*np.ones(len(ELG_z))\n",
    "\n",
    "tracer_QSO0 = ccl.NumberCountsTracer(cosmo, has_rsd=False, dndz=(QSO_0_z, QSO_0_dNdz), bias=(QSO_0_z, b_QSO_0))\n",
    "tracer_QSO1 = ccl.NumberCountsTracer(cosmo, has_rsd=False, dndz=(QSO_1_z, QSO_1_dNdz), bias=(QSO_1_z, b_QSO_1))\n",
    "tracer_LRG = ccl.NumberCountsTracer(cosmo, has_rsd=False, dndz=(LRG_z, LRG_dNdz), bias=(LRG_z, b_LRG))\n",
    "tracer_ELG = ccl.NumberCountsTracer(cosmo, has_rsd=False, dndz=(ELG_z, ELG_dNdz), bias=(ELG_z, b_ELG))\n",
    "\n",
    "#KiDS1000__0_nz = KiDS1000__0.get_nz()\n",
    "KiDS1000__1_nz = KiDS1000__1.get_nz()\n",
    "#KiDS1000__2_nz = KiDS1000__2.get_nz()\n",
    "#KiDS1000__3_nz = KiDS1000__3.get_nz()\n",
    "#KiDS1000__4_nz = KiDS1000__4.get_nz()\n",
    "\n",
    "#KiDS1000__0_z, KiDS1000__0_dNdz = KiDS1000__0_nz[0], KiDS1000__0_nz[1]\n",
    "KiDS1000__1_z, KiDS1000__1_dNdz = KiDS1000__1_nz[0], KiDS1000__1_nz[1]\n",
    "#KiDS1000__2_z, KiDS1000__2_dNdz = KiDS1000__2_nz[0], KiDS1000__2_nz[1]\n",
    "#KiDS1000__3_z, KiDS1000__3_dNdz = KiDS1000__3_nz[0], KiDS1000__3_nz[1]\n",
    "#KiDS1000__4_z, KiDS1000__4_dNdz = KiDS1000__4_nz[0], KiDS1000__4_nz[1]\n",
    "\n",
    "#tracer_KiDS1000__0 = ccl.WeakLensingTracer(cosmo, has_shear=True, dndz=(KiDS1000__0_z, KiDS1000__0_dNdz))\n",
    "tracer_KiDS1000__1 = ccl.WeakLensingTracer(cosmo, has_shear=True, dndz=(KiDS1000__1_z, KiDS1000__1_dNdz))\n",
    "#tracer_KiDS1000__2 = ccl.WeakLensingTracer(cosmo, has_shear=True, dndz=(KiDS1000__2_z, KiDS1000__2_dNdz))\n",
    "#tracer_KiDS1000__3 = ccl.WeakLensingTracer(cosmo, has_shear=True, dndz=(KiDS1000__3_z, KiDS1000__3_dNdz))\n",
    "#tracer_KiDS1000__4 = ccl.WeakLensingTracer(cosmo, has_shear=True, dndz=(KiDS1000__4_z, KiDS1000__4_dNdz))\n",
    "\n",
    "clt_K1K1_QSO0 = ccl.angular_cl(cosmo, tracer_KiDS1000__1, tracer_QSO0, cl_K1K1_QSO0[0]) \n",
    "clt_K1K1_QSO1 = ccl.angular_cl(cosmo, tracer_KiDS1000__1, tracer_QSO1, cl_K1K1_QSO1[0]) \n",
    "clt_K1K1_LRG = ccl.angular_cl(cosmo, tracer_KiDS1000__1, tracer_LRG, cl_K1K1_LRG[0])  \n",
    "clt_K1K1_ELG = ccl.angular_cl(cosmo, tracer_KiDS1000__1, tracer_ELG, cl_K1K1_ELG[0]) "
   ]
  },
  {
   "cell_type": "markdown",
   "metadata": {},
   "source": [
    "### Comparison"
   ]
  },
  {
   "cell_type": "code",
   "execution_count": null,
   "metadata": {},
   "outputs": [],
   "source": [
    "plt.plot(ELG_z, ELG_dNdz/np.max(ELG_dNdz), label='ELG')\n",
    "plt.plot(LRG_z, LRG_dNdz/np.max(LRG_dNdz), label='LRG')\n",
    "plt.plot(KiDS1000__1_z, KiDS1000__1_dNdz/np.max(KiDS1000__1_dNdz), label='KiDS1000')\n",
    "plt.legend()\n",
    "plt.show()"
   ]
  },
  {
   "cell_type": "code",
   "execution_count": null,
   "metadata": {},
   "outputs": [],
   "source": [
    "plt.plot(QSO_0_z, QSO_0_dNdz/np.max(QSO_0_dNdz), label='QSO_0')\n",
    "plt.plot(QSO_1_z, QSO_1_dNdz/np.max(QSO_1_dNdz), label='QSO_1')\n",
    "plt.plot(KiDS1000__1_z, KiDS1000__1_dNdz/np.max(KiDS1000__1_dNdz), label='KiDS1000')\n",
    "plt.legend()\n",
    "plt.show()"
   ]
  },
  {
   "cell_type": "code",
   "execution_count": null,
   "metadata": {},
   "outputs": [],
   "source": [
    "plt.errorbar(cl_QSO0_QSO0[0], cl_QSO0_QSO0[1][0], yerr=err_QSO0_QSO0, fmt='o-', label='data')\n",
    "plt.plot(cl_QSO0_QSO0[0], clt_QSO0_QSO0, 'o-', label='theory')\n",
    "plt.title('QSO0-QSO0')\n",
    "plt.xlabel('$\\\\ell$', fontsize=16)\n",
    "plt.ylabel('$C_\\\\ell$', fontsize=16)\n",
    "plt.legend(loc='lower left', ncol=2, labelspacing=0.1)\n",
    "plt.xscale(\"log\")\n",
    "plt.yscale(\"log\")\n",
    "plt.show()"
   ]
  },
  {
   "cell_type": "code",
   "execution_count": null,
   "metadata": {},
   "outputs": [],
   "source": [
    "plt.errorbar(cl_QSO1_QSO1[0], cl_QSO1_QSO1[1][0], yerr=err_QSO1_QSO1, fmt='o-', label='data')\n",
    "plt.plot(cl_QSO1_QSO1[0], clt_QSO1_QSO1, 'o-', label='theory')\n",
    "plt.title('QSO1-QSO1')\n",
    "plt.xlabel('$\\\\ell$', fontsize=16)\n",
    "plt.ylabel('$C_\\\\ell$', fontsize=16)\n",
    "plt.legend(loc='lower left', ncol=2, labelspacing=0.1)\n",
    "plt.xscale(\"log\")\n",
    "plt.yscale(\"log\")\n",
    "plt.show()"
   ]
  },
  {
   "cell_type": "code",
   "execution_count": null,
   "metadata": {},
   "outputs": [],
   "source": [
    "plt.errorbar(cl_LRG_LRG[0], cl_LRG_LRG[1][0], yerr=err_LRG_LRG, fmt='o-', label='data')\n",
    "plt.plot(cl_LRG_LRG[0], clt_LRG_LRG, 'o-', label='theory')\n",
    "plt.title('LRG-LRG')\n",
    "plt.xlabel('$\\\\ell$', fontsize=16)\n",
    "plt.ylabel('$C_\\\\ell$', fontsize=16)\n",
    "plt.legend(loc='lower left', ncol=2, labelspacing=0.1)\n",
    "plt.xscale(\"log\")\n",
    "plt.yscale(\"log\")\n",
    "plt.show()"
   ]
  },
  {
   "cell_type": "code",
   "execution_count": null,
   "metadata": {},
   "outputs": [],
   "source": [
    "plt.errorbar(cl_ELG_ELG[0], cl_ELG_ELG[1][0], yerr=err_ELG_ELG, fmt='o-', label='data')\n",
    "plt.plot(cl_ELG_ELG[0], clt_ELG_ELG, 'o-', label='theory')\n",
    "plt.title('ELG-ELG')\n",
    "plt.xlabel('$\\\\ell$', fontsize=16)\n",
    "plt.ylabel('$C_\\\\ell$', fontsize=16)\n",
    "plt.legend(loc='lower left', ncol=2, labelspacing=0.1)\n",
    "plt.xscale(\"log\")\n",
    "plt.yscale(\"log\")\n",
    "plt.show()"
   ]
  },
  {
   "cell_type": "code",
   "execution_count": null,
   "metadata": {},
   "outputs": [],
   "source": [
    "SDSS_QSO0 = {\n",
    "    \"nz\": QSO_0_nz,\n",
    "    \"cl\": cl_QSO0_QSO0,\n",
    "    \"err\": err_QSO0_QSO0,\n",
    "    }\n",
    "SDSS_QSO1 = {\n",
    "    \"nz\": QSO_1_nz,\n",
    "    \"cl\": cl_QSO1_QSO1,\n",
    "    \"err\": err_QSO1_QSO1,\n",
    "    }\n",
    "SDSS_LRG = {\n",
    "    \"nz\": LRG_nz,\n",
    "    \"cl\": cl_LRG_LRG,\n",
    "    \"err\": err_LRG_LRG,\n",
    "    }\n",
    "SDSS_ELG = {\n",
    "    \"nz\": ELG_nz,\n",
    "    \"cl\": cl_ELG_ELG,\n",
    "    \"err\": err_ELG_ELG,\n",
    "    }"
   ]
  },
  {
   "cell_type": "code",
   "execution_count": null,
   "metadata": {},
   "outputs": [],
   "source": [
    "np.savez(\"../results/SDSS_QSO0\", SDSS_QSO0)\n",
    "np.savez(\"../results/SDSS_QSO1\", SDSS_QSO1)\n",
    "np.savez(\"../results/SDSS_LRG\", SDSS_LRG)\n",
    "np.savez(\"../results/SDSS_ELG\", SDSS_ELG)"
   ]
  },
  {
   "cell_type": "code",
   "execution_count": null,
   "metadata": {},
   "outputs": [],
   "source": [
    "import shutil\n",
    "shutil.rmtree(\"../reruns/\")"
   ]
  },
  {
   "cell_type": "code",
   "execution_count": null,
   "metadata": {},
   "outputs": [],
   "source": []
  }
 ],
 "metadata": {
  "kernelspec": {
   "display_name": "tutorials",
   "language": "python",
   "name": "python3"
  },
  "language_info": {
   "codemirror_mode": {
    "name": "ipython",
    "version": 3
   },
   "file_extension": ".py",
   "mimetype": "text/x-python",
   "name": "python",
   "nbconvert_exporter": "python",
   "pygments_lexer": "ipython3",
   "version": "3.9.17"
  }
 },
 "nbformat": 4,
 "nbformat_minor": 4
}
