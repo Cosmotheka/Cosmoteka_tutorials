{
 "cells": [
  {
   "cell_type": "markdown",
   "metadata": {},
   "source": [
    "# BOSS"
   ]
  },
  {
   "cell_type": "markdown",
   "metadata": {},
   "source": [
    "### Imports"
   ]
  },
  {
   "cell_type": "code",
   "execution_count": null,
   "metadata": {},
   "outputs": [],
   "source": [
    "# some_file.py\n",
    "import sys\n",
    "import yaml\n",
    "# insert at 1, 0 is the script path (or '' in REPL)\n",
    "\n",
    "sys.path.insert(1, '/home/jaimerz/PhD/xCell')\n",
    "\n",
    "from xcell.mappers import MapperBOSS\n",
    "from xcell.mappers import utils\n",
    "from xcell.cls.data import Data\n",
    "from xcell.cls.cl import Cl\n",
    "from xcell.cls.cov import Cov\n",
    "from astropy.io import fits\n",
    "from astropy.table import Table\n",
    "import pyccl as ccl\n",
    "import numpy as np\n",
    "import pylab as plt\n",
    "import pymaster as nmt\n",
    "import healpy as hp\n",
    "import numpy as np"
   ]
  },
  {
   "cell_type": "markdown",
   "metadata": {},
   "source": [
    "### Configurations"
   ]
  },
  {
   "cell_type": "code",
   "execution_count": null,
   "metadata": {},
   "outputs": [],
   "source": [
    "data = Data(data_path=\"../config_files/master.yml\")"
   ]
  },
  {
   "cell_type": "markdown",
   "metadata": {},
   "source": [
    "### Mappers"
   ]
  },
  {
   "cell_type": "code",
   "execution_count": null,
   "metadata": {},
   "outputs": [],
   "source": [
    "CMASS = data.get_mapper(\"SDSS__CMASS\")\n",
    "LOWZ = data.get_mapper(\"SDSS__LOWZ\")\n"
   ]
  },
  {
   "cell_type": "code",
   "execution_count": null,
   "metadata": {},
   "outputs": [],
   "source": [
    "CMASS_map = CMASS.get_signal_map()\n",
    "LOWZ_map = LOWZ.get_signal_map()"
   ]
  },
  {
   "cell_type": "code",
   "execution_count": null,
   "metadata": {},
   "outputs": [],
   "source": [
    "hp.visufunc.mollview(map=np.array(CMASS_map)[0])"
   ]
  },
  {
   "cell_type": "code",
   "execution_count": null,
   "metadata": {},
   "outputs": [],
   "source": [
    "hp.visufunc.mollview(map=np.array(LOWZ_map)[0])"
   ]
  },
  {
   "cell_type": "markdown",
   "metadata": {},
   "source": [
    "### Cl's"
   ]
  },
  {
   "cell_type": "code",
   "execution_count": null,
   "metadata": {},
   "outputs": [],
   "source": [
    "cl_CMASS_CMASS = Cl(data.data, \"SDSS__CMASS\", \"SDSS__CMASS\")\n",
    "cl_LOWZ_LOWZ = Cl(data.data, \"SDSS__LOWZ\", \"SDSS__LOWZ\")\n",
    "\n",
    "cl_CMASS_CMASS = cl_CMASS_CMASS.get_ell_cl()\n",
    "cl_LOWZ_LOWZ = cl_LOWZ_LOWZ.get_ell_cl()"
   ]
  },
  {
   "cell_type": "markdown",
   "metadata": {},
   "source": [
    "### Covariance Matrix"
   ]
  },
  {
   "cell_type": "code",
   "execution_count": null,
   "metadata": {},
   "outputs": [],
   "source": [
    "cov_CMASS_CMASS_CMASS_CMASS = Cov(data.data, \"SDSS__CMASS\", \"SDSS__CMASS\", \"SDSS__CMASS\", \"SDSS__CMASS\")\n",
    "cov_LOWZ_LOWZ_LOWZ_LOWZ = Cov(data.data, \"SDSS__LOWZ\", \"SDSS__LOWZ\", \"SDSS__LOWZ\", \"SDSS__LOWZ\")\n",
    "\n",
    "cov_CMASS_CMASS_CMASS_CMASS = cov_CMASS_CMASS_CMASS_CMASS.get_covariance()\n",
    "cov_LOWZ_LOWZ_LOWZ_LOWZ = cov_LOWZ_LOWZ_LOWZ_LOWZ.get_covariance()"
   ]
  },
  {
   "cell_type": "code",
   "execution_count": null,
   "metadata": {},
   "outputs": [],
   "source": [
    "err_CMASS_CMASS = np.sqrt(np.diag(cov_CMASS_CMASS_CMASS_CMASS))\n",
    "err_LOWZ_LOWZ = np.sqrt(np.diag(cov_LOWZ_LOWZ_LOWZ_LOWZ))"
   ]
  },
  {
   "cell_type": "markdown",
   "metadata": {},
   "source": [
    "### Theory Cl's"
   ]
  },
  {
   "cell_type": "code",
   "execution_count": null,
   "metadata": {},
   "outputs": [],
   "source": [
    "cosmo = ccl.Cosmology(Omega_c=0.27, Omega_b=0.049, h=0.67, sigma8=0.81, n_s=0.96)\n",
    "\n",
    "CMASS_nz = CMASS.get_nz()\n",
    "LOWZ_nz = LOWZ.get_nz()\n",
    "\n",
    "CMASS_z = CMASS_nz[0]\n",
    "CMASS_dNdz = CMASS_nz[1]\n",
    "LOWZ_z = LOWZ_nz[0]\n",
    "LOWZ_dNdz = LOWZ_nz[1]\n",
    "\n",
    "b_CMASS = data.data[\"tracers\"][\"SDSS__CMASS\"][\"bias\"]*np.ones(len(CMASS_z))\n",
    "b_LOWZ = data.data[\"tracers\"][\"SDSS__LOWZ\"][\"bias\"]*np.ones(len(LOWZ_z))\n",
    "\n",
    "tracer_CMASS = ccl.NumberCountsTracer(cosmo, has_rsd=False, dndz=(CMASS_z, CMASS_dNdz), bias=(CMASS_z, b_CMASS))\n",
    "tracer_LOWZ = ccl.NumberCountsTracer(cosmo, has_rsd=False, dndz=(LOWZ_z, LOWZ_dNdz), bias=(LOWZ_z, b_LOWZ))\n",
    "\n",
    "clt_CMASS_CMASS = ccl.angular_cl(cosmo, tracer_CMASS, tracer_CMASS, cl_CMASS_CMASS[0]) \n",
    "clt_LOWZ_LOWZ = ccl.angular_cl(cosmo, tracer_LOWZ, tracer_LOWZ, cl_LOWZ_LOWZ[0]) "
   ]
  },
  {
   "cell_type": "markdown",
   "metadata": {},
   "source": [
    "### Comparison"
   ]
  },
  {
   "cell_type": "code",
   "execution_count": null,
   "metadata": {},
   "outputs": [],
   "source": [
    "plt.plot(CMASS_z, CMASS_dNdz, label='CMASS')\n",
    "plt.plot(LOWZ_z, LOWZ_dNdz, label='LOWZ')\n",
    "plt.legend()\n",
    "plt.show()"
   ]
  },
  {
   "cell_type": "code",
   "execution_count": null,
   "metadata": {},
   "outputs": [],
   "source": [
    "plt.errorbar(cl_CMASS_CMASS[0], cl_CMASS_CMASS[1][0], yerr=err_CMASS_CMASS, fmt='o-', label='data')\n",
    "plt.plot(cl_CMASS_CMASS[0], clt_CMASS_CMASS, 'o-', label='theory')\n",
    "plt.title('CMASS-CMASS')\n",
    "plt.xlabel('$\\\\ell$', fontsize=16)\n",
    "plt.ylabel('$C_\\\\ell$', fontsize=16)\n",
    "plt.legend(loc='lower left', ncol=2, labelspacing=0.1)\n",
    "plt.xscale(\"log\")\n",
    "plt.yscale(\"log\")\n",
    "plt.show()"
   ]
  },
  {
   "cell_type": "code",
   "execution_count": null,
   "metadata": {},
   "outputs": [],
   "source": [
    "plt.errorbar(cl_LOWZ_LOWZ[0], cl_LOWZ_LOWZ[1][0], yerr=err_LOWZ_LOWZ, fmt='o-', label='data')\n",
    "plt.plot(cl_LOWZ_LOWZ[0], clt_LOWZ_LOWZ, 'o-', label='theory')\n",
    "plt.title('LOWZ-LOWZ')\n",
    "plt.xlabel('$\\\\ell$', fontsize=16)\n",
    "plt.ylabel('$C_\\\\ell$', fontsize=16)\n",
    "plt.legend(loc='lower left', ncol=2, labelspacing=0.1)\n",
    "plt.xscale(\"log\")\n",
    "plt.yscale(\"log\")\n",
    "plt.show()"
   ]
  },
  {
   "cell_type": "code",
   "execution_count": null,
   "metadata": {},
   "outputs": [],
   "source": [
    "SDSS_CMASS = {\n",
    "    \"nz\": CMASS_nz,\n",
    "    \"cl\": cl_CMASS_CMASS,\n",
    "    \"err\": err_CMASS_CMASS,\n",
    "    }\n",
    "SDSS_LOWZ = {\n",
    "    \"nz\": LOWZ_nz,\n",
    "    \"cl\": cl_LOWZ_LOWZ,\n",
    "    \"err\": err_LOWZ_LOWZ,\n",
    "    }"
   ]
  },
  {
   "cell_type": "code",
   "execution_count": null,
   "metadata": {},
   "outputs": [],
   "source": [
    "np.savez(\"../results/SDSS_CMASS\", SDSS_CMASS)\n",
    "np.savez(\"../results/SDSS_LOWZ\", SDSS_LOWZ)"
   ]
  },
  {
   "cell_type": "code",
   "execution_count": null,
   "metadata": {},
   "outputs": [],
   "source": [
    "import shutil\n",
    "shutil.rmtree(\"../reruns/\")"
   ]
  }
 ],
 "metadata": {
  "kernelspec": {
   "display_name": "Python 3",
   "language": "python",
   "name": "python3"
  },
  "language_info": {
   "codemirror_mode": {
    "name": "ipython",
    "version": 3
   },
   "file_extension": ".py",
   "mimetype": "text/x-python",
   "name": "python",
   "nbconvert_exporter": "python",
   "pygments_lexer": "ipython3",
   "version": "3.9.17"
  }
 },
 "nbformat": 4,
 "nbformat_minor": 4
}
