{
 "cells": [
  {
   "cell_type": "markdown",
   "metadata": {},
   "source": [
    "# Planck tSZ 15"
   ]
  },
  {
   "cell_type": "code",
   "execution_count": null,
   "metadata": {},
   "outputs": [],
   "source": [
    "# some_file.py\n",
    "import sys\n",
    "import yaml\n",
    "# insert at 1, 0 is the script path (or '' in REPL)\n",
    "\n",
    "sys.path.insert(1, '/home/jaimerz/PhD/xCell')\n",
    "\n",
    "from xcell.mappers import MapperP15tSZ\n",
    "from xcell.mappers import utils\n",
    "from xcell.cls.data import Data\n",
    "from xcell.cls.cl import Cl\n",
    "from xcell.cls.cov import Cov\n",
    "from astropy.io import fits\n",
    "from astropy.table import Table\n",
    "import pyccl as ccl\n",
    "import numpy as np\n",
    "import pylab as plt\n",
    "import pymaster as nmt\n",
    "import healpy as hp\n",
    "import numpy as np"
   ]
  },
  {
   "cell_type": "markdown",
   "metadata": {},
   "source": [
    "### Configurations"
   ]
  },
  {
   "cell_type": "code",
   "execution_count": null,
   "metadata": {},
   "outputs": [],
   "source": [
    "data = Data(data_path=\"../config_files/master.yml\")"
   ]
  },
  {
   "cell_type": "markdown",
   "metadata": {},
   "source": [
    "### Mappers"
   ]
  },
  {
   "cell_type": "code",
   "execution_count": null,
   "metadata": {},
   "outputs": [],
   "source": [
    "Planck__tSZ15 = data.get_mapper(\"Planck__tSZ15\")\n",
    "Planck__tSZ15_map = Planck__tSZ15.get_signal_map()"
   ]
  },
  {
   "cell_type": "code",
   "execution_count": null,
   "metadata": {},
   "outputs": [],
   "source": [
    "hp.visufunc.mollview(map=np.array(Planck__tSZ15_map)[0])"
   ]
  },
  {
   "cell_type": "markdown",
   "metadata": {},
   "source": [
    "### Cl's"
   ]
  },
  {
   "cell_type": "code",
   "execution_count": null,
   "metadata": {},
   "outputs": [],
   "source": [
    "cl_Planck__tSZ15_Planck__tSZ15 = Cl(data.data, \"Planck__tSZ15\", \"Planck__tSZ15\")\n",
    "cl_Planck__tSZ15_Planck__tSZ15 = cl_Planck__tSZ15_Planck__tSZ15.get_ell_cl()"
   ]
  },
  {
   "cell_type": "markdown",
   "metadata": {},
   "source": [
    "### Covariance Matrix"
   ]
  },
  {
   "cell_type": "code",
   "execution_count": null,
   "metadata": {},
   "outputs": [],
   "source": [
    "cov_Planck__tSZ15_Planck__tSZ15_Planck__tSZ15_Planck__tSZ15 = Cov(data.data, \"Planck__tSZ15\", \"Planck__tSZ15\", \"Planck__tSZ15\", \"Planck__tSZ15\")\n",
    "cov_Planck__tSZ15_Planck__tSZ15_Planck__tSZ15_Planck__tSZ15 = cov_Planck__tSZ15_Planck__tSZ15_Planck__tSZ15_Planck__tSZ15.get_covariance()\n",
    "err_Planck__tSZ15_Planck__tSZ15 = np.sqrt(np.diag(cov_Planck__tSZ15_Planck__tSZ15_Planck__tSZ15_Planck__tSZ15))"
   ]
  },
  {
   "cell_type": "markdown",
   "metadata": {},
   "source": [
    "### Theory Cl's"
   ]
  },
  {
   "cell_type": "code",
   "execution_count": null,
   "metadata": {},
   "outputs": [],
   "source": [
    "cosmo = ccl.Cosmology(Omega_c=0.27, Omega_b=0.049, h=0.67, sigma8=0.81, n_s=0.96)\n",
    "tracer_Planck__tSZ15 = ccl.CMBLensingTracer(cosmo, 1100)\n",
    "clt_Planck__tSZ15_Planck__tSZ15 = ccl.angular_cl(cosmo, tracer_Planck__tSZ15, tracer_Planck__tSZ15, ell_arr) "
   ]
  },
  {
   "cell_type": "markdown",
   "metadata": {},
   "source": [
    "### Comparison"
   ]
  },
  {
   "cell_type": "code",
   "execution_count": null,
   "metadata": {},
   "outputs": [],
   "source": [
    "plt.errorbar(cl_Planck__tSZ15_Planck__tSZ15[0], cl_Planck__tSZ15_Planck__tSZ15[1][0], yerr=err_Planck__tSZ15_Planck__tSZ15, fmt='o-', label='data')\n",
    "plt.plot(cl_Planck__tSZ15_Planck__tSZ15[0], clt_Planck__tSZ15_Planck__tSZ15, 'o-', label='theory')\n",
    "plt.title('Planck__tSZ15-Planck__tSZ15')\n",
    "plt.xlabel('$\\\\ell$', fontsize=16)\n",
    "plt.ylabel('$C_\\\\ell$', fontsize=16)\n",
    "plt.legend(loc='lower left', ncol=2, labelspacing=0.1)\n",
    "plt.xscale(\"log\")\n",
    "plt.yscale(\"log\")\n",
    "plt.show()"
   ]
  },
  {
   "cell_type": "code",
   "execution_count": null,
   "metadata": {},
   "outputs": [],
   "source": [
    "Planck__tSZ15 = {\n",
    "    \"cl\": cl_Planck__tSZ15_Planck__tSZ15,\n",
    "    \"err\": err_Planck__tSZ15_Planck__tSZ15,\n",
    "    }"
   ]
  },
  {
   "cell_type": "code",
   "execution_count": null,
   "metadata": {},
   "outputs": [],
   "source": [
    "np.savez(\"../results/Planck__tSZ15\", Planck__tSZ15)"
   ]
  },
  {
   "cell_type": "code",
   "execution_count": null,
   "metadata": {},
   "outputs": [],
   "source": [
    "import shutil\n",
    "shutil.rmtree(\"../reruns/\")"
   ]
  }
 ],
 "metadata": {
  "kernelspec": {
   "display_name": "Python 3",
   "language": "python",
   "name": "python3"
  },
  "language_info": {
   "codemirror_mode": {
    "name": "ipython",
    "version": 3
   },
   "file_extension": ".py",
   "mimetype": "text/x-python",
   "name": "python",
   "nbconvert_exporter": "python",
   "pygments_lexer": "ipython3",
   "version": "3.9.17"
  }
 },
 "nbformat": 4,
 "nbformat_minor": 4
}
